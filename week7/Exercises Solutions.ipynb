{
 "cells": [
  {
   "cell_type": "markdown",
   "id": "533ad3b9",
   "metadata": {},
   "source": [
    "# 7.1"
   ]
  },
  {
   "cell_type": "code",
   "execution_count": 5,
   "id": "871a99c0",
   "metadata": {},
   "outputs": [],
   "source": [
    "import csv\n",
    "import pandas as pd\n",
    "\n",
    "def total_rows(csv_file):\n",
    "    total_rows = -1\n",
    "    with open(csv_file, \"r\") as file:\n",
    "        reader = csv.reader(file)\n",
    "        for row in reader:\n",
    "            total_rows = total_rows +1\n",
    "    return total_rows\n",
    "\n",
    "def total_rows2(csv_file):\n",
    "    df = pd.read_csv(csv_file)\n",
    "    return df.shape[0]"
   ]
  },
  {
   "cell_type": "code",
   "execution_count": 6,
   "id": "fbccc575",
   "metadata": {},
   "outputs": [
    {
     "data": {
      "text/plain": [
       "15"
      ]
     },
     "execution_count": 6,
     "metadata": {},
     "output_type": "execute_result"
    }
   ],
   "source": [
    "total_rows2(\"data.txt\")"
   ]
  },
  {
   "cell_type": "markdown",
   "id": "39d7ef5b",
   "metadata": {},
   "source": [
    "# 7.2"
   ]
  },
  {
   "cell_type": "code",
   "execution_count": 25,
   "id": "d22c8a9a",
   "metadata": {},
   "outputs": [
    {
     "data": {
      "text/plain": [
       "{'Jenna Doe', 'John Doe'}"
      ]
     },
     "execution_count": 25,
     "metadata": {},
     "output_type": "execute_result"
    }
   ],
   "source": [
    "import json\n",
    "\n",
    "def unique_value_from_json(json_file, key):\n",
    "    unique = set()\n",
    "    with open (json_file, \"r\") as json_f:\n",
    "        json_file = json.load(json_f)\n",
    "        for el in json_file:\n",
    "            unique.add(el[key])\n",
    "    return unique\n",
    "\n",
    "unique_value_from_json(\"test.json\", \"name\")"
   ]
  },
  {
   "cell_type": "markdown",
   "id": "5f217404",
   "metadata": {},
   "source": [
    "# 7.3"
   ]
  },
  {
   "cell_type": "code",
   "execution_count": 26,
   "id": "0bf7e382",
   "metadata": {},
   "outputs": [],
   "source": [
    "def replace_text(text_file, word, replacement):\n",
    "    with open(text_file, \"r\") as input_text:\n",
    "        content = input_text.read()\n",
    "        content = content.replace(word, replacement)\n",
    "    with open(text_file, \"w\") as output_text:\n",
    "        output_text.write(content)"
   ]
  },
  {
   "cell_type": "code",
   "execution_count": 27,
   "id": "a5b8889f",
   "metadata": {},
   "outputs": [],
   "source": [
    "replace_text(\"output.txt\", \"world\", \"students\")"
   ]
  },
  {
   "cell_type": "markdown",
   "id": "5daf38a5",
   "metadata": {},
   "source": [
    "# 7.4"
   ]
  },
  {
   "cell_type": "code",
   "execution_count": 29,
   "id": "236e3f58",
   "metadata": {},
   "outputs": [],
   "source": [
    "import pandas as pd\n",
    "\n",
    "def load_csv(file):\n",
    "    return pd.read_csv(file)\n",
    "\n",
    "df = load_csv(\"data.csv\")"
   ]
  },
  {
   "cell_type": "markdown",
   "id": "2a109050",
   "metadata": {},
   "source": [
    "# 7.5"
   ]
  },
  {
   "cell_type": "code",
   "execution_count": 44,
   "id": "c35ed874",
   "metadata": {},
   "outputs": [],
   "source": [
    "import pandas as pd\n",
    "def get_columns_list(dataframe):\n",
    "    return dataframe.columns.values.tolist()"
   ]
  },
  {
   "cell_type": "code",
   "execution_count": 45,
   "id": "7864e54a",
   "metadata": {},
   "outputs": [
    {
     "data": {
      "text/plain": [
       "['Name', 'Age']"
      ]
     },
     "execution_count": 45,
     "metadata": {},
     "output_type": "execute_result"
    }
   ],
   "source": [
    "get_columns_list(df)"
   ]
  },
  {
   "cell_type": "markdown",
   "id": "48e0014a",
   "metadata": {},
   "source": [
    "# 7.6"
   ]
  },
  {
   "cell_type": "code",
   "execution_count": 52,
   "id": "6cbdfc85",
   "metadata": {},
   "outputs": [
    {
     "data": {
      "text/plain": [
       "74.5"
      ]
     },
     "execution_count": 52,
     "metadata": {},
     "output_type": "execute_result"
    }
   ],
   "source": [
    "import pandas as pd\n",
    "def calculate_column_average(data, column_name):\n",
    "    return data[column_name].mean()\n",
    "\n",
    "calculate_column_average(df, \"Age\")"
   ]
  },
  {
   "cell_type": "markdown",
   "id": "fdd79f9d",
   "metadata": {},
   "source": [
    "# 7.7"
   ]
  },
  {
   "cell_type": "code",
   "execution_count": 55,
   "id": "96134c6a",
   "metadata": {},
   "outputs": [],
   "source": [
    "import pandas as pd\n",
    "def save_data_to_csv(data, filename):\n",
    "    data.to_csv(filename)"
   ]
  },
  {
   "cell_type": "code",
   "execution_count": 56,
   "id": "7f257946",
   "metadata": {},
   "outputs": [],
   "source": [
    "save_data_to_csv(df, \"test.csv\")"
   ]
  },
  {
   "cell_type": "code",
   "execution_count": null,
   "id": "6eaad666",
   "metadata": {},
   "outputs": [],
   "source": []
  }
 ],
 "metadata": {
  "kernelspec": {
   "display_name": "Python 3 (ipykernel)",
   "language": "python",
   "name": "python3"
  },
  "language_info": {
   "codemirror_mode": {
    "name": "ipython",
    "version": 3
   },
   "file_extension": ".py",
   "mimetype": "text/x-python",
   "name": "python",
   "nbconvert_exporter": "python",
   "pygments_lexer": "ipython3",
   "version": "3.10.1"
  }
 },
 "nbformat": 4,
 "nbformat_minor": 5
}
