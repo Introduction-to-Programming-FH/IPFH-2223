{
 "cells": [
  {
   "cell_type": "markdown",
   "metadata": {
    "id": "2QH0LBPqG7MB"
   },
   "source": [
    "# Week 7: Files, Files, Files!\n",
    "\n",
    "## Reading and Writing to Files"
   ]
  },
  {
   "cell_type": "markdown",
   "metadata": {
    "id": "Tk44Z_chHDG9"
   },
   "source": [
    "### Reading a file\n",
    "\n",
    "To read data from a file in Python, we can use the **open()** function along with the file mode **'r'** (read mode). The **with** statement is used to automatically close a file when the indentation is done. The method **.read()** is used to read the content of a file and store them as a string somewhere."
   ]
  },
  {
   "cell_type": "code",
   "execution_count": 2,
   "metadata": {
    "colab": {
     "base_uri": "https://localhost:8080/"
    },
    "executionInfo": {
     "elapsed": 238,
     "status": "ok",
     "timestamp": 1684249959916,
     "user": {
      "displayName": "Bruno Sartini",
      "userId": "05292936127254060969"
     },
     "user_tz": -120
    },
    "id": "nq3qjDKDHCgN",
    "outputId": "49f4e911-baae-4c0c-bb78-84543fa082d3"
   },
   "outputs": [
    {
     "name": "stdout",
     "output_type": "stream",
     "text": [
      "sorry for forgetting the file\n"
     ]
    }
   ],
   "source": [
    "with open('data.txt', 'r') as file:\n",
    "    data = file.read()\n",
    "    print(data)"
   ]
  },
  {
   "cell_type": "code",
   "execution_count": 7,
   "metadata": {},
   "outputs": [
    {
     "name": "stdout",
     "output_type": "stream",
     "text": [
      "sorry for forgetting the file\n",
      "line 2\n"
     ]
    }
   ],
   "source": [
    "file = open(\"data.txt\", \"r\")\n",
    "data = file.read()\n",
    "print(data)"
   ]
  },
  {
   "cell_type": "code",
   "execution_count": 4,
   "metadata": {},
   "outputs": [],
   "source": [
    "file.close()"
   ]
  },
  {
   "cell_type": "code",
   "execution_count": 9,
   "metadata": {
    "colab": {
     "base_uri": "https://localhost:8080/",
     "height": 35
    },
    "executionInfo": {
     "elapsed": 5,
     "status": "ok",
     "timestamp": 1684249978956,
     "user": {
      "displayName": "Bruno Sartini",
      "userId": "05292936127254060969"
     },
     "user_tz": -120
    },
    "id": "R7mjJO_hHtqr",
    "outputId": "53b735e7-8211-438d-8379-69b175cf1183"
   },
   "outputs": [
    {
     "name": "stdout",
     "output_type": "stream",
     "text": [
      "['sorry for forgetting the file', 'line 2']\n"
     ]
    }
   ],
   "source": [
    "splitted = data.split(\"\\n\")\n",
    "print(splitted)"
   ]
  },
  {
   "cell_type": "markdown",
   "metadata": {
    "id": "nwIWU32zH5sY"
   },
   "source": [
    "### Writing to a File (txt)\n",
    "To write data to a file in Python, we can use the **open()** function with the file mode **'w'** (write mode). If there is no filename that matches with what you write inside open(), Python will create a new file with that name. \n",
    "\n",
    "You use the **.write()** method to write information.\n",
    "\n",
    "**important** if you want to add information to a file that already contains text, you need to open it with the file mode **\"a\"** (append mode), otherwise you will **rewrite the content of the entire file**"
   ]
  },
  {
   "cell_type": "code",
   "execution_count": 11,
   "metadata": {
    "id": "BG-gwZ1WHx2h"
   },
   "outputs": [],
   "source": [
    "with open('output.txt', 'w') as file:\n",
    "    file.write('Hello world 2')"
   ]
  },
  {
   "cell_type": "markdown",
   "metadata": {
    "id": "AFRxpAubIwyb"
   },
   "source": [
    "## Reading and Writing CSV files\n",
    "\n",
    "CSV means comma separated value. A csv file is like a table where the separation between one column and the other is usually given by the \",\" character.\n",
    "\n",
    "### Reading csv files\n",
    "\n",
    "To read data from a CSV file in Python, we can use the **csv** module and its **reader** object.\n",
    "\n",
    "We use the **.reader(file_variable_name)** from the csv module to read the content of a CSV."
   ]
  },
  {
   "cell_type": "code",
   "execution_count": 17,
   "metadata": {
    "colab": {
     "base_uri": "https://localhost:8080/"
    },
    "executionInfo": {
     "elapsed": 206,
     "status": "ok",
     "timestamp": 1684250864179,
     "user": {
      "displayName": "Bruno Sartini",
      "userId": "05292936127254060969"
     },
     "user_tz": -120
    },
    "id": "emcm7-rjJGAz",
    "outputId": "6bafc3e3-c204-4dcd-ebbf-63abee26d429"
   },
   "outputs": [
    {
     "name": "stdout",
     "output_type": "stream",
     "text": [
      "['Name', 'Age']\n",
      "['John', '25']\n",
      "['Sarah', '30']\n",
      "['James', '99']\n"
     ]
    }
   ],
   "source": [
    "import csv\n",
    "\n",
    "with open('data.csv', 'r') as file:\n",
    "    reader = csv.reader(file)\n",
    "    for row in reader: # we can iterate over the rows and print them as lists\n",
    "        print(row)\n"
   ]
  },
  {
   "cell_type": "code",
   "execution_count": null,
   "metadata": {},
   "outputs": [],
   "source": []
  },
  {
   "cell_type": "markdown",
   "metadata": {
    "id": "wJ9s4SDuJO3u"
   },
   "source": [
    "### Writing csv files\n",
    "\n",
    "To write data to a CSV file in Python, we can use again the **csv** module. And we need to create a writer object, and then use it to write rows using the **.writerow(rows)** or **.writerows(rows)** methods. \n",
    "\n",
    "**important** if you want to add information to a file that already contains text, you need to open it with the file mode **\"a\"** (append mode). If you use the **w** mode you will overwrite the content of the file."
   ]
  },
  {
   "cell_type": "code",
   "execution_count": 19,
   "metadata": {
    "colab": {
     "base_uri": "https://localhost:8080/"
    },
    "executionInfo": {
     "elapsed": 217,
     "status": "ok",
     "timestamp": 1684251131715,
     "user": {
      "displayName": "Bruno Sartini",
      "userId": "05292936127254060969"
     },
     "user_tz": -120
    },
    "id": "S3exjU3wJHU-",
    "outputId": "e7388acd-b790-49f8-f22e-3dd6472fd0ed"
   },
   "outputs": [
    {
     "name": "stdout",
     "output_type": "stream",
     "text": [
      "['Name', 'Age']\n",
      "['John', '25']\n",
      "['Sarah', '30']\n",
      "['James', '99']\n",
      "['Mary', '99']\n",
      "['Mary', '99']\n"
     ]
    }
   ],
   "source": [
    "import csv\n",
    "\n",
    "\n",
    "single_row = [\"Mary\", 99]\n",
    "\n",
    "with open('data.csv', 'a', newline='') as file:\n",
    "    writer = csv.writer(file)\n",
    "    writer.writerow(single_row)\n",
    "\n",
    "with open('data.csv', 'r') as file:\n",
    "    reader = csv.reader(file)\n",
    "    for row in reader:\n",
    "        print(row)\n"
   ]
  },
  {
   "cell_type": "code",
   "execution_count": 20,
   "metadata": {
    "colab": {
     "base_uri": "https://localhost:8080/"
    },
    "executionInfo": {
     "elapsed": 621,
     "status": "ok",
     "timestamp": 1684251217830,
     "user": {
      "displayName": "Bruno Sartini",
      "userId": "05292936127254060969"
     },
     "user_tz": -120
    },
    "id": "L2dvhUkLMOsc",
    "outputId": "27be2147-9f5c-4a3f-97ae-65e0374cad15"
   },
   "outputs": [
    {
     "name": "stdout",
     "output_type": "stream",
     "text": [
      "['Name', 'Age']\n",
      "['John', '25']\n",
      "['Sarah', '30']\n",
      "['James', '99']\n",
      "['Mary', '99']\n",
      "['Mary', '99']\n",
      "['Roger', '41']\n",
      "['Superman', '203']\n",
      "['My imagination has limits', '0']\n"
     ]
    }
   ],
   "source": [
    "multiple_rows = [[\"Roger\", 41], [\"Superman\", 203], [\"My imagination has limits\", 0]]\n",
    "\n",
    "with open('data.csv', 'a', newline='') as file:\n",
    "    writer = csv.writer(file)\n",
    "    writer.writerows(multiple_rows)\n",
    "\n",
    "with open('data.csv', 'r') as file:\n",
    "    reader = csv.reader(file)\n",
    "    for row in reader:\n",
    "        print(row)\n"
   ]
  },
  {
   "cell_type": "markdown",
   "metadata": {
    "id": "pKJaqhWDM2R8"
   },
   "source": [
    "## What if there is any other type of separator?\n",
    "\n",
    "You can specify which character is used to separate columns in your file with the \"delimiter\" argument."
   ]
  },
  {
   "cell_type": "code",
   "execution_count": 22,
   "metadata": {
    "colab": {
     "base_uri": "https://localhost:8080/"
    },
    "executionInfo": {
     "elapsed": 2,
     "status": "ok",
     "timestamp": 1684251418537,
     "user": {
      "displayName": "Bruno Sartini",
      "userId": "05292936127254060969"
     },
     "user_tz": -120
    },
    "id": "riPL67sGNMmQ",
    "outputId": "0e861b41-f102-4ad8-db5e-f0c4fe56d7f2"
   },
   "outputs": [
    {
     "name": "stdout",
     "output_type": "stream",
     "text": [
      "['Name', 'Age']\n",
      "['Zeus', '20000']\n",
      "['Pikachu', '30']\n",
      "['Python', '32']\n"
     ]
    }
   ],
   "source": [
    "with open('atseparated.csv', 'r') as file:\n",
    "    reader = csv.reader(file, delimiter=\"@\")\n",
    "    for row in reader:\n",
    "        print(row)"
   ]
  },
  {
   "cell_type": "markdown",
   "metadata": {
    "id": "frpyjQpbMxrN"
   },
   "source": [
    "## DictReader to read csv files"
   ]
  },
  {
   "cell_type": "markdown",
   "metadata": {
    "id": "aq9_yek3NkwQ"
   },
   "source": [
    "The **DictReader** class from the **csv** module provides a convenient way to read CSV files into dictionaries. Each row of the CSV file is represented as a dictionary, where the keys are the column headers and the values are the corresponding values in the row. You use the csv method **DictReader(file_variable_name)** to create a *DictReader* version of your csv"
   ]
  },
  {
   "cell_type": "code",
   "execution_count": 27,
   "metadata": {
    "colab": {
     "base_uri": "https://localhost:8080/"
    },
    "executionInfo": {
     "elapsed": 4,
     "status": "ok",
     "timestamp": 1684251544272,
     "user": {
      "displayName": "Bruno Sartini",
      "userId": "05292936127254060969"
     },
     "user_tz": -120
    },
    "id": "fSL5ZqpwNp6u",
    "outputId": "2f242dbf-fdd5-42db-b14f-d3b01b23f554"
   },
   "outputs": [
    {
     "name": "stdout",
     "output_type": "stream",
     "text": [
      "John 25\n",
      "{'Name': 'John', 'Age': '25'}\n",
      "Sarah 30\n",
      "{'Name': 'Sarah', 'Age': '30'}\n",
      "James 99\n",
      "{'Name': 'James', 'Age': '99'}\n",
      "Mary 99\n",
      "{'Name': 'Mary', 'Age': '99'}\n",
      "Mary 99\n",
      "{'Name': 'Mary', 'Age': '99'}\n",
      "Roger 41\n",
      "{'Name': 'Roger', 'Age': '41'}\n",
      "Superman 203\n",
      "{'Name': 'Superman', 'Age': '203'}\n",
      "My imagination has limits 0\n",
      "{'Name': 'My imagination has limits', 'Age': '0'}\n",
      "[{'Name': 'John', 'Age': '25'}, {'Name': 'Sarah', 'Age': '30'}, {'Name': 'James', 'Age': '99'}, {'Name': 'Mary', 'Age': '99'}, {'Name': 'Mary', 'Age': '99'}, {'Name': 'Roger', 'Age': '41'}, {'Name': 'Superman', 'Age': '203'}, {'Name': 'My imagination has limits', 'Age': '0'}]\n"
     ]
    }
   ],
   "source": [
    "import csv\n",
    "\n",
    "with open('data.csv', 'r') as file:\n",
    "    reader = csv.DictReader(file)\n",
    "    list_of_dictionary = []\n",
    "    for row in reader:\n",
    "        print(row['Name'], row['Age'])\n",
    "        print(row)\n",
    "        list_of_dictionary.append(dict(row))\n",
    "\n",
    "print(list_of_dictionary)\n"
   ]
  },
  {
   "cell_type": "markdown",
   "metadata": {
    "id": "YL6EfwuJmNSH"
   },
   "source": [
    "In the example above, each row is a dictionary, allowing us to access the values by column names (e.g., **row['Name']** **and row[' Age']**)."
   ]
  },
  {
   "cell_type": "markdown",
   "metadata": {
    "id": "YLxtPCqcmaW3"
   },
   "source": [
    "## Pandas\n",
    "\n",
    "**pandas** is a powerful library in Python for data manipulation and analysis. It provides a DataFrame object, which is a two-dimensional table-like data structure, similar to a spreadsheet or a SQL table. These are some commonly used functions and methods available with **pandas** **DataFrames**:\n",
    "\n",
    "1. Creating a DataFrame:\n",
    "   - `pd.DataFrame(data)`: Creates a DataFrame from a dictionary, numpy array, or a list of dictionaries.\n",
    "   - `pd.read_csv('filename.csv')`: Reads a CSV file and returns a DataFrame.\n",
    "\n",
    "2. Exploring the DataFrame:\n",
    "   - `df.columns()`: Returns a list of columns of the DataFrame. You should write `df.columns.tolist()` to get a proper list\n",
    "   - `df.head(n)`: Returns the first `n` rows of the DataFrame.\n",
    "   - `df.tail(n)`: Returns the last `n` rows of the DataFrame.\n",
    "   - `df.info()`: Provides a summary of the DataFrame, including column names, data types, and non-null counts.\n",
    "   - `df.shape`: Returns the dimensions of the DataFrame (number of rows, number of columns).\n",
    "   - `df.describe()`: Generates descriptive statistics of numerical columns, such as count, mean, min, max, etc.\n",
    "\n",
    "3. Accessing and manipulating data:\n",
    "   - `df[column_name]`: Returns a specific column as a Series.\n",
    "   - `df[[col1, col2, ...]]`: Returns a subset of columns as a new DataFrame.\n",
    "   - `df.loc[row_label, column_label]`: Accesses a specific element or a range of elements using labels.\n",
    "   - `df['new_column'] = value`: Adds a new column with a specified value.\n",
    "   - `df.drop(columns=['col1', 'col2'])`: Removes specified columns from the DataFrame.\n",
    "\n",
    "4. Data manipulation:\n",
    "   - `df.sort_values(by='column')`: Sorts the DataFrame by a specific column.\n",
    "   - `df.groupby('column')`: Groups the DataFrame by a specific column.\n",
    "   - `df.pivot_table(values='value', index='index_col', columns='col')`: Creates a pivot table from the DataFrame.\n",
    "   - `df.apply(function)`: Applies a function to each element, row, or column of the DataFrame.\n",
    "   - `df.replace(old, new)`: Replaces values in the DataFrame with new values.\n",
    "   - `df.merge(other_df, on='column')`: Combines two DataFrames based on a common column.\n",
    "\n",
    "5. Data aggregation and summarization:\n",
    "   - `df.groupby('column').mean()`: Computes the mean value for each group.\n",
    "   - `df.groupby('column').sum()`: Computes the sum for each group.\n",
    "   - `df.groupby('column').count()`: Computes the count for each group.\n",
    "   - `df.groupby('column').max()`: Finds the maximum value for each group.\n",
    "   - `df.groupby('column').min()`: Finds the minimum value for each group.\n",
    "\n",
    "These are just a few examples of the numerous functions and methods available in **pandas** for working with DataFrames. The library provides extensive capabilities for data cleaning, manipulation, analysis, and visualization. Exploring the **pandas** documentation and experimenting with different functions and methods will further enhance your understanding and proficiency with **pandas** DataFrames."
   ]
  },
  {
   "cell_type": "code",
   "execution_count": 63,
   "metadata": {
    "executionInfo": {
     "elapsed": 233,
     "status": "ok",
     "timestamp": 1684327906042,
     "user": {
      "displayName": "Bruno Sartini",
      "userId": "05292936127254060969"
     },
     "user_tz": -120
    },
    "id": "8W1THAX-J075"
   },
   "outputs": [],
   "source": [
    "import pandas as pd\n",
    "\n",
    "# Creating a DataFrame from a dictionary\n",
    "data = {'Name': ['John', 'Emily', 'Charlie'],\n",
    "        'Age': [25, 30, 35]}\n",
    "df1 = pd.DataFrame(data)\n",
    "\n",
    "# Creating a DataFrame from a CSV file\n",
    "df = pd.read_csv('pandascsv.csv')\n"
   ]
  },
  {
   "cell_type": "code",
   "execution_count": 64,
   "metadata": {},
   "outputs": [
    {
     "data": {
      "text/html": [
       "<div>\n",
       "<style scoped>\n",
       "    .dataframe tbody tr th:only-of-type {\n",
       "        vertical-align: middle;\n",
       "    }\n",
       "\n",
       "    .dataframe tbody tr th {\n",
       "        vertical-align: top;\n",
       "    }\n",
       "\n",
       "    .dataframe thead th {\n",
       "        text-align: right;\n",
       "    }\n",
       "</style>\n",
       "<table border=\"1\" class=\"dataframe\">\n",
       "  <thead>\n",
       "    <tr style=\"text-align: right;\">\n",
       "      <th></th>\n",
       "      <th>Name</th>\n",
       "      <th>Age</th>\n",
       "      <th>City</th>\n",
       "      <th>Salary</th>\n",
       "    </tr>\n",
       "  </thead>\n",
       "  <tbody>\n",
       "    <tr>\n",
       "      <th>0</th>\n",
       "      <td>John</td>\n",
       "      <td>25</td>\n",
       "      <td>New York</td>\n",
       "      <td>50000</td>\n",
       "    </tr>\n",
       "    <tr>\n",
       "      <th>1</th>\n",
       "      <td>Alice</td>\n",
       "      <td>32</td>\n",
       "      <td>San Francisco</td>\n",
       "      <td>75000</td>\n",
       "    </tr>\n",
       "    <tr>\n",
       "      <th>2</th>\n",
       "      <td>Michael</td>\n",
       "      <td>28</td>\n",
       "      <td>Chicago</td>\n",
       "      <td>60000</td>\n",
       "    </tr>\n",
       "    <tr>\n",
       "      <th>3</th>\n",
       "      <td>Emma</td>\n",
       "      <td>35</td>\n",
       "      <td>Los Angeles</td>\n",
       "      <td>80000</td>\n",
       "    </tr>\n",
       "  </tbody>\n",
       "</table>\n",
       "</div>"
      ],
      "text/plain": [
       "      Name  Age           City  Salary\n",
       "0     John   25       New York   50000\n",
       "1    Alice   32  San Francisco   75000\n",
       "2  Michael   28        Chicago   60000\n",
       "3     Emma   35    Los Angeles   80000"
      ]
     },
     "execution_count": 64,
     "metadata": {},
     "output_type": "execute_result"
    }
   ],
   "source": [
    "df"
   ]
  },
  {
   "cell_type": "code",
   "execution_count": 29,
   "metadata": {},
   "outputs": [
    {
     "name": "stdout",
     "output_type": "stream",
     "text": [
      "Collecting pandas\n",
      "  Downloading pandas-2.0.2-cp310-cp310-win_amd64.whl (10.7 MB)\n",
      "Collecting pytz>=2020.1\n",
      "  Downloading pytz-2023.3-py2.py3-none-any.whl (502 kB)\n",
      "Collecting tzdata>=2022.1\n",
      "  Downloading tzdata-2023.3-py2.py3-none-any.whl (341 kB)\n",
      "Requirement already satisfied: python-dateutil>=2.8.2 in c:\\users\\ra65faw\\pycharmprojects\\pythonproject\\venv\\lib\\site-packages (from pandas) (2.8.2)\n",
      "Collecting numpy>=1.21.0\n",
      "  Downloading numpy-1.24.3-cp310-cp310-win_amd64.whl (14.8 MB)\n",
      "Requirement already satisfied: six>=1.5 in c:\\users\\ra65faw\\pycharmprojects\\pythonproject\\venv\\lib\\site-packages (from python-dateutil>=2.8.2->pandas) (1.16.0)\n",
      "Installing collected packages: tzdata, pytz, numpy, pandas\n",
      "Successfully installed numpy-1.24.3 pandas-2.0.2 pytz-2023.3 tzdata-2023.3\n"
     ]
    },
    {
     "name": "stderr",
     "output_type": "stream",
     "text": [
      "WARNING: You are using pip version 21.1.2; however, version 23.1.2 is available.\n",
      "You should consider upgrading via the 'C:\\Users\\ra65faw\\PycharmProjects\\pythonProject\\venv\\Scripts\\python.exe -m pip install --upgrade pip' command.\n"
     ]
    }
   ],
   "source": [
    "!pip install pandas"
   ]
  },
  {
   "cell_type": "code",
   "execution_count": 33,
   "metadata": {
    "colab": {
     "base_uri": "https://localhost:8080/",
     "height": 174
    },
    "executionInfo": {
     "elapsed": 233,
     "status": "ok",
     "timestamp": 1684327214584,
     "user": {
      "displayName": "Bruno Sartini",
      "userId": "05292936127254060969"
     },
     "user_tz": -120
    },
    "id": "wicSVFSLt-Kl",
    "outputId": "0f4fe30a-21be-4f8b-9e65-7bbdedf51e61"
   },
   "outputs": [
    {
     "data": {
      "text/html": [
       "<div>\n",
       "<style scoped>\n",
       "    .dataframe tbody tr th:only-of-type {\n",
       "        vertical-align: middle;\n",
       "    }\n",
       "\n",
       "    .dataframe tbody tr th {\n",
       "        vertical-align: top;\n",
       "    }\n",
       "\n",
       "    .dataframe thead th {\n",
       "        text-align: right;\n",
       "    }\n",
       "</style>\n",
       "<table border=\"1\" class=\"dataframe\">\n",
       "  <thead>\n",
       "    <tr style=\"text-align: right;\">\n",
       "      <th></th>\n",
       "      <th>Name</th>\n",
       "      <th>Age</th>\n",
       "      <th>City</th>\n",
       "      <th>Salary</th>\n",
       "    </tr>\n",
       "  </thead>\n",
       "  <tbody>\n",
       "    <tr>\n",
       "      <th>0</th>\n",
       "      <td>John</td>\n",
       "      <td>25</td>\n",
       "      <td>New York</td>\n",
       "      <td>50000</td>\n",
       "    </tr>\n",
       "    <tr>\n",
       "      <th>1</th>\n",
       "      <td>Alice</td>\n",
       "      <td>32</td>\n",
       "      <td>San Francisco</td>\n",
       "      <td>75000</td>\n",
       "    </tr>\n",
       "    <tr>\n",
       "      <th>2</th>\n",
       "      <td>Michael</td>\n",
       "      <td>28</td>\n",
       "      <td>Chicago</td>\n",
       "      <td>60000</td>\n",
       "    </tr>\n",
       "    <tr>\n",
       "      <th>3</th>\n",
       "      <td>Emma</td>\n",
       "      <td>35</td>\n",
       "      <td>Los Angeles</td>\n",
       "      <td>80000</td>\n",
       "    </tr>\n",
       "  </tbody>\n",
       "</table>\n",
       "</div>"
      ],
      "text/plain": [
       "      Name  Age           City  Salary\n",
       "0     John   25       New York   50000\n",
       "1    Alice   32  San Francisco   75000\n",
       "2  Michael   28        Chicago   60000\n",
       "3     Emma   35    Los Angeles   80000"
      ]
     },
     "execution_count": 33,
     "metadata": {},
     "output_type": "execute_result"
    }
   ],
   "source": [
    "# Getting the first 5 rows of the DataFrame\n",
    "df.head()\n",
    "\n"
   ]
  },
  {
   "cell_type": "code",
   "execution_count": 34,
   "metadata": {
    "colab": {
     "base_uri": "https://localhost:8080/",
     "height": 174
    },
    "executionInfo": {
     "elapsed": 3,
     "status": "ok",
     "timestamp": 1684327218915,
     "user": {
      "displayName": "Bruno Sartini",
      "userId": "05292936127254060969"
     },
     "user_tz": -120
    },
    "id": "8mJHezMTuPxN",
    "outputId": "9f1c0478-d6f5-4d32-d6d6-7a54499c6fa2"
   },
   "outputs": [
    {
     "data": {
      "text/html": [
       "<div>\n",
       "<style scoped>\n",
       "    .dataframe tbody tr th:only-of-type {\n",
       "        vertical-align: middle;\n",
       "    }\n",
       "\n",
       "    .dataframe tbody tr th {\n",
       "        vertical-align: top;\n",
       "    }\n",
       "\n",
       "    .dataframe thead th {\n",
       "        text-align: right;\n",
       "    }\n",
       "</style>\n",
       "<table border=\"1\" class=\"dataframe\">\n",
       "  <thead>\n",
       "    <tr style=\"text-align: right;\">\n",
       "      <th></th>\n",
       "      <th>Name</th>\n",
       "      <th>Age</th>\n",
       "      <th>City</th>\n",
       "      <th>Salary</th>\n",
       "    </tr>\n",
       "  </thead>\n",
       "  <tbody>\n",
       "    <tr>\n",
       "      <th>0</th>\n",
       "      <td>John</td>\n",
       "      <td>25</td>\n",
       "      <td>New York</td>\n",
       "      <td>50000</td>\n",
       "    </tr>\n",
       "    <tr>\n",
       "      <th>1</th>\n",
       "      <td>Alice</td>\n",
       "      <td>32</td>\n",
       "      <td>San Francisco</td>\n",
       "      <td>75000</td>\n",
       "    </tr>\n",
       "    <tr>\n",
       "      <th>2</th>\n",
       "      <td>Michael</td>\n",
       "      <td>28</td>\n",
       "      <td>Chicago</td>\n",
       "      <td>60000</td>\n",
       "    </tr>\n",
       "    <tr>\n",
       "      <th>3</th>\n",
       "      <td>Emma</td>\n",
       "      <td>35</td>\n",
       "      <td>Los Angeles</td>\n",
       "      <td>80000</td>\n",
       "    </tr>\n",
       "  </tbody>\n",
       "</table>\n",
       "</div>"
      ],
      "text/plain": [
       "      Name  Age           City  Salary\n",
       "0     John   25       New York   50000\n",
       "1    Alice   32  San Francisco   75000\n",
       "2  Michael   28        Chicago   60000\n",
       "3     Emma   35    Los Angeles   80000"
      ]
     },
     "execution_count": 34,
     "metadata": {},
     "output_type": "execute_result"
    }
   ],
   "source": [
    "\n",
    "# Getting the last 5 rows of the DataFrame\n",
    "df.tail() \n",
    "# the dataframe is very short in this case, so that is why head and tail are\n",
    "# the same\n",
    "\n"
   ]
  },
  {
   "cell_type": "code",
   "execution_count": 35,
   "metadata": {
    "colab": {
     "base_uri": "https://localhost:8080/"
    },
    "executionInfo": {
     "elapsed": 223,
     "status": "ok",
     "timestamp": 1684327245926,
     "user": {
      "displayName": "Bruno Sartini",
      "userId": "05292936127254060969"
     },
     "user_tz": -120
    },
    "id": "kBx6jDLfuXPc",
    "outputId": "082f3a87-d763-4cac-cd08-1e02d1cb908e"
   },
   "outputs": [
    {
     "name": "stdout",
     "output_type": "stream",
     "text": [
      "<class 'pandas.core.frame.DataFrame'>\n",
      "RangeIndex: 4 entries, 0 to 3\n",
      "Data columns (total 4 columns):\n",
      " #   Column  Non-Null Count  Dtype \n",
      "---  ------  --------------  ----- \n",
      " 0   Name    4 non-null      object\n",
      " 1   Age     4 non-null      int64 \n",
      " 2   City    4 non-null      object\n",
      " 3   Salary  4 non-null      int64 \n",
      "dtypes: int64(2), object(2)\n",
      "memory usage: 256.0+ bytes\n"
     ]
    }
   ],
   "source": [
    "# Getting summary information about the DataFrame\n",
    "df.info()\n",
    "\n"
   ]
  },
  {
   "cell_type": "code",
   "execution_count": 36,
   "metadata": {
    "colab": {
     "base_uri": "https://localhost:8080/"
    },
    "executionInfo": {
     "elapsed": 2,
     "status": "ok",
     "timestamp": 1684327257496,
     "user": {
      "displayName": "Bruno Sartini",
      "userId": "05292936127254060969"
     },
     "user_tz": -120
    },
    "id": "DPenlBxFuYxL",
    "outputId": "fd16c489-4893-40b2-d0a2-1c127f2c8050"
   },
   "outputs": [
    {
     "data": {
      "text/plain": [
       "(4, 4)"
      ]
     },
     "execution_count": 36,
     "metadata": {},
     "output_type": "execute_result"
    }
   ],
   "source": [
    "# Getting the dimensions of the DataFrame\n",
    "df.shape\n",
    "\n"
   ]
  },
  {
   "cell_type": "code",
   "execution_count": 37,
   "metadata": {
    "colab": {
     "base_uri": "https://localhost:8080/",
     "height": 300
    },
    "executionInfo": {
     "elapsed": 3,
     "status": "ok",
     "timestamp": 1684327260104,
     "user": {
      "displayName": "Bruno Sartini",
      "userId": "05292936127254060969"
     },
     "user_tz": -120
    },
    "id": "LwOOPsmtuZ9c",
    "outputId": "f4e2f22b-266d-4e10-da76-609e30eb70bf"
   },
   "outputs": [
    {
     "data": {
      "text/html": [
       "<div>\n",
       "<style scoped>\n",
       "    .dataframe tbody tr th:only-of-type {\n",
       "        vertical-align: middle;\n",
       "    }\n",
       "\n",
       "    .dataframe tbody tr th {\n",
       "        vertical-align: top;\n",
       "    }\n",
       "\n",
       "    .dataframe thead th {\n",
       "        text-align: right;\n",
       "    }\n",
       "</style>\n",
       "<table border=\"1\" class=\"dataframe\">\n",
       "  <thead>\n",
       "    <tr style=\"text-align: right;\">\n",
       "      <th></th>\n",
       "      <th>Age</th>\n",
       "      <th>Salary</th>\n",
       "    </tr>\n",
       "  </thead>\n",
       "  <tbody>\n",
       "    <tr>\n",
       "      <th>count</th>\n",
       "      <td>4.000000</td>\n",
       "      <td>4.000000</td>\n",
       "    </tr>\n",
       "    <tr>\n",
       "      <th>mean</th>\n",
       "      <td>30.000000</td>\n",
       "      <td>66250.000000</td>\n",
       "    </tr>\n",
       "    <tr>\n",
       "      <th>std</th>\n",
       "      <td>4.396969</td>\n",
       "      <td>13768.926368</td>\n",
       "    </tr>\n",
       "    <tr>\n",
       "      <th>min</th>\n",
       "      <td>25.000000</td>\n",
       "      <td>50000.000000</td>\n",
       "    </tr>\n",
       "    <tr>\n",
       "      <th>25%</th>\n",
       "      <td>27.250000</td>\n",
       "      <td>57500.000000</td>\n",
       "    </tr>\n",
       "    <tr>\n",
       "      <th>50%</th>\n",
       "      <td>30.000000</td>\n",
       "      <td>67500.000000</td>\n",
       "    </tr>\n",
       "    <tr>\n",
       "      <th>75%</th>\n",
       "      <td>32.750000</td>\n",
       "      <td>76250.000000</td>\n",
       "    </tr>\n",
       "    <tr>\n",
       "      <th>max</th>\n",
       "      <td>35.000000</td>\n",
       "      <td>80000.000000</td>\n",
       "    </tr>\n",
       "  </tbody>\n",
       "</table>\n",
       "</div>"
      ],
      "text/plain": [
       "             Age        Salary\n",
       "count   4.000000      4.000000\n",
       "mean   30.000000  66250.000000\n",
       "std     4.396969  13768.926368\n",
       "min    25.000000  50000.000000\n",
       "25%    27.250000  57500.000000\n",
       "50%    30.000000  67500.000000\n",
       "75%    32.750000  76250.000000\n",
       "max    35.000000  80000.000000"
      ]
     },
     "execution_count": 37,
     "metadata": {},
     "output_type": "execute_result"
    }
   ],
   "source": [
    "# Generating descriptive statistics of numerical columns\n",
    "df.describe()"
   ]
  },
  {
   "cell_type": "code",
   "execution_count": 40,
   "metadata": {
    "executionInfo": {
     "elapsed": 227,
     "status": "ok",
     "timestamp": 1684327611325,
     "user": {
      "displayName": "Bruno Sartini",
      "userId": "05292936127254060969"
     },
     "user_tz": -120
    },
    "id": "EqG3M2Yhulwv"
   },
   "outputs": [],
   "source": [
    "# Accessing a specific column as a Series\n",
    "column = df['Salary']"
   ]
  },
  {
   "cell_type": "code",
   "execution_count": 41,
   "metadata": {
    "colab": {
     "base_uri": "https://localhost:8080/"
    },
    "executionInfo": {
     "elapsed": 335,
     "status": "ok",
     "timestamp": 1684327626237,
     "user": {
      "displayName": "Bruno Sartini",
      "userId": "05292936127254060969"
     },
     "user_tz": -120
    },
    "id": "K8BqhRq5v8gX",
    "outputId": "e67f301f-64e2-47f9-8667-dd94fac31a92"
   },
   "outputs": [
    {
     "data": {
      "text/plain": [
       "[50000, 75000, 60000, 80000]"
      ]
     },
     "execution_count": 41,
     "metadata": {},
     "output_type": "execute_result"
    }
   ],
   "source": [
    "list(column)"
   ]
  },
  {
   "cell_type": "code",
   "execution_count": 42,
   "metadata": {
    "executionInfo": {
     "elapsed": 288,
     "status": "ok",
     "timestamp": 1684327637095,
     "user": {
      "displayName": "Bruno Sartini",
      "userId": "05292936127254060969"
     },
     "user_tz": -120
    },
    "id": "dgjcKiLYv0q9"
   },
   "outputs": [],
   "source": [
    "# Accessing a subset of columns as a new DataFrame\n",
    "subset = df[['Name', 'Age']]"
   ]
  },
  {
   "cell_type": "code",
   "execution_count": 43,
   "metadata": {
    "colab": {
     "base_uri": "https://localhost:8080/",
     "height": 174
    },
    "executionInfo": {
     "elapsed": 218,
     "status": "ok",
     "timestamp": 1684327638275,
     "user": {
      "displayName": "Bruno Sartini",
      "userId": "05292936127254060969"
     },
     "user_tz": -120
    },
    "id": "4PpDG3aTwAoB",
    "outputId": "3b5ee721-9e94-4dae-bee2-7c55c4c451d2"
   },
   "outputs": [
    {
     "data": {
      "text/html": [
       "<div>\n",
       "<style scoped>\n",
       "    .dataframe tbody tr th:only-of-type {\n",
       "        vertical-align: middle;\n",
       "    }\n",
       "\n",
       "    .dataframe tbody tr th {\n",
       "        vertical-align: top;\n",
       "    }\n",
       "\n",
       "    .dataframe thead th {\n",
       "        text-align: right;\n",
       "    }\n",
       "</style>\n",
       "<table border=\"1\" class=\"dataframe\">\n",
       "  <thead>\n",
       "    <tr style=\"text-align: right;\">\n",
       "      <th></th>\n",
       "      <th>Name</th>\n",
       "      <th>Age</th>\n",
       "    </tr>\n",
       "  </thead>\n",
       "  <tbody>\n",
       "    <tr>\n",
       "      <th>0</th>\n",
       "      <td>John</td>\n",
       "      <td>25</td>\n",
       "    </tr>\n",
       "    <tr>\n",
       "      <th>1</th>\n",
       "      <td>Alice</td>\n",
       "      <td>32</td>\n",
       "    </tr>\n",
       "    <tr>\n",
       "      <th>2</th>\n",
       "      <td>Michael</td>\n",
       "      <td>28</td>\n",
       "    </tr>\n",
       "    <tr>\n",
       "      <th>3</th>\n",
       "      <td>Emma</td>\n",
       "      <td>35</td>\n",
       "    </tr>\n",
       "  </tbody>\n",
       "</table>\n",
       "</div>"
      ],
      "text/plain": [
       "      Name  Age\n",
       "0     John   25\n",
       "1    Alice   32\n",
       "2  Michael   28\n",
       "3     Emma   35"
      ]
     },
     "execution_count": 43,
     "metadata": {},
     "output_type": "execute_result"
    }
   ],
   "source": [
    "subset"
   ]
  },
  {
   "cell_type": "code",
   "execution_count": 44,
   "metadata": {
    "executionInfo": {
     "elapsed": 2,
     "status": "ok",
     "timestamp": 1684327648146,
     "user": {
      "displayName": "Bruno Sartini",
      "userId": "05292936127254060969"
     },
     "user_tz": -120
    },
    "id": "L3S4ylEIv2n0"
   },
   "outputs": [],
   "source": [
    "\n",
    "# Accessing a specific element using labels\n",
    "element = df.loc[0, 'Name']"
   ]
  },
  {
   "cell_type": "code",
   "execution_count": 45,
   "metadata": {
    "colab": {
     "base_uri": "https://localhost:8080/",
     "height": 35
    },
    "executionInfo": {
     "elapsed": 3,
     "status": "ok",
     "timestamp": 1684327651078,
     "user": {
      "displayName": "Bruno Sartini",
      "userId": "05292936127254060969"
     },
     "user_tz": -120
    },
    "id": "YKZKnX6UwEFF",
    "outputId": "8547ee34-adae-40e8-c55d-c23d3396857d"
   },
   "outputs": [
    {
     "data": {
      "text/plain": [
       "'John'"
      ]
     },
     "execution_count": 45,
     "metadata": {},
     "output_type": "execute_result"
    }
   ],
   "source": [
    "element"
   ]
  },
  {
   "cell_type": "code",
   "execution_count": 53,
   "metadata": {
    "executionInfo": {
     "elapsed": 236,
     "status": "ok",
     "timestamp": 1684327910334,
     "user": {
      "displayName": "Bruno Sartini",
      "userId": "05292936127254060969"
     },
     "user_tz": -120
    },
    "id": "-cvletKCv4du"
   },
   "outputs": [],
   "source": [
    "\n",
    "# Adding a new column with a specified value\n",
    "df['Relationship Status'] = 'Single'"
   ]
  },
  {
   "cell_type": "code",
   "execution_count": 50,
   "metadata": {
    "colab": {
     "base_uri": "https://localhost:8080/",
     "height": 174
    },
    "executionInfo": {
     "elapsed": 354,
     "status": "ok",
     "timestamp": 1684327911906,
     "user": {
      "displayName": "Bruno Sartini",
      "userId": "05292936127254060969"
     },
     "user_tz": -120
    },
    "id": "rV6nnOihwHYR",
    "outputId": "2bbf4b0b-831e-4d60-9679-64e21a96bf8e"
   },
   "outputs": [
    {
     "data": {
      "text/html": [
       "<div>\n",
       "<style scoped>\n",
       "    .dataframe tbody tr th:only-of-type {\n",
       "        vertical-align: middle;\n",
       "    }\n",
       "\n",
       "    .dataframe tbody tr th {\n",
       "        vertical-align: top;\n",
       "    }\n",
       "\n",
       "    .dataframe thead th {\n",
       "        text-align: right;\n",
       "    }\n",
       "</style>\n",
       "<table border=\"1\" class=\"dataframe\">\n",
       "  <thead>\n",
       "    <tr style=\"text-align: right;\">\n",
       "      <th></th>\n",
       "      <th>Name</th>\n",
       "      <th>Age</th>\n",
       "      <th>City</th>\n",
       "      <th>Salary</th>\n",
       "      <th>Relationship Status</th>\n",
       "    </tr>\n",
       "  </thead>\n",
       "  <tbody>\n",
       "    <tr>\n",
       "      <th>0</th>\n",
       "      <td>John</td>\n",
       "      <td>25</td>\n",
       "      <td>New York</td>\n",
       "      <td>50000</td>\n",
       "      <td>Single</td>\n",
       "    </tr>\n",
       "    <tr>\n",
       "      <th>1</th>\n",
       "      <td>Alice</td>\n",
       "      <td>32</td>\n",
       "      <td>San Francisco</td>\n",
       "      <td>75000</td>\n",
       "      <td>Single</td>\n",
       "    </tr>\n",
       "    <tr>\n",
       "      <th>2</th>\n",
       "      <td>Michael</td>\n",
       "      <td>28</td>\n",
       "      <td>Chicago</td>\n",
       "      <td>60000</td>\n",
       "      <td>Single</td>\n",
       "    </tr>\n",
       "    <tr>\n",
       "      <th>3</th>\n",
       "      <td>Emma</td>\n",
       "      <td>35</td>\n",
       "      <td>Los Angeles</td>\n",
       "      <td>80000</td>\n",
       "      <td>Single</td>\n",
       "    </tr>\n",
       "  </tbody>\n",
       "</table>\n",
       "</div>"
      ],
      "text/plain": [
       "      Name  Age           City  Salary Relationship Status\n",
       "0     John   25       New York   50000              Single\n",
       "1    Alice   32  San Francisco   75000              Single\n",
       "2  Michael   28        Chicago   60000              Single\n",
       "3     Emma   35    Los Angeles   80000              Single"
      ]
     },
     "execution_count": 50,
     "metadata": {},
     "output_type": "execute_result"
    }
   ],
   "source": [
    "df"
   ]
  },
  {
   "cell_type": "code",
   "execution_count": 54,
   "metadata": {
    "executionInfo": {
     "elapsed": 208,
     "status": "ok",
     "timestamp": 1684327914714,
     "user": {
      "displayName": "Bruno Sartini",
      "userId": "05292936127254060969"
     },
     "user_tz": -120
    },
    "id": "ayiLube5whJJ"
   },
   "outputs": [
    {
     "name": "stdout",
     "output_type": "stream",
     "text": [
      "New York\n"
     ]
    }
   ],
   "source": [
    " #changing the content of a specific\n",
    "#cell\n",
    "for i, content in enumerate(df[\"Name\"]):\n",
    "    if content == \"John\":\n",
    "        df.at[i, \"Relationship Status\"] = \"Complicated story\"\n",
    "        print(df[\"City\"][i])"
   ]
  },
  {
   "cell_type": "code",
   "execution_count": 55,
   "metadata": {
    "colab": {
     "base_uri": "https://localhost:8080/",
     "height": 174
    },
    "executionInfo": {
     "elapsed": 237,
     "status": "ok",
     "timestamp": 1684327916856,
     "user": {
      "displayName": "Bruno Sartini",
      "userId": "05292936127254060969"
     },
     "user_tz": -120
    },
    "id": "KSZhmf6iwnPj",
    "outputId": "a8543332-c8f9-4d97-fc9a-d9b62b1dc5d8"
   },
   "outputs": [
    {
     "data": {
      "text/html": [
       "<div>\n",
       "<style scoped>\n",
       "    .dataframe tbody tr th:only-of-type {\n",
       "        vertical-align: middle;\n",
       "    }\n",
       "\n",
       "    .dataframe tbody tr th {\n",
       "        vertical-align: top;\n",
       "    }\n",
       "\n",
       "    .dataframe thead th {\n",
       "        text-align: right;\n",
       "    }\n",
       "</style>\n",
       "<table border=\"1\" class=\"dataframe\">\n",
       "  <thead>\n",
       "    <tr style=\"text-align: right;\">\n",
       "      <th></th>\n",
       "      <th>Name</th>\n",
       "      <th>Age</th>\n",
       "      <th>City</th>\n",
       "      <th>Salary</th>\n",
       "      <th>Relationship Status</th>\n",
       "    </tr>\n",
       "  </thead>\n",
       "  <tbody>\n",
       "    <tr>\n",
       "      <th>0</th>\n",
       "      <td>John</td>\n",
       "      <td>25</td>\n",
       "      <td>New York</td>\n",
       "      <td>50000</td>\n",
       "      <td>Complicated story</td>\n",
       "    </tr>\n",
       "    <tr>\n",
       "      <th>1</th>\n",
       "      <td>Alice</td>\n",
       "      <td>32</td>\n",
       "      <td>San Francisco</td>\n",
       "      <td>75000</td>\n",
       "      <td>Single</td>\n",
       "    </tr>\n",
       "    <tr>\n",
       "      <th>2</th>\n",
       "      <td>Michael</td>\n",
       "      <td>28</td>\n",
       "      <td>Chicago</td>\n",
       "      <td>60000</td>\n",
       "      <td>Single</td>\n",
       "    </tr>\n",
       "    <tr>\n",
       "      <th>3</th>\n",
       "      <td>Emma</td>\n",
       "      <td>35</td>\n",
       "      <td>Los Angeles</td>\n",
       "      <td>80000</td>\n",
       "      <td>Single</td>\n",
       "    </tr>\n",
       "  </tbody>\n",
       "</table>\n",
       "</div>"
      ],
      "text/plain": [
       "      Name  Age           City  Salary Relationship Status\n",
       "0     John   25       New York   50000   Complicated story\n",
       "1    Alice   32  San Francisco   75000              Single\n",
       "2  Michael   28        Chicago   60000              Single\n",
       "3     Emma   35    Los Angeles   80000              Single"
      ]
     },
     "execution_count": 55,
     "metadata": {},
     "output_type": "execute_result"
    }
   ],
   "source": [
    "df"
   ]
  },
  {
   "cell_type": "code",
   "execution_count": 52,
   "metadata": {
    "colab": {
     "base_uri": "https://localhost:8080/",
     "height": 174
    },
    "executionInfo": {
     "elapsed": 213,
     "status": "ok",
     "timestamp": 1684327925074,
     "user": {
      "displayName": "Bruno Sartini",
      "userId": "05292936127254060969"
     },
     "user_tz": -120
    },
    "id": "unuAAFcjv6Fc",
    "outputId": "cb5f8531-30d8-483f-fb87-8a787370ebf4"
   },
   "outputs": [
    {
     "data": {
      "text/html": [
       "<div>\n",
       "<style scoped>\n",
       "    .dataframe tbody tr th:only-of-type {\n",
       "        vertical-align: middle;\n",
       "    }\n",
       "\n",
       "    .dataframe tbody tr th {\n",
       "        vertical-align: top;\n",
       "    }\n",
       "\n",
       "    .dataframe thead th {\n",
       "        text-align: right;\n",
       "    }\n",
       "</style>\n",
       "<table border=\"1\" class=\"dataframe\">\n",
       "  <thead>\n",
       "    <tr style=\"text-align: right;\">\n",
       "      <th></th>\n",
       "      <th>Name</th>\n",
       "      <th>Age</th>\n",
       "      <th>City</th>\n",
       "      <th>Salary</th>\n",
       "    </tr>\n",
       "  </thead>\n",
       "  <tbody>\n",
       "    <tr>\n",
       "      <th>0</th>\n",
       "      <td>John</td>\n",
       "      <td>25</td>\n",
       "      <td>New York</td>\n",
       "      <td>50000</td>\n",
       "    </tr>\n",
       "    <tr>\n",
       "      <th>1</th>\n",
       "      <td>Alice</td>\n",
       "      <td>32</td>\n",
       "      <td>San Francisco</td>\n",
       "      <td>75000</td>\n",
       "    </tr>\n",
       "    <tr>\n",
       "      <th>2</th>\n",
       "      <td>Michael</td>\n",
       "      <td>28</td>\n",
       "      <td>Chicago</td>\n",
       "      <td>60000</td>\n",
       "    </tr>\n",
       "    <tr>\n",
       "      <th>3</th>\n",
       "      <td>Emma</td>\n",
       "      <td>35</td>\n",
       "      <td>Los Angeles</td>\n",
       "      <td>80000</td>\n",
       "    </tr>\n",
       "  </tbody>\n",
       "</table>\n",
       "</div>"
      ],
      "text/plain": [
       "      Name  Age           City  Salary\n",
       "0     John   25       New York   50000\n",
       "1    Alice   32  San Francisco   75000\n",
       "2  Michael   28        Chicago   60000\n",
       "3     Emma   35    Los Angeles   80000"
      ]
     },
     "execution_count": 52,
     "metadata": {},
     "output_type": "execute_result"
    }
   ],
   "source": [
    "\n",
    "# Removing specified columns from the DataFrame\n",
    "df.drop(columns=['Relationship Status'])"
   ]
  },
  {
   "cell_type": "code",
   "execution_count": 61,
   "metadata": {
    "colab": {
     "base_uri": "https://localhost:8080/",
     "height": 174
    },
    "executionInfo": {
     "elapsed": 3,
     "status": "ok",
     "timestamp": 1684328083912,
     "user": {
      "displayName": "Bruno Sartini",
      "userId": "05292936127254060969"
     },
     "user_tz": -120
    },
    "id": "mrI8SvJIxIM6",
    "outputId": "2041ed23-f6b0-46b8-eefa-41a1fb777bff"
   },
   "outputs": [],
   "source": [
    "# Sorting the DataFrame by a specific column\n",
    "df = df.sort_values(by='Name')\n",
    "\n",
    "\n"
   ]
  },
  {
   "cell_type": "code",
   "execution_count": 62,
   "metadata": {},
   "outputs": [
    {
     "data": {
      "text/html": [
       "<div>\n",
       "<style scoped>\n",
       "    .dataframe tbody tr th:only-of-type {\n",
       "        vertical-align: middle;\n",
       "    }\n",
       "\n",
       "    .dataframe tbody tr th {\n",
       "        vertical-align: top;\n",
       "    }\n",
       "\n",
       "    .dataframe thead th {\n",
       "        text-align: right;\n",
       "    }\n",
       "</style>\n",
       "<table border=\"1\" class=\"dataframe\">\n",
       "  <thead>\n",
       "    <tr style=\"text-align: right;\">\n",
       "      <th></th>\n",
       "      <th>level_0</th>\n",
       "      <th>index</th>\n",
       "      <th>Name</th>\n",
       "      <th>Age</th>\n",
       "      <th>City</th>\n",
       "      <th>Salary</th>\n",
       "      <th>Relationship Status</th>\n",
       "    </tr>\n",
       "  </thead>\n",
       "  <tbody>\n",
       "    <tr>\n",
       "      <th>0</th>\n",
       "      <td>1</td>\n",
       "      <td>1</td>\n",
       "      <td>Alice</td>\n",
       "      <td>32</td>\n",
       "      <td>San Francisco</td>\n",
       "      <td>75000</td>\n",
       "      <td>Single</td>\n",
       "    </tr>\n",
       "    <tr>\n",
       "      <th>1</th>\n",
       "      <td>3</td>\n",
       "      <td>3</td>\n",
       "      <td>Emma</td>\n",
       "      <td>35</td>\n",
       "      <td>Los Angeles</td>\n",
       "      <td>80000</td>\n",
       "      <td>Single</td>\n",
       "    </tr>\n",
       "    <tr>\n",
       "      <th>2</th>\n",
       "      <td>0</td>\n",
       "      <td>0</td>\n",
       "      <td>John</td>\n",
       "      <td>25</td>\n",
       "      <td>New York</td>\n",
       "      <td>50000</td>\n",
       "      <td>Complicated story</td>\n",
       "    </tr>\n",
       "    <tr>\n",
       "      <th>3</th>\n",
       "      <td>2</td>\n",
       "      <td>2</td>\n",
       "      <td>Michael</td>\n",
       "      <td>28</td>\n",
       "      <td>Chicago</td>\n",
       "      <td>60000</td>\n",
       "      <td>Single</td>\n",
       "    </tr>\n",
       "  </tbody>\n",
       "</table>\n",
       "</div>"
      ],
      "text/plain": [
       "   level_0  index     Name  Age           City  Salary Relationship Status\n",
       "0        1      1    Alice   32  San Francisco   75000              Single\n",
       "1        3      3     Emma   35    Los Angeles   80000              Single\n",
       "2        0      0     John   25       New York   50000   Complicated story\n",
       "3        2      2  Michael   28        Chicago   60000              Single"
      ]
     },
     "execution_count": 62,
     "metadata": {},
     "output_type": "execute_result"
    }
   ],
   "source": [
    "df"
   ]
  },
  {
   "cell_type": "code",
   "execution_count": 65,
   "metadata": {
    "executionInfo": {
     "elapsed": 319,
     "status": "ok",
     "timestamp": 1684328087528,
     "user": {
      "displayName": "Bruno Sartini",
      "userId": "05292936127254060969"
     },
     "user_tz": -120
    },
    "id": "qMAqeQd_xhvp"
   },
   "outputs": [],
   "source": [
    "# Grouping the DataFrame by a specific column\n",
    "grouped = df.groupby('City')\n",
    "\n",
    "# we see later what happens with grouped\n",
    "\n"
   ]
  },
  {
   "cell_type": "code",
   "execution_count": 39,
   "metadata": {
    "colab": {
     "base_uri": "https://localhost:8080/"
    },
    "executionInfo": {
     "elapsed": 2,
     "status": "ok",
     "timestamp": 1684328103368,
     "user": {
      "displayName": "Bruno Sartini",
      "userId": "05292936127254060969"
     },
     "user_tz": -120
    },
    "id": "PqyO82a9xwgC",
    "outputId": "d79426de-75a7-4dcc-f200-add2ed4e1b4b"
   },
   "outputs": [
    {
     "name": "stdout",
     "output_type": "stream",
     "text": [
      "<pandas.core.groupby.generic.DataFrameGroupBy object at 0x7f44dca38b80>\n"
     ]
    }
   ],
   "source": []
  },
  {
   "cell_type": "code",
   "execution_count": 66,
   "metadata": {
    "colab": {
     "base_uri": "https://localhost:8080/",
     "height": 174
    },
    "executionInfo": {
     "elapsed": 412,
     "status": "ok",
     "timestamp": 1684328144456,
     "user": {
      "displayName": "Bruno Sartini",
      "userId": "05292936127254060969"
     },
     "user_tz": -120
    },
    "id": "TTF3q1izxkwN",
    "outputId": "5bea0b08-12aa-4a71-8adc-23af3abbab97"
   },
   "outputs": [
    {
     "data": {
      "text/html": [
       "<div>\n",
       "<style scoped>\n",
       "    .dataframe tbody tr th:only-of-type {\n",
       "        vertical-align: middle;\n",
       "    }\n",
       "\n",
       "    .dataframe tbody tr th {\n",
       "        vertical-align: top;\n",
       "    }\n",
       "\n",
       "    .dataframe thead th {\n",
       "        text-align: right;\n",
       "    }\n",
       "</style>\n",
       "<table border=\"1\" class=\"dataframe\">\n",
       "  <thead>\n",
       "    <tr style=\"text-align: right;\">\n",
       "      <th></th>\n",
       "      <th>Name</th>\n",
       "      <th>Age</th>\n",
       "      <th>City</th>\n",
       "      <th>Salary</th>\n",
       "    </tr>\n",
       "  </thead>\n",
       "  <tbody>\n",
       "    <tr>\n",
       "      <th>0</th>\n",
       "      <td>JohnJohn</td>\n",
       "      <td>50</td>\n",
       "      <td>New YorkNew York</td>\n",
       "      <td>100000</td>\n",
       "    </tr>\n",
       "    <tr>\n",
       "      <th>1</th>\n",
       "      <td>AliceAlice</td>\n",
       "      <td>64</td>\n",
       "      <td>San FranciscoSan Francisco</td>\n",
       "      <td>150000</td>\n",
       "    </tr>\n",
       "    <tr>\n",
       "      <th>2</th>\n",
       "      <td>MichaelMichael</td>\n",
       "      <td>56</td>\n",
       "      <td>ChicagoChicago</td>\n",
       "      <td>120000</td>\n",
       "    </tr>\n",
       "    <tr>\n",
       "      <th>3</th>\n",
       "      <td>EmmaEmma</td>\n",
       "      <td>70</td>\n",
       "      <td>Los AngelesLos Angeles</td>\n",
       "      <td>160000</td>\n",
       "    </tr>\n",
       "  </tbody>\n",
       "</table>\n",
       "</div>"
      ],
      "text/plain": [
       "             Name  Age                        City  Salary\n",
       "0        JohnJohn   50            New YorkNew York  100000\n",
       "1      AliceAlice   64  San FranciscoSan Francisco  150000\n",
       "2  MichaelMichael   56              ChicagoChicago  120000\n",
       "3        EmmaEmma   70      Los AngelesLos Angeles  160000"
      ]
     },
     "execution_count": 66,
     "metadata": {},
     "output_type": "execute_result"
    }
   ],
   "source": [
    "# Applying a function to each element, row, or column of the DataFrame\n",
    "df.apply(lambda x: x * 2) # this is just for showing, lambda is actually quite\n",
    "#complex and I will not ask you to use it\n",
    "\n"
   ]
  },
  {
   "cell_type": "code",
   "execution_count": 67,
   "metadata": {
    "executionInfo": {
     "elapsed": 2,
     "status": "ok",
     "timestamp": 1684329005262,
     "user": {
      "displayName": "Bruno Sartini",
      "userId": "05292936127254060969"
     },
     "user_tz": -120
    },
    "id": "ycIpEHMixmaa"
   },
   "outputs": [],
   "source": [
    "# Replacing values in the DataFrame with new values\n",
    "df = df.replace('New York', 'Los Angeles')\n"
   ]
  },
  {
   "cell_type": "code",
   "execution_count": 68,
   "metadata": {},
   "outputs": [
    {
     "data": {
      "text/html": [
       "<div>\n",
       "<style scoped>\n",
       "    .dataframe tbody tr th:only-of-type {\n",
       "        vertical-align: middle;\n",
       "    }\n",
       "\n",
       "    .dataframe tbody tr th {\n",
       "        vertical-align: top;\n",
       "    }\n",
       "\n",
       "    .dataframe thead th {\n",
       "        text-align: right;\n",
       "    }\n",
       "</style>\n",
       "<table border=\"1\" class=\"dataframe\">\n",
       "  <thead>\n",
       "    <tr style=\"text-align: right;\">\n",
       "      <th></th>\n",
       "      <th>Name</th>\n",
       "      <th>Age</th>\n",
       "      <th>City</th>\n",
       "      <th>Salary</th>\n",
       "    </tr>\n",
       "  </thead>\n",
       "  <tbody>\n",
       "    <tr>\n",
       "      <th>0</th>\n",
       "      <td>John</td>\n",
       "      <td>25</td>\n",
       "      <td>Los Angeles</td>\n",
       "      <td>50000</td>\n",
       "    </tr>\n",
       "    <tr>\n",
       "      <th>1</th>\n",
       "      <td>Alice</td>\n",
       "      <td>32</td>\n",
       "      <td>San Francisco</td>\n",
       "      <td>75000</td>\n",
       "    </tr>\n",
       "    <tr>\n",
       "      <th>2</th>\n",
       "      <td>Michael</td>\n",
       "      <td>28</td>\n",
       "      <td>Chicago</td>\n",
       "      <td>60000</td>\n",
       "    </tr>\n",
       "    <tr>\n",
       "      <th>3</th>\n",
       "      <td>Emma</td>\n",
       "      <td>35</td>\n",
       "      <td>Los Angeles</td>\n",
       "      <td>80000</td>\n",
       "    </tr>\n",
       "  </tbody>\n",
       "</table>\n",
       "</div>"
      ],
      "text/plain": [
       "      Name  Age           City  Salary\n",
       "0     John   25    Los Angeles   50000\n",
       "1    Alice   32  San Francisco   75000\n",
       "2  Michael   28        Chicago   60000\n",
       "3     Emma   35    Los Angeles   80000"
      ]
     },
     "execution_count": 68,
     "metadata": {},
     "output_type": "execute_result"
    }
   ],
   "source": [
    "df"
   ]
  },
  {
   "cell_type": "code",
   "execution_count": 69,
   "metadata": {},
   "outputs": [
    {
     "data": {
      "text/html": [
       "<div>\n",
       "<style scoped>\n",
       "    .dataframe tbody tr th:only-of-type {\n",
       "        vertical-align: middle;\n",
       "    }\n",
       "\n",
       "    .dataframe tbody tr th {\n",
       "        vertical-align: top;\n",
       "    }\n",
       "\n",
       "    .dataframe thead th {\n",
       "        text-align: right;\n",
       "    }\n",
       "</style>\n",
       "<table border=\"1\" class=\"dataframe\">\n",
       "  <thead>\n",
       "    <tr style=\"text-align: right;\">\n",
       "      <th></th>\n",
       "      <th>Name</th>\n",
       "      <th>Age</th>\n",
       "    </tr>\n",
       "  </thead>\n",
       "  <tbody>\n",
       "    <tr>\n",
       "      <th>0</th>\n",
       "      <td>John</td>\n",
       "      <td>25</td>\n",
       "    </tr>\n",
       "    <tr>\n",
       "      <th>1</th>\n",
       "      <td>Emily</td>\n",
       "      <td>30</td>\n",
       "    </tr>\n",
       "    <tr>\n",
       "      <th>2</th>\n",
       "      <td>Charlie</td>\n",
       "      <td>35</td>\n",
       "    </tr>\n",
       "  </tbody>\n",
       "</table>\n",
       "</div>"
      ],
      "text/plain": [
       "      Name  Age\n",
       "0     John   25\n",
       "1    Emily   30\n",
       "2  Charlie   35"
      ]
     },
     "execution_count": 69,
     "metadata": {},
     "output_type": "execute_result"
    }
   ],
   "source": [
    "df1"
   ]
  },
  {
   "cell_type": "code",
   "execution_count": 98,
   "metadata": {
    "executionInfo": {
     "elapsed": 1,
     "status": "ok",
     "timestamp": 1684328315235,
     "user": {
      "displayName": "Bruno Sartini",
      "userId": "05292936127254060969"
     },
     "user_tz": -120
    },
    "id": "YCkFvVCdxnr2"
   },
   "outputs": [],
   "source": [
    "\n",
    "# Combining two DataFrames based on a common column\n",
    "merged = df.merge(df1, on='Name')"
   ]
  },
  {
   "cell_type": "code",
   "execution_count": 99,
   "metadata": {},
   "outputs": [
    {
     "data": {
      "text/html": [
       "<div>\n",
       "<style scoped>\n",
       "    .dataframe tbody tr th:only-of-type {\n",
       "        vertical-align: middle;\n",
       "    }\n",
       "\n",
       "    .dataframe tbody tr th {\n",
       "        vertical-align: top;\n",
       "    }\n",
       "\n",
       "    .dataframe thead th {\n",
       "        text-align: right;\n",
       "    }\n",
       "</style>\n",
       "<table border=\"1\" class=\"dataframe\">\n",
       "  <thead>\n",
       "    <tr style=\"text-align: right;\">\n",
       "      <th></th>\n",
       "      <th>Name</th>\n",
       "      <th>Age_x</th>\n",
       "      <th>City</th>\n",
       "      <th>Salary</th>\n",
       "      <th>Age_y</th>\n",
       "    </tr>\n",
       "  </thead>\n",
       "  <tbody>\n",
       "    <tr>\n",
       "      <th>0</th>\n",
       "      <td>John</td>\n",
       "      <td>25</td>\n",
       "      <td>Los Angeles</td>\n",
       "      <td>50000</td>\n",
       "      <td>25</td>\n",
       "    </tr>\n",
       "    <tr>\n",
       "      <th>1</th>\n",
       "      <td>Alice</td>\n",
       "      <td>32</td>\n",
       "      <td>San Francisco</td>\n",
       "      <td>75000</td>\n",
       "      <td>30</td>\n",
       "    </tr>\n",
       "  </tbody>\n",
       "</table>\n",
       "</div>"
      ],
      "text/plain": [
       "    Name  Age_x           City  Salary  Age_y\n",
       "0   John     25    Los Angeles   50000     25\n",
       "1  Alice     32  San Francisco   75000     30"
      ]
     },
     "execution_count": 99,
     "metadata": {},
     "output_type": "execute_result"
    }
   ],
   "source": [
    "merged"
   ]
  },
  {
   "cell_type": "markdown",
   "metadata": {
    "id": "sd2whtRZz0k6"
   },
   "source": [
    "Merge will automatically add suffixes to your dataframes columns if the merged dataframes share the name of the columns. If you don't want to have any suffixes added to the column names during the merge operation, you can specify the suffixes parameter as an empty string ''. This will keep the original column names intact without any modifications."
   ]
  },
  {
   "cell_type": "code",
   "execution_count": 101,
   "metadata": {
    "colab": {
     "base_uri": "https://localhost:8080/"
    },
    "executionInfo": {
     "elapsed": 208,
     "status": "ok",
     "timestamp": 1684328667971,
     "user": {
      "displayName": "Bruno Sartini",
      "userId": "05292936127254060969"
     },
     "user_tz": -120
    },
    "id": "14O0O4hkzzdj",
    "outputId": "0bb646f6-84a6-4013-f579-5a46b58022dd"
   },
   "outputs": [
    {
     "name": "stdout",
     "output_type": "stream",
     "text": [
      "   ID   Name  Agea  Agea\n",
      "0   2  Alice    12    30\n",
      "1   3    Bob    15    35\n"
     ]
    }
   ],
   "source": [
    "import pandas as pd\n",
    "\n",
    "# Create the first DataFrame\n",
    "data1 = {'ID': [1, 2, 3],\n",
    "         'Name': ['John', 'Alice', 'Bob'],\n",
    "        \"Age\":[10,12,15]}\n",
    "df1 = pd.DataFrame(data1)\n",
    "\n",
    "# Create the second DataFrame\n",
    "data2 = {'ID': [2, 3, 4],\n",
    "         'Age': [30, 35, 40]}\n",
    "df2 = pd.DataFrame(data2)\n",
    "\n",
    "# Merge the DataFrames without suffixes\n",
    "merged_df = df1.merge(df2, on='ID', suffixes=('a', 'a'))\n",
    "\n",
    "# Print the merged DataFrame\n",
    "print(merged_df)\n"
   ]
  },
  {
   "cell_type": "markdown",
   "metadata": {
    "id": "xFdQ0s5Ay3H-"
   },
   "source": [
    "To add the content of one DataFrame to another DataFrame, you can use the `concat()` function.\n",
    "\n",
    "It will combine the rows of the two DataFrames vertically, effectively adding the content of one DataFrame to another."
   ]
  },
  {
   "cell_type": "code",
   "execution_count": 119,
   "metadata": {
    "colab": {
     "base_uri": "https://localhost:8080/"
    },
    "executionInfo": {
     "elapsed": 5,
     "status": "ok",
     "timestamp": 1684328411214,
     "user": {
      "displayName": "Bruno Sartini",
      "userId": "05292936127254060969"
     },
     "user_tz": -120
    },
    "id": "8MB803qny8_o",
    "outputId": "b47f1174-a06e-4a84-c10f-682e34faed93"
   },
   "outputs": [
    {
     "name": "stdout",
     "output_type": "stream",
     "text": [
      "      Name  Age\n",
      "0     John   25\n",
      "1    Alice   30\n",
      "2      Bob   35\n",
      "0  Charlie   40\n",
      "1    David   45\n"
     ]
    }
   ],
   "source": [
    "\n",
    "import pandas as pd\n",
    "\n",
    "# Create the first DataFrame\n",
    "data1 = {'Name': ['John', 'Alice', 'Bob'],\n",
    "         'Age': [25, 30, 35]}\n",
    "df1 = pd.DataFrame(data1)\n",
    "\n",
    "# Create the second DataFrame\n",
    "data2 = {'Name': ['Charlie', 'David'],\n",
    "         'Age': [40, 45]}\n",
    "df2 = pd.DataFrame(data2)\n",
    "\n",
    "# Concatenate the two DataFrames vertically\n",
    "concatenated_df = pd.concat([df1, df2])\n",
    "\n",
    "# Print the concatenated DataFrame\n",
    "print(concatenated_df)"
   ]
  },
  {
   "cell_type": "code",
   "execution_count": 83,
   "metadata": {
    "executionInfo": {
     "elapsed": 2,
     "status": "ok",
     "timestamp": 1684328813292,
     "user": {
      "displayName": "Bruno Sartini",
      "userId": "05292936127254060969"
     },
     "user_tz": -120
    },
    "id": "qxKioDau0bpV"
   },
   "outputs": [],
   "source": [
    "concatenated_df = concatenated_df.reset_index()"
   ]
  },
  {
   "cell_type": "code",
   "execution_count": 121,
   "metadata": {},
   "outputs": [
    {
     "data": {
      "text/plain": [
       "5"
      ]
     },
     "execution_count": 121,
     "metadata": {},
     "output_type": "execute_result"
    }
   ],
   "source": [
    "concatenated_df.shape[0]"
   ]
  },
  {
   "cell_type": "code",
   "execution_count": 85,
   "metadata": {
    "colab": {
     "base_uri": "https://localhost:8080/",
     "height": 206
    },
    "executionInfo": {
     "elapsed": 350,
     "status": "ok",
     "timestamp": 1684328815436,
     "user": {
      "displayName": "Bruno Sartini",
      "userId": "05292936127254060969"
     },
     "user_tz": -120
    },
    "id": "GRGoNTFF0P51",
    "outputId": "68e45ecc-5862-41b7-c02a-f4478e61ab42"
   },
   "outputs": [
    {
     "data": {
      "text/html": [
       "<div>\n",
       "<style scoped>\n",
       "    .dataframe tbody tr th:only-of-type {\n",
       "        vertical-align: middle;\n",
       "    }\n",
       "\n",
       "    .dataframe tbody tr th {\n",
       "        vertical-align: top;\n",
       "    }\n",
       "\n",
       "    .dataframe thead th {\n",
       "        text-align: right;\n",
       "    }\n",
       "</style>\n",
       "<table border=\"1\" class=\"dataframe\">\n",
       "  <thead>\n",
       "    <tr style=\"text-align: right;\">\n",
       "      <th></th>\n",
       "      <th>Name</th>\n",
       "      <th>Age</th>\n",
       "    </tr>\n",
       "  </thead>\n",
       "  <tbody>\n",
       "    <tr>\n",
       "      <th>0</th>\n",
       "      <td>John</td>\n",
       "      <td>25</td>\n",
       "    </tr>\n",
       "    <tr>\n",
       "      <th>1</th>\n",
       "      <td>Alice</td>\n",
       "      <td>30</td>\n",
       "    </tr>\n",
       "    <tr>\n",
       "      <th>2</th>\n",
       "      <td>Bob</td>\n",
       "      <td>35</td>\n",
       "    </tr>\n",
       "    <tr>\n",
       "      <th>3</th>\n",
       "      <td>Charlie</td>\n",
       "      <td>40</td>\n",
       "    </tr>\n",
       "    <tr>\n",
       "      <th>4</th>\n",
       "      <td>David</td>\n",
       "      <td>45</td>\n",
       "    </tr>\n",
       "  </tbody>\n",
       "</table>\n",
       "</div>"
      ],
      "text/plain": [
       "      Name  Age\n",
       "0     John   25\n",
       "1    Alice   30\n",
       "2      Bob   35\n",
       "3  Charlie   40\n",
       "4    David   45"
      ]
     },
     "execution_count": 85,
     "metadata": {},
     "output_type": "execute_result"
    }
   ],
   "source": [
    "concatenated_df.drop(columns=\"index\")"
   ]
  },
  {
   "cell_type": "code",
   "execution_count": 88,
   "metadata": {},
   "outputs": [
    {
     "data": {
      "text/html": [
       "<div>\n",
       "<style scoped>\n",
       "    .dataframe tbody tr th:only-of-type {\n",
       "        vertical-align: middle;\n",
       "    }\n",
       "\n",
       "    .dataframe tbody tr th {\n",
       "        vertical-align: top;\n",
       "    }\n",
       "\n",
       "    .dataframe thead th {\n",
       "        text-align: right;\n",
       "    }\n",
       "</style>\n",
       "<table border=\"1\" class=\"dataframe\">\n",
       "  <thead>\n",
       "    <tr style=\"text-align: right;\">\n",
       "      <th></th>\n",
       "      <th>Name</th>\n",
       "      <th>Age</th>\n",
       "      <th>City</th>\n",
       "      <th>Salary</th>\n",
       "    </tr>\n",
       "  </thead>\n",
       "  <tbody>\n",
       "    <tr>\n",
       "      <th>0</th>\n",
       "      <td>John</td>\n",
       "      <td>25</td>\n",
       "      <td>Los Angeles</td>\n",
       "      <td>50000</td>\n",
       "    </tr>\n",
       "    <tr>\n",
       "      <th>1</th>\n",
       "      <td>Alice</td>\n",
       "      <td>32</td>\n",
       "      <td>San Francisco</td>\n",
       "      <td>75000</td>\n",
       "    </tr>\n",
       "    <tr>\n",
       "      <th>2</th>\n",
       "      <td>Michael</td>\n",
       "      <td>28</td>\n",
       "      <td>Chicago</td>\n",
       "      <td>60000</td>\n",
       "    </tr>\n",
       "    <tr>\n",
       "      <th>3</th>\n",
       "      <td>Emma</td>\n",
       "      <td>35</td>\n",
       "      <td>Los Angeles</td>\n",
       "      <td>80000</td>\n",
       "    </tr>\n",
       "  </tbody>\n",
       "</table>\n",
       "</div>"
      ],
      "text/plain": [
       "      Name  Age           City  Salary\n",
       "0     John   25    Los Angeles   50000\n",
       "1    Alice   32  San Francisco   75000\n",
       "2  Michael   28        Chicago   60000\n",
       "3     Emma   35    Los Angeles   80000"
      ]
     },
     "execution_count": 88,
     "metadata": {},
     "output_type": "execute_result"
    }
   ],
   "source": [
    "df"
   ]
  },
  {
   "cell_type": "markdown",
   "metadata": {
    "id": "_UiTCh5Y0jYl"
   },
   "source": [
    "## Data aggregation and summarization"
   ]
  },
  {
   "cell_type": "code",
   "execution_count": 89,
   "metadata": {
    "executionInfo": {
     "elapsed": 3,
     "status": "ok",
     "timestamp": 1684329011086,
     "user": {
      "displayName": "Bruno Sartini",
      "userId": "05292936127254060969"
     },
     "user_tz": -120
    },
    "id": "tZuH4L3c0w02"
   },
   "outputs": [],
   "source": [
    "grouped = df.groupby('City')"
   ]
  },
  {
   "cell_type": "code",
   "execution_count": 97,
   "metadata": {
    "colab": {
     "base_uri": "https://localhost:8080/",
     "height": 174
    },
    "executionInfo": {
     "elapsed": 5,
     "status": "ok",
     "timestamp": 1684329011976,
     "user": {
      "displayName": "Bruno Sartini",
      "userId": "05292936127254060969"
     },
     "user_tz": -120
    },
    "id": "arI-s-yuzMnB",
    "outputId": "09f3fb03-6c0d-416a-9a0b-5c1d422d6e0a"
   },
   "outputs": [
    {
     "data": {
      "text/html": [
       "<div>\n",
       "<style scoped>\n",
       "    .dataframe tbody tr th:only-of-type {\n",
       "        vertical-align: middle;\n",
       "    }\n",
       "\n",
       "    .dataframe tbody tr th {\n",
       "        vertical-align: top;\n",
       "    }\n",
       "\n",
       "    .dataframe thead th {\n",
       "        text-align: right;\n",
       "    }\n",
       "</style>\n",
       "<table border=\"1\" class=\"dataframe\">\n",
       "  <thead>\n",
       "    <tr style=\"text-align: right;\">\n",
       "      <th></th>\n",
       "      <th>Age</th>\n",
       "      <th>Salary</th>\n",
       "    </tr>\n",
       "    <tr>\n",
       "      <th>City</th>\n",
       "      <th></th>\n",
       "      <th></th>\n",
       "    </tr>\n",
       "  </thead>\n",
       "  <tbody>\n",
       "    <tr>\n",
       "      <th>Chicago</th>\n",
       "      <td>28.0</td>\n",
       "      <td>60000.0</td>\n",
       "    </tr>\n",
       "    <tr>\n",
       "      <th>Los Angeles</th>\n",
       "      <td>30.0</td>\n",
       "      <td>65000.0</td>\n",
       "    </tr>\n",
       "    <tr>\n",
       "      <th>San Francisco</th>\n",
       "      <td>32.0</td>\n",
       "      <td>75000.0</td>\n",
       "    </tr>\n",
       "  </tbody>\n",
       "</table>\n",
       "</div>"
      ],
      "text/plain": [
       "                Age   Salary\n",
       "City                        \n",
       "Chicago        28.0  60000.0\n",
       "Los Angeles    30.0  65000.0\n",
       "San Francisco  32.0  75000.0"
      ]
     },
     "execution_count": 97,
     "metadata": {},
     "output_type": "execute_result"
    }
   ],
   "source": [
    "# Computing the mean value for each group\n",
    "grouped.mean(numeric_only = True)"
   ]
  },
  {
   "cell_type": "code",
   "execution_count": 95,
   "metadata": {
    "colab": {
     "base_uri": "https://localhost:8080/",
     "height": 174
    },
    "executionInfo": {
     "elapsed": 3,
     "status": "ok",
     "timestamp": 1684329016087,
     "user": {
      "displayName": "Bruno Sartini",
      "userId": "05292936127254060969"
     },
     "user_tz": -120
    },
    "id": "Wlsl5_3R04bd",
    "outputId": "b3a89066-3fc8-4b80-9374-fe37a565022f"
   },
   "outputs": [
    {
     "data": {
      "text/html": [
       "<div>\n",
       "<style scoped>\n",
       "    .dataframe tbody tr th:only-of-type {\n",
       "        vertical-align: middle;\n",
       "    }\n",
       "\n",
       "    .dataframe tbody tr th {\n",
       "        vertical-align: top;\n",
       "    }\n",
       "\n",
       "    .dataframe thead th {\n",
       "        text-align: right;\n",
       "    }\n",
       "</style>\n",
       "<table border=\"1\" class=\"dataframe\">\n",
       "  <thead>\n",
       "    <tr style=\"text-align: right;\">\n",
       "      <th></th>\n",
       "      <th>Age</th>\n",
       "      <th>Salary</th>\n",
       "    </tr>\n",
       "    <tr>\n",
       "      <th>City</th>\n",
       "      <th></th>\n",
       "      <th></th>\n",
       "    </tr>\n",
       "  </thead>\n",
       "  <tbody>\n",
       "    <tr>\n",
       "      <th>Chicago</th>\n",
       "      <td>28</td>\n",
       "      <td>60000</td>\n",
       "    </tr>\n",
       "    <tr>\n",
       "      <th>Los Angeles</th>\n",
       "      <td>60</td>\n",
       "      <td>130000</td>\n",
       "    </tr>\n",
       "    <tr>\n",
       "      <th>San Francisco</th>\n",
       "      <td>32</td>\n",
       "      <td>75000</td>\n",
       "    </tr>\n",
       "  </tbody>\n",
       "</table>\n",
       "</div>"
      ],
      "text/plain": [
       "               Age  Salary\n",
       "City                      \n",
       "Chicago         28   60000\n",
       "Los Angeles     60  130000\n",
       "San Francisco   32   75000"
      ]
     },
     "execution_count": 95,
     "metadata": {},
     "output_type": "execute_result"
    }
   ],
   "source": [
    "# Computing the sum for each group\n",
    "grouped.sum(numeric_only=True)"
   ]
  },
  {
   "cell_type": "code",
   "execution_count": 91,
   "metadata": {
    "colab": {
     "base_uri": "https://localhost:8080/",
     "height": 174
    },
    "executionInfo": {
     "elapsed": 3,
     "status": "ok",
     "timestamp": 1684329032319,
     "user": {
      "displayName": "Bruno Sartini",
      "userId": "05292936127254060969"
     },
     "user_tz": -120
    },
    "id": "st2b7cvH1Gv5",
    "outputId": "e98cf4b4-63d5-4f2d-9a94-9b91b2833d46"
   },
   "outputs": [
    {
     "data": {
      "text/html": [
       "<div>\n",
       "<style scoped>\n",
       "    .dataframe tbody tr th:only-of-type {\n",
       "        vertical-align: middle;\n",
       "    }\n",
       "\n",
       "    .dataframe tbody tr th {\n",
       "        vertical-align: top;\n",
       "    }\n",
       "\n",
       "    .dataframe thead th {\n",
       "        text-align: right;\n",
       "    }\n",
       "</style>\n",
       "<table border=\"1\" class=\"dataframe\">\n",
       "  <thead>\n",
       "    <tr style=\"text-align: right;\">\n",
       "      <th></th>\n",
       "      <th>Name</th>\n",
       "      <th>Age</th>\n",
       "      <th>Salary</th>\n",
       "    </tr>\n",
       "    <tr>\n",
       "      <th>City</th>\n",
       "      <th></th>\n",
       "      <th></th>\n",
       "      <th></th>\n",
       "    </tr>\n",
       "  </thead>\n",
       "  <tbody>\n",
       "    <tr>\n",
       "      <th>Chicago</th>\n",
       "      <td>1</td>\n",
       "      <td>1</td>\n",
       "      <td>1</td>\n",
       "    </tr>\n",
       "    <tr>\n",
       "      <th>Los Angeles</th>\n",
       "      <td>2</td>\n",
       "      <td>2</td>\n",
       "      <td>2</td>\n",
       "    </tr>\n",
       "    <tr>\n",
       "      <th>San Francisco</th>\n",
       "      <td>1</td>\n",
       "      <td>1</td>\n",
       "      <td>1</td>\n",
       "    </tr>\n",
       "  </tbody>\n",
       "</table>\n",
       "</div>"
      ],
      "text/plain": [
       "               Name  Age  Salary\n",
       "City                            \n",
       "Chicago           1    1       1\n",
       "Los Angeles       2    2       2\n",
       "San Francisco     1    1       1"
      ]
     },
     "execution_count": 91,
     "metadata": {},
     "output_type": "execute_result"
    }
   ],
   "source": [
    "# Computing the count for each group\n",
    "grouped.count()"
   ]
  },
  {
   "cell_type": "code",
   "execution_count": 92,
   "metadata": {
    "colab": {
     "base_uri": "https://localhost:8080/",
     "height": 174
    },
    "executionInfo": {
     "elapsed": 4,
     "status": "ok",
     "timestamp": 1684329044103,
     "user": {
      "displayName": "Bruno Sartini",
      "userId": "05292936127254060969"
     },
     "user_tz": -120
    },
    "id": "T_F9rm381U2j",
    "outputId": "95a6e75d-8ad0-4b95-f2f6-a2d666c409e4"
   },
   "outputs": [
    {
     "data": {
      "text/html": [
       "<div>\n",
       "<style scoped>\n",
       "    .dataframe tbody tr th:only-of-type {\n",
       "        vertical-align: middle;\n",
       "    }\n",
       "\n",
       "    .dataframe tbody tr th {\n",
       "        vertical-align: top;\n",
       "    }\n",
       "\n",
       "    .dataframe thead th {\n",
       "        text-align: right;\n",
       "    }\n",
       "</style>\n",
       "<table border=\"1\" class=\"dataframe\">\n",
       "  <thead>\n",
       "    <tr style=\"text-align: right;\">\n",
       "      <th></th>\n",
       "      <th>Age</th>\n",
       "      <th>Salary</th>\n",
       "    </tr>\n",
       "    <tr>\n",
       "      <th>City</th>\n",
       "      <th></th>\n",
       "      <th></th>\n",
       "    </tr>\n",
       "  </thead>\n",
       "  <tbody>\n",
       "    <tr>\n",
       "      <th>Chicago</th>\n",
       "      <td>28</td>\n",
       "      <td>60000</td>\n",
       "    </tr>\n",
       "    <tr>\n",
       "      <th>Los Angeles</th>\n",
       "      <td>35</td>\n",
       "      <td>80000</td>\n",
       "    </tr>\n",
       "    <tr>\n",
       "      <th>San Francisco</th>\n",
       "      <td>32</td>\n",
       "      <td>75000</td>\n",
       "    </tr>\n",
       "  </tbody>\n",
       "</table>\n",
       "</div>"
      ],
      "text/plain": [
       "               Age  Salary\n",
       "City                      \n",
       "Chicago         28   60000\n",
       "Los Angeles     35   80000\n",
       "San Francisco   32   75000"
      ]
     },
     "execution_count": 92,
     "metadata": {},
     "output_type": "execute_result"
    }
   ],
   "source": [
    "# Finding the maximum value for each group\n",
    "grouped.max(numeric_only=True)"
   ]
  },
  {
   "cell_type": "code",
   "execution_count": 93,
   "metadata": {
    "colab": {
     "base_uri": "https://localhost:8080/",
     "height": 174
    },
    "executionInfo": {
     "elapsed": 3,
     "status": "ok",
     "timestamp": 1684329058433,
     "user": {
      "displayName": "Bruno Sartini",
      "userId": "05292936127254060969"
     },
     "user_tz": -120
    },
    "id": "xHo3yABA1ZQU",
    "outputId": "09e795ed-fa81-443c-f2ce-ba5ee8426419"
   },
   "outputs": [
    {
     "data": {
      "text/html": [
       "<div>\n",
       "<style scoped>\n",
       "    .dataframe tbody tr th:only-of-type {\n",
       "        vertical-align: middle;\n",
       "    }\n",
       "\n",
       "    .dataframe tbody tr th {\n",
       "        vertical-align: top;\n",
       "    }\n",
       "\n",
       "    .dataframe thead th {\n",
       "        text-align: right;\n",
       "    }\n",
       "</style>\n",
       "<table border=\"1\" class=\"dataframe\">\n",
       "  <thead>\n",
       "    <tr style=\"text-align: right;\">\n",
       "      <th></th>\n",
       "      <th>Age</th>\n",
       "      <th>Salary</th>\n",
       "    </tr>\n",
       "    <tr>\n",
       "      <th>City</th>\n",
       "      <th></th>\n",
       "      <th></th>\n",
       "    </tr>\n",
       "  </thead>\n",
       "  <tbody>\n",
       "    <tr>\n",
       "      <th>Chicago</th>\n",
       "      <td>28</td>\n",
       "      <td>60000</td>\n",
       "    </tr>\n",
       "    <tr>\n",
       "      <th>Los Angeles</th>\n",
       "      <td>25</td>\n",
       "      <td>50000</td>\n",
       "    </tr>\n",
       "    <tr>\n",
       "      <th>San Francisco</th>\n",
       "      <td>32</td>\n",
       "      <td>75000</td>\n",
       "    </tr>\n",
       "  </tbody>\n",
       "</table>\n",
       "</div>"
      ],
      "text/plain": [
       "               Age  Salary\n",
       "City                      \n",
       "Chicago         28   60000\n",
       "Los Angeles     25   50000\n",
       "San Francisco   32   75000"
      ]
     },
     "execution_count": 93,
     "metadata": {},
     "output_type": "execute_result"
    }
   ],
   "source": [
    "# Finding the minimum value for each group\n",
    "grouped.min(numeric_only=True)"
   ]
  },
  {
   "cell_type": "markdown",
   "metadata": {
    "id": "HcJinIwn282q"
   },
   "source": [
    "## What is a pivot table?\n",
    "\n",
    "A pivot table is a data summarization technique in pandas that allows you to restructure and analyze data by grouping and aggregating it based on specific criteria. It provides a way to create a multi-dimensional table where data can be viewed from different perspectives.\n",
    "\n",
    "In a pivot table, you can specify one or more columns as the index, another column as the columns, and a third column as the values. The values in the table are then aggregated based on the combinations of index and column values.\n",
    "\n",
    "The **pivot_table()** function in pandas is used to create a pivot table from a DataFrame. It takes several parameters, including values, index, and columns, to specify the columns to be aggregated, the rows for the index, and the columns for the columns."
   ]
  },
  {
   "cell_type": "code",
   "execution_count": 107,
   "metadata": {
    "colab": {
     "base_uri": "https://localhost:8080/"
    },
    "executionInfo": {
     "elapsed": 226,
     "status": "ok",
     "timestamp": 1684329508093,
     "user": {
      "displayName": "Bruno Sartini",
      "userId": "05292936127254060969"
     },
     "user_tz": -120
    },
    "id": "KBfoQqYA1cr9",
    "outputId": "19d82b17-8b35-4d4c-f9fc-33cef4ed37cf"
   },
   "outputs": [
    {
     "name": "stdout",
     "output_type": "stream",
     "text": [
      "City     Los Angeles  New York\n",
      "Name                          \n",
      "Charlie          NaN    1500.0\n",
      "Emily         5000.0       NaN\n",
      "John             NaN    3500.0\n"
     ]
    }
   ],
   "source": [
    "import pandas as pd\n",
    "\n",
    "# Create a sample DataFrame\n",
    "data = {'Name': ['John', 'Emily', 'Charlie', 'Emily', 'John'],\n",
    "        'City': ['New York', 'Los Angeles', 'New York', 'Los Angeles', 'New York'],\n",
    "        'Sales': [1000, 2000, 1500, 3000, 2500]}\n",
    "df = pd.DataFrame(data)\n",
    "\n",
    "# Create a pivot table to aggregate sales by name and city\n",
    "pivot_table = df.pivot_table(values='Sales', index='Name', columns='City', aggfunc='sum')\n",
    "\n",
    "print(pivot_table)\n"
   ]
  },
  {
   "cell_type": "markdown",
   "metadata": {
    "id": "6aImw18s5seM"
   },
   "source": [
    "## Iterating over rows of a dataframe\n",
    "\n",
    "We use **dataframe_name.iterrows()** to iterate over rows of a DataFrame"
   ]
  },
  {
   "cell_type": "code",
   "execution_count": 109,
   "metadata": {
    "colab": {
     "base_uri": "https://localhost:8080/"
    },
    "executionInfo": {
     "elapsed": 232,
     "status": "ok",
     "timestamp": 1684330489638,
     "user": {
      "displayName": "Bruno Sartini",
      "userId": "05292936127254060969"
     },
     "user_tz": -120
    },
    "id": "rrveAP0v6oFk",
    "outputId": "e9918040-a0fe-468c-fb6b-d6129e888687"
   },
   "outputs": [
    {
     "name": "stdout",
     "output_type": "stream",
     "text": [
      "0\n",
      "John 25\n",
      "1\n",
      "Sarah 30\n",
      "2\n",
      "James 99\n",
      "3\n",
      "Mary 99\n",
      "4\n",
      "Mary 99\n",
      "5\n",
      "Roger 41\n",
      "6\n",
      "Superman 203\n",
      "7\n",
      "My imagination has limits 0\n"
     ]
    }
   ],
   "source": [
    "import pandas as pd\n",
    "\n",
    "data = pd.read_csv('data.csv')\n",
    "for index, row in data.iterrows():\n",
    "    print(index)\n",
    "    print(row['Name'], row['Age'])\n"
   ]
  },
  {
   "cell_type": "markdown",
   "metadata": {
    "id": "Rup1y4xP3OO1"
   },
   "source": [
    "## Reading and Writing Excel Files with pandas\n",
    "\n",
    "You can use the **.read_excel(\"excel_filename\")** method to read excel data using Pandas. It might be required that you install additional libraries for this function.\n",
    "\n",
    "You can use the **dataframe.to_excel(\"excel_filename_for_output, index=either False or True)** to write the content of an excel file to a file.\n",
    "\n",
    "You need to install **openpyxl** package first to handle excel files."
   ]
  },
  {
   "cell_type": "code",
   "execution_count": 105,
   "metadata": {},
   "outputs": [
    {
     "name": "stdout",
     "output_type": "stream",
     "text": [
      "Collecting openpyxl\n",
      "  Downloading openpyxl-3.1.2-py2.py3-none-any.whl (249 kB)\n",
      "Collecting et-xmlfile\n",
      "  Downloading et_xmlfile-1.1.0-py3-none-any.whl (4.7 kB)\n",
      "Installing collected packages: et-xmlfile, openpyxl\n",
      "Successfully installed et-xmlfile-1.1.0 openpyxl-3.1.2\n"
     ]
    },
    {
     "name": "stderr",
     "output_type": "stream",
     "text": [
      "WARNING: You are using pip version 21.1.2; however, version 23.1.2 is available.\n",
      "You should consider upgrading via the 'C:\\Users\\ra65faw\\PycharmProjects\\pythonProject\\venv\\Scripts\\python.exe -m pip install --upgrade pip' command.\n"
     ]
    }
   ],
   "source": [
    "!pip install openpyxl"
   ]
  },
  {
   "cell_type": "code",
   "execution_count": 110,
   "metadata": {
    "colab": {
     "base_uri": "https://localhost:8080/"
    },
    "executionInfo": {
     "elapsed": 554,
     "status": "ok",
     "timestamp": 1684329569247,
     "user": {
      "displayName": "Bruno Sartini",
      "userId": "05292936127254060969"
     },
     "user_tz": -120
    },
    "id": "HJWYlZ5U3XFd",
    "outputId": "af4b4046-6929-4def-92dc-05e5b8293f29"
   },
   "outputs": [
    {
     "name": "stdout",
     "output_type": "stream",
     "text": [
      "    Name  Age\n",
      "0   John   25\n",
      "1  Sarah   30\n",
      "2  James   99\n"
     ]
    }
   ],
   "source": [
    "data = pd.read_excel('data.xlsx')\n",
    "print(data)\n"
   ]
  },
  {
   "cell_type": "code",
   "execution_count": 111,
   "metadata": {
    "executionInfo": {
     "elapsed": 204,
     "status": "ok",
     "timestamp": 1684329622821,
     "user": {
      "displayName": "Bruno Sartini",
      "userId": "05292936127254060969"
     },
     "user_tz": -120
    },
    "id": "CSMbbV5C3KiI"
   },
   "outputs": [],
   "source": [
    "data = {'Name': ['John', 'Sarah', 'Michael'], 'Age': [25, 30, 35]}\n",
    "df = pd.DataFrame(data)\n",
    "\n",
    "df.to_excel('output.xlsx', index=False)"
   ]
  },
  {
   "cell_type": "markdown",
   "metadata": {},
   "source": [
    "## More pandas\n",
    "\n",
    "Check the documentation [here](https://pandas.pydata.org/docs/)"
   ]
  },
  {
   "cell_type": "markdown",
   "metadata": {
    "id": "EGGHfONb4M-G"
   },
   "source": [
    "## Reading and Writing JSON files\n",
    "\n",
    "JSON (JavaScript Object Notation) is a lightweight data interchange format that is easy for humans to read and write and easy for machines to parse and generate. It is widely used to transmit data between a server and a web application.\n",
    "\n",
    "JSON represents data as key-value pairs in a hierarchical structure (like a Pyhton Dictionary!). It supports various data types such as strings, numbers, booleans, arrays, and objects. The data is organized into nested structures, making it flexible for representing complex data relationships.\n",
    "\n",
    "\n",
    "\n",
    "```json\n",
    "{\n",
    "  \"name\": \"John Doe\",\n",
    "  \"age\": 30,\n",
    "  \"city\": \"New York\",\n",
    "  \"skills\": [\"Python\", \"JavaScript\", \"HTML\", \"CSS\"],\n",
    "  \"contact\": {\n",
    "    \"email\": \"john.doe@example.com\",\n",
    "    \"phone\": \"123-456-7890\"\n",
    "  }\n",
    "}\n",
    "\n",
    "```\n",
    "\n",
    "To read and write data from a JSON file in Python, we can use the **json** module.\n",
    "\n"
   ]
  },
  {
   "cell_type": "markdown",
   "metadata": {
    "id": "TgIQJ4iw7Lau"
   },
   "source": [
    "`json.dumps()`: Converts a Python object to a JSON string."
   ]
  },
  {
   "cell_type": "code",
   "execution_count": 82,
   "metadata": {
    "colab": {
     "base_uri": "https://localhost:8080/"
    },
    "executionInfo": {
     "elapsed": 273,
     "status": "ok",
     "timestamp": 1684330658213,
     "user": {
      "displayName": "Bruno Sartini",
      "userId": "05292936127254060969"
     },
     "user_tz": -120
    },
    "id": "nc-HRb-W7Pof",
    "outputId": "837e86cf-9c7e-46f4-da48-fb6e06b2f49f"
   },
   "outputs": [
    {
     "name": "stdout",
     "output_type": "stream",
     "text": [
      "{\"name\": \"John\", \"age\": 30}\n"
     ]
    }
   ],
   "source": [
    "import json\n",
    "\n",
    "data = {\"name\": \"John\", \"age\": 30}\n",
    "json_string = json.dumps(data)\n",
    "print(json_string)\n"
   ]
  },
  {
   "cell_type": "markdown",
   "metadata": {
    "id": "7qGzZ-G07LmB"
   },
   "source": [
    "`json.dump()`: Writes a Python object as a JSON string to a file."
   ]
  },
  {
   "cell_type": "code",
   "execution_count": 112,
   "metadata": {
    "id": "G47F8tR27W-s"
   },
   "outputs": [],
   "source": [
    "import json\n",
    "\n",
    "data = {\"name\": \"John\", \"age\": 30}\n",
    "with open(\"data.json\", \"w\") as file:\n",
    "    json.dump(data, file)"
   ]
  },
  {
   "cell_type": "markdown",
   "metadata": {
    "id": "ynz3mCPt7Lz8"
   },
   "source": [
    "`json.loads()`: Parses a JSON string and converts it into a Python object. (a dictionary)"
   ]
  },
  {
   "cell_type": "code",
   "execution_count": 114,
   "metadata": {
    "colab": {
     "base_uri": "https://localhost:8080/"
    },
    "executionInfo": {
     "elapsed": 221,
     "status": "ok",
     "timestamp": 1684330653673,
     "user": {
      "displayName": "Bruno Sartini",
      "userId": "05292936127254060969"
     },
     "user_tz": -120
    },
    "id": "qTV6HEzk7fMn",
    "outputId": "a763f748-730b-42e1-eb73-fddb80f92daf"
   },
   "outputs": [
    {
     "name": "stdout",
     "output_type": "stream",
     "text": [
      "John\n"
     ]
    }
   ],
   "source": [
    "import json\n",
    "\n",
    "json_string = '{\"name\": \"John\", \"age\": 30}'\n",
    "data = json.loads(json_string)\n",
    "print(data[\"name\"])  # Output: John\n"
   ]
  },
  {
   "cell_type": "markdown",
   "metadata": {
    "id": "M8Ld45pJ7tWu"
   },
   "source": [
    "`json.load()`: Reads a JSON string from a file and parses it into a Python object."
   ]
  },
  {
   "cell_type": "code",
   "execution_count": 115,
   "metadata": {
    "colab": {
     "base_uri": "https://localhost:8080/"
    },
    "executionInfo": {
     "elapsed": 224,
     "status": "ok",
     "timestamp": 1684330730713,
     "user": {
      "displayName": "Bruno Sartini",
      "userId": "05292936127254060969"
     },
     "user_tz": -120
    },
    "id": "Ifjd8UkT7lhZ",
    "outputId": "b4ecf372-18e9-4d4b-8bb7-8179611e3a1b"
   },
   "outputs": [
    {
     "name": "stdout",
     "output_type": "stream",
     "text": [
      "John\n"
     ]
    }
   ],
   "source": [
    "import json\n",
    "\n",
    "with open(\"data.json\", \"r\") as file:\n",
    "    data = json.load(file)\n",
    "print(data[\"name\"])"
   ]
  },
  {
   "cell_type": "markdown",
   "metadata": {
    "id": "0v9vijAG743-"
   },
   "source": [
    "`json.dump()` and `json.load()` can be used together to copy JSON data from one file to another."
   ]
  },
  {
   "cell_type": "code",
   "execution_count": 116,
   "metadata": {
    "colab": {
     "base_uri": "https://localhost:8080/"
    },
    "executionInfo": {
     "elapsed": 224,
     "status": "ok",
     "timestamp": 1684330024991,
     "user": {
      "displayName": "Bruno Sartini",
      "userId": "05292936127254060969"
     },
     "user_tz": -120
    },
    "id": "1l5cZL3A3mj1",
    "outputId": "7fb42dae-79b1-4d2e-8b2b-c6146998220a"
   },
   "outputs": [],
   "source": [
    "import json\n",
    "\n",
    "with open(\"data.json\", \"r\") as input_file, open(\"output.json\", \"w\") as output_file:\n",
    "    data = json.load(input_file)\n",
    "    json.dump(data, output_file)\n",
    "\n"
   ]
  },
  {
   "cell_type": "markdown",
   "metadata": {
    "id": "TaRJhh7V8Dr9"
   },
   "source": [
    "`json.dumps()` can accept additional parameters such as `indent` and `sort_keys` for printing things in a nicer way and sorting the keys in the output."
   ]
  },
  {
   "cell_type": "code",
   "execution_count": 118,
   "metadata": {
    "colab": {
     "base_uri": "https://localhost:8080/"
    },
    "executionInfo": {
     "elapsed": 218,
     "status": "ok",
     "timestamp": 1684330827860,
     "user": {
      "displayName": "Bruno Sartini",
      "userId": "05292936127254060969"
     },
     "user_tz": -120
    },
    "id": "NQ5Brmf05hVk",
    "outputId": "9fdcecc1-ba2b-4fef-e9c3-475ae2befa4f"
   },
   "outputs": [
    {
     "name": "stdout",
     "output_type": "stream",
     "text": [
      "{\n",
      "    \"age\": 30,\n",
      "    \"name\": \"John\"\n",
      "}\n",
      "{\"name\": \"John\", \"age\": 30}\n"
     ]
    }
   ],
   "source": [
    "import json\n",
    "\n",
    "data = {\"name\": \"John\", \"age\": 30}\n",
    "json_string = json.dumps(data, indent=4, sort_keys=True)\n",
    "json_string_ugly = json.dumps(data)\n",
    "print(json_string)\n",
    "print(json_string_ugly)\n"
   ]
  },
  {
   "cell_type": "markdown",
   "metadata": {
    "id": "jZLHrOtZ8ZqI"
   },
   "source": [
    "# Exercises:\n",
    "\n",
    "## Exercise 7.1\n",
    "\n",
    "Write a function that reads a CSV file and returns the total number of rows in the file.\n",
    "\n",
    "## Exercise 7.2\n",
    "\n",
    "Write a function that reads a JSON file and returns a list of unique values from a specific key.\n",
    "\n",
    "## Exercise 7.3\n",
    "\n",
    "Write a function that reads a text file and replaces all occurrences of a word with another word.\n",
    "\n",
    "## Exercise 7.4:\n",
    "\n",
    "Write a function `load_csv_data(filename)` that takes a filename as input and uses `pd.read_csv()` to load the data from the CSV file into a DataFrame. The function should return the DataFrame.\n",
    "\n",
    "## Exercise 7.5:\n",
    "\n",
    "Write a function `get_column_names(data)` that takes a DataFrame as input and uses the `columns` attribute to retrieve and return a list of column names.\n",
    "\n",
    "## Exercise 7.6:\n",
    "\n",
    "Write a function `calculate_column_average(data, column_name)` that takes a DataFrame and a column name as input. The function should use the `mean` function on the specified column to calculate and return the average value.\n",
    "\n",
    "## Exercise 7.7\n",
    "\n",
    "Write a function `save_data_to_csv(data, filename)` that takes a DataFrame and a filename as input. The function should use the `to_csv()` function to save the DataFrame to a CSV file with the specified filename.\n",
    "\n",
    "## Exercise 7.8\n",
    "\n",
    "Create a Jupyter notebook where you document and test all the previous functions\n",
    "\n",
    "\n",
    "## Data for testing\n",
    "\n",
    "Here is an example CSV file `data.csv` that you can use to test the functions above:\n",
    "\n",
    "```\n",
    "name,age,city\n",
    "John,30,New York\n",
    "Emily,25,Los Angeles\n",
    "Michael,35,Chicago\n",
    "Sophia,28,Houston\n",
    "Daniel,32,San Francisco\n",
    "Olivia,27,Miami\n",
    "James,31,Seattle\n",
    "Emma,29,Boston\n",
    "William,26,Atlanta\n",
    "Ava,33,Dallas\n",
    "Benjamin,24,Denver\n",
    "Isabella,30,Austin\n",
    "Mason,28,Phoenix\n",
    "Mia,29,Detroit\n",
    "Elijah,27,Philadelphia\n",
    "```\n",
    "\n",
    "Copy this in a notepad and save it as \"data.csv\". If your computer saves it as a txt, open it with excel and then separate the values using the \",\" element. Then save it as a csv.\n",
    "\n",
    "\n"
   ]
  },
  {
   "cell_type": "markdown",
   "metadata": {},
   "source": [
    "Edit: Actually, even if you save it as a txt it should be fine and you can use the csv methods on it regardless."
   ]
  },
  {
   "cell_type": "markdown",
   "metadata": {},
   "source": []
  }
 ],
 "metadata": {
  "colab": {
   "authorship_tag": "ABX9TyPSwVfos6mAS5t1tAKrZiyn",
   "provenance": []
  },
  "kernelspec": {
   "display_name": "Python 3 (ipykernel)",
   "language": "python",
   "name": "python3"
  },
  "language_info": {
   "codemirror_mode": {
    "name": "ipython",
    "version": 3
   },
   "file_extension": ".py",
   "mimetype": "text/x-python",
   "name": "python",
   "nbconvert_exporter": "python",
   "pygments_lexer": "ipython3",
   "version": "3.10.1"
  }
 },
 "nbformat": 4,
 "nbformat_minor": 1
}
