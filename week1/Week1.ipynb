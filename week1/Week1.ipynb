{
 "cells": [
  {
   "cell_type": "markdown",
   "id": "db0ed282-f850-44ab-a3f9-172d941197f2",
   "metadata": {},
   "source": [
    "# First Week\n",
    "\n",
    "* ~What is Python~\n",
    "* ~What is Jupyter Notebook~\n",
    "* Brief introduction to Markdown\n",
    "* Introduction to Python Syntax\n",
    "* Variables, Data types\n",
    "* The print function\n",
    "* Assignment"
   ]
  },
  {
   "cell_type": "markdown",
   "id": "cc4a5b55-7e7d-4986-9a69-61ac68750ad2",
   "metadata": {},
   "source": [
    "***\n",
    "***\n",
    "## Brief introduction to Markdown"
   ]
  },
  {
   "cell_type": "markdown",
   "id": "ec6eb824-4837-4fc5-8757-c6380cab06d5",
   "metadata": {},
   "source": [
    "This is markdown"
   ]
  },
  {
   "cell_type": "markdown",
   "id": "c1a69087-a7f9-4fb2-b617-e37a706f5902",
   "metadata": {},
   "source": [
    "# You can use\n",
    "## Different types of\n",
    "### Font dimensions\n",
    "#### To structure a markdown document"
   ]
  },
  {
   "cell_type": "markdown",
   "id": "2863f27b-6779-4833-8a47-26eadd7ce64b",
   "metadata": {},
   "source": [
    "Double clicking a block will let you see the syntax inside"
   ]
  },
  {
   "cell_type": "markdown",
   "id": "77c41a36-85d0-4dab-ac91-2e5a70feeac7",
   "metadata": {},
   "source": [
    "***"
   ]
  },
  {
   "cell_type": "markdown",
   "id": "3d327ded-b317-46d0-b311-333e6e2fe624",
   "metadata": {},
   "source": [
    "Markdown can also be used to create tables, like this one:\n",
    "\n",
    "| Programming class introduced concept | What is it                               | Example?                         |\n",
    "|--------------------------------------|------------------------------------------|----------------------------------|\n",
    "| Python                               | Programming Language                     | print(\"This is a print command\") |\n",
    "| PyCharm                              | Integrated Development Environment (IDE) | Nope                             |\n",
    "| Jupyter Notebook                     | Interactive programming document         | This notebook!                   |\n",
    "\n",
    "Double click on the block to get its syntax"
   ]
  },
  {
   "cell_type": "markdown",
   "id": "e77b97d4-91f3-4221-985e-2420c86cbbd4",
   "metadata": {},
   "source": [
    "You can easily create, convert, export markdown tables using the website https://www.tablesgenerator.com/markdown_tables"
   ]
  },
  {
   "cell_type": "markdown",
   "id": "6b32a993-4e2c-41b9-b07f-b07e17ae5e59",
   "metadata": {},
   "source": [
    "***"
   ]
  },
  {
   "cell_type": "markdown",
   "id": "911cba13-e003-482e-a635-3f20f26d7d6e",
   "metadata": {},
   "source": [
    "You can also make lists in markdown, such as this\n",
    "\n",
    "* Item a\n",
    "* Item b\n",
    "* Item c\n",
    "\n",
    "Or numbered lists\n",
    "\n",
    "1. Item 1\n",
    "2. Item 2\n",
    "3. Item 3"
   ]
  },
  {
   "cell_type": "markdown",
   "id": "7ea908f8-30f3-4500-8689-dfcab062972e",
   "metadata": {},
   "source": [
    "***\n",
    "***\n",
    "## Introduction to Python Syntax"
   ]
  },
  {
   "cell_type": "markdown",
   "id": "0c830158-79f3-40d7-97f8-1fba4f6be69b",
   "metadata": {},
   "source": [
    "Python is a case-sensitive programming language (i.e, \"Hello\" is different from \"hello\" or \"HeLlO\") <br>\n",
    "Statements are typically written on separate lines <br>\n",
    "Indentation is used to group statements together, indentation is very important in python, it is not optional! <br>"
   ]
  },
  {
   "cell_type": "code",
   "execution_count": 2,
   "id": "ad6a5d9d-a887-4075-a796-34f1aa3e4585",
   "metadata": {},
   "outputs": [
    {
     "name": "stdout",
     "output_type": "stream",
     "text": [
      "Welcome to Introduction to Programming for Humanists\n",
      "x is greater than y\n"
     ]
    }
   ],
   "source": [
    "# This is a comment\n",
    "print(\"Welcome to Introduction to Programming for Humanists\")  # This is also a comment\n",
    "# This function is called print! It's a built-in python function that lets you print stuff on the console\n",
    "\n",
    "'''\n",
    "this is\n",
    "a \n",
    "multiline\n",
    "comment btw'''\n",
    "\n",
    "x = 3  # Assign the value 3 to variable x\n",
    "y = 2  # Assign the value 2 to variable y\n",
    "\n",
    "if x > y:\n",
    "    print(\"x is greater than y\")\n",
    "else:\n",
    "    print(\"y is greater than or equal to x\")"
   ]
  },
  {
   "cell_type": "markdown",
   "id": "05d8e1a8-be7a-4ccf-b666-bbf9b16a8cb9",
   "metadata": {},
   "source": [
    "***\n",
    "## Variables and Data Types"
   ]
  },
  {
   "cell_type": "markdown",
   "id": "c25811e0-6d1f-4a93-85af-5097db92002a",
   "metadata": {},
   "source": [
    "A variable is a container that stores a certain value, or data structure of a specific type. \n",
    "You can assign a value to a variable using the assignment operator ('=').\n",
    "\n",
    "You can simply create a variable and assign it a value like this"
   ]
  },
  {
   "cell_type": "code",
   "execution_count": 5,
   "id": "0fe16605-9fb3-4fab-bf2d-756370494be6",
   "metadata": {},
   "outputs": [],
   "source": [
    "a = \"This is the value of the variable a\" # This type of value is called \"string\""
   ]
  },
  {
   "cell_type": "markdown",
   "id": "bd982a84-7529-4b0f-9abf-502738be7d09",
   "metadata": {},
   "source": [
    "You can change the content of a variable by reassigning another value, once you do that, the previous content of the variable is overwritten."
   ]
  },
  {
   "cell_type": "code",
   "execution_count": 6,
   "id": "c23bcafc-b1a9-4a36-861c-9637bbe08880",
   "metadata": {},
   "outputs": [],
   "source": [
    "a = \"This is the new value of a\""
   ]
  },
  {
   "cell_type": "markdown",
   "id": "41a35cbc-203f-45b1-8167-ae60c1186cb5",
   "metadata": {},
   "source": [
    "Remember that Python is case sensitive, so this variable is different than the other one"
   ]
  },
  {
   "cell_type": "code",
   "execution_count": 7,
   "id": "6d86a852-018e-4426-8748-8d8e307e71e6",
   "metadata": {},
   "outputs": [],
   "source": [
    "A = \"This is not a, this is A\""
   ]
  },
  {
   "cell_type": "code",
   "execution_count": 9,
   "id": "9316434c-bf0d-4a77-98bb-804435e183c5",
   "metadata": {},
   "outputs": [
    {
     "name": "stdout",
     "output_type": "stream",
     "text": [
      "This is the new value of a\n",
      "This is not a, this is A\n"
     ]
    }
   ],
   "source": [
    "print(a) # you can use print to print the value of a variable, more on this later this lesson\n",
    "print(A)"
   ]
  },
  {
   "attachments": {},
   "cell_type": "markdown",
   "id": "9e913e4c-10cb-41a8-8dcf-7ef8cd4126d4",
   "metadata": {},
   "source": [
    "Python has several built-in data types, including:\n",
    "\n",
    "* Integer ('int')\n",
    "    * An integer is a non-decimal number, like 1\n",
    "* Floating-point number ('float')\n",
    "    * A float is a decimal number, like 1.34\n",
    "* String ('str')\n",
    "    * A string is a text value, it can contain sentences, words, symbols...\n",
    "* Boolean ('bool')\n",
    "    * A boolean is a logical value, it can only be 'True' or 'False'"
   ]
  },
  {
   "cell_type": "code",
   "execution_count": 13,
   "id": "0aab7d55-a2eb-470b-adc8-f160af06f22b",
   "metadata": {},
   "outputs": [],
   "source": [
    "# Integer variable\n",
    "a = 3 # note that this will rewrite the previously defined \"a\" variable\n",
    "\n",
    "# Float variable\n",
    "b = 3.14\n",
    "\n",
    "# String variable\n",
    "c = \"Hello, humanists or future computer scientists!\"\n",
    "\n",
    "# Boolean variable\n",
    "are_you_having_fun = True\n"
   ]
  },
  {
   "cell_type": "markdown",
   "id": "590e54af-172c-4ec9-8070-222be3fb6f43",
   "metadata": {},
   "source": [
    "You can change the datatype of the value of a variable, by recalling it and superimposing a type on it. For example\n"
   ]
  },
  {
   "cell_type": "code",
   "execution_count": 16,
   "id": "474e26eb-3e55-409d-abd1-11c4ba55e34d",
   "metadata": {},
   "outputs": [
    {
     "name": "stdout",
     "output_type": "stream",
     "text": [
      "3\n",
      "3.0\n",
      "3.0\n"
     ]
    }
   ],
   "source": [
    "a = 3\n",
    "\n",
    "print(a)\n",
    "\n",
    "a = float(a)\n",
    "\n",
    "print(a)\n",
    "\n",
    "a = str(a)\n",
    "\n",
    "print(a)"
   ]
  },
  {
   "cell_type": "markdown",
   "id": "7353ac4d-d094-4451-b1df-2619f5253084",
   "metadata": {},
   "source": [
    "What changes between the second and third one? Because \"a\" has now a string value, you cannot do arithmetic operations with it (we'll see more arithmetic operations next week)"
   ]
  },
  {
   "cell_type": "code",
   "execution_count": 17,
   "id": "1a288da1-906b-41bc-92bc-975c54e23bfb",
   "metadata": {},
   "outputs": [
    {
     "ename": "TypeError",
     "evalue": "can only concatenate str (not \"int\") to str",
     "output_type": "error",
     "traceback": [
      "\u001b[1;31m---------------------------------------------------------------------------\u001b[0m",
      "\u001b[1;31mTypeError\u001b[0m                                 Traceback (most recent call last)",
      "\u001b[1;32m~\\AppData\\Local\\Temp/ipykernel_15972/4221904277.py\u001b[0m in \u001b[0;36m<module>\u001b[1;34m\u001b[0m\n\u001b[1;32m----> 1\u001b[1;33m \u001b[0ma\u001b[0m \u001b[1;33m+\u001b[0m \u001b[1;36m3\u001b[0m\u001b[1;33m\u001b[0m\u001b[1;33m\u001b[0m\u001b[0m\n\u001b[0m",
      "\u001b[1;31mTypeError\u001b[0m: can only concatenate str (not \"int\") to str"
     ]
    }
   ],
   "source": [
    "a + 3"
   ]
  },
  {
   "cell_type": "code",
   "execution_count": 19,
   "id": "a1f81ae7-62c8-405d-b2f7-006ea7afdd8f",
   "metadata": {},
   "outputs": [
    {
     "data": {
      "text/plain": [
       "6.0"
      ]
     },
     "execution_count": 19,
     "metadata": {},
     "output_type": "execute_result"
    }
   ],
   "source": [
    "a = float(a)\n",
    "a + 3"
   ]
  },
  {
   "attachments": {},
   "cell_type": "markdown",
   "id": "38611a86",
   "metadata": {},
   "source": [
    "You can check which datatype your variable is by using **type(variablename)**"
   ]
  },
  {
   "cell_type": "code",
   "execution_count": null,
   "id": "ed905717",
   "metadata": {
    "vscode": {
     "languageId": "r"
    }
   },
   "outputs": [],
   "source": [
    "a = 25\n",
    "print(type(a))\n",
    "a = str(a)\n",
    "print(type(a))"
   ]
  },
  {
   "attachments": {},
   "cell_type": "markdown",
   "id": "801552ff-2576-4fc6-8f5f-d0e958c388be",
   "metadata": {},
   "source": [
    "You can use the \"input()\" function to assign a value on the fly for a variable. The datatype, if not specifically superimposed, will always be string."
   ]
  },
  {
   "cell_type": "code",
   "execution_count": 23,
   "id": "370bb17c-83b5-4d4e-b018-58e54667539e",
   "metadata": {},
   "outputs": [
    {
     "name": "stdout",
     "output_type": "stream",
     "text": [
      "What is the input? 345\n"
     ]
    },
    {
     "name": "stdout",
     "output_type": "stream",
     "text": [
      "345\n"
     ]
    }
   ],
   "source": [
    "a = input(\"What is the input?\")\n",
    "\n",
    "print(a)\n",
    "print(type(a))\n",
    "\n",
    "b = int(input(\"What is the input?\"))\n",
    "print(b)\n",
    "print(type(b))"
   ]
  },
  {
   "cell_type": "markdown",
   "id": "cc43bb6d-0c29-4174-8008-8c5d68ee0bdd",
   "metadata": {},
   "source": [
    "***\n",
    "## Print Function"
   ]
  },
  {
   "cell_type": "markdown",
   "id": "b35a97df-1c51-4052-b885-f56f9b788f23",
   "metadata": {},
   "source": [
    "The **print()** function is used to output text to the console in Python. You can print out the value of a variable, as well as combine multiple strings using **concatenation** or **string formatting**."
   ]
  },
  {
   "cell_type": "code",
   "execution_count": 21,
   "id": "0f2a8361-6762-4f32-95bc-78824029ff7c",
   "metadata": {},
   "outputs": [
    {
     "name": "stdout",
     "output_type": "stream",
     "text": [
      "Print something\n",
      "3\n",
      "My name is Bruno and this is class number 1 of the Introduction to Programming for Humanists course\n",
      "My name is Bruno and this is class number 1 of the Introduction to Programming for Humanists course\n"
     ]
    }
   ],
   "source": [
    "# Print a string\n",
    "print(\"Print something\")\n",
    "\n",
    "# Print the value of a variable\n",
    "a = 3\n",
    "print(a)\n",
    "\n",
    "# Concatenate strings\n",
    "name = \"Bruno\"\n",
    "class_n = 1\n",
    "print(\"My name is \" + name + \" and this is class number \" + str(class_n) + \" of the Introduction to Programming for Humanists course\")\n",
    "\n",
    "# String formatting\n",
    "print(\"My name is {} and this is class number {} of the Introduction to Programming for Humanists course\".format(name, class_n))\n"
   ]
  },
  {
   "cell_type": "markdown",
   "id": "8da60c84-49fc-4086-9258-bf9bf5166aa7",
   "metadata": {},
   "source": [
    "***\n",
    "***\n",
    "\n",
    "## Exercises and/or assignments"
   ]
  },
  {
   "cell_type": "markdown",
   "id": "f569f6a8-59ce-4471-bcd0-0fdb22ca5c76",
   "metadata": {},
   "source": [
    "### Exercise 1:\n",
    "\n",
    "* Create a new file in PyCharm, call it: ex_1.py\n",
    "* Create a variable called \"my_v\"\n",
    "* Assign it the value of 3\n",
    "* Reassign its value to 5\n",
    "* Change the datatype to a float\n",
    "* Print the variable\n",
    "* Save the file\n",
    "* Run the file through PyCharm or through the prompt"
   ]
  },
  {
   "cell_type": "markdown",
   "id": "8971a0cc-c9db-49bd-bb58-d098b6acbe15",
   "metadata": {},
   "source": [
    "***"
   ]
  },
  {
   "cell_type": "markdown",
   "id": "6d438f5c-760b-49cf-b326-0c72a89004b1",
   "metadata": {},
   "source": [
    "## Exercise 2\n",
    "\n",
    "* Create a new file in PyCharm, call it: ex_2.py\n",
    "* Create a variable \"name\" and ask the user to input a value for that\n",
    "* Create a variable \"age\" and ask the user to input a value for that\n",
    "* Print a message saying Hello to the person, also saying its age (remember to superimpose the string data type to the age variable before printing) using string concatenation\n",
    "* Save the file\n",
    "* Run the file through PyCharm or through the prompt"
   ]
  },
  {
   "cell_type": "markdown",
   "id": "4c525a63-b542-4307-ad50-03d142dc3df0",
   "metadata": {},
   "source": [
    "***"
   ]
  },
  {
   "cell_type": "markdown",
   "id": "b289876f-de15-4c81-b90e-527f886578f4",
   "metadata": {},
   "source": [
    "## Exercise 3\n",
    "\n",
    "* Create a new file in PyCharm, call it: ex_3.py\n",
    "* Create a variable \"this_is_true\" and set it as True\n",
    "* Create a variable \"this_is_false\" and set it as False\n",
    "* Create a variable \"is_this_true_or_false\" and ask the user to input a value for that\n",
    "* Print a message saying \"The first variable is + the value of the this_is_true variable, the second one is + the value of the this_is_false variable, and you have chosen + the value of the is_this_true_or_false variable using string formatting. Remember you don't need to change the datatype in string formatting"
   ]
  },
  {
   "cell_type": "markdown",
   "id": "72bd15a5-06dd-4f13-a0f0-ee9a95dd8562",
   "metadata": {},
   "source": [
    "***\n",
    "## Exercise 4\n",
    "\n",
    "* Open a Jupyter Notebook from the PyCharm Prompt, call it \"week1_ex.ipynb\"\n",
    "* Paste all the codes of the previous exercise\n",
    "* Format the notebook using markdown headers separating each exercise\n",
    "* For each exercise, write a paragraph describing line by line what you are doing\n",
    "* Create a table that summarises the exercise and the main functions you needed to do\n",
    "* Run all the code and markdown cells\n",
    "* Save the file"
   ]
  },
  {
   "cell_type": "code",
   "execution_count": null,
   "id": "1675cccc-03d7-4775-9369-44e101abacc4",
   "metadata": {},
   "outputs": [],
   "source": []
  }
 ],
 "metadata": {
  "kernelspec": {
   "display_name": "Python 3 (ipykernel)",
   "language": "python",
   "name": "python3"
  },
  "language_info": {
   "codemirror_mode": {
    "name": "ipython",
    "version": 3
   },
   "file_extension": ".py",
   "mimetype": "text/x-python",
   "name": "python",
   "nbconvert_exporter": "python",
   "pygments_lexer": "ipython3",
   "version": "3.8.0"
  }
 },
 "nbformat": 4,
 "nbformat_minor": 5
}
