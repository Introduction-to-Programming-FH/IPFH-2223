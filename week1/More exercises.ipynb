{
 "cells": [
  {
   "cell_type": "markdown",
   "id": "4786a319",
   "metadata": {},
   "source": [
    "# Exercise bonus (2.6)\n",
    "Prompt the user to insert a value for the variable my_first_variable (number)\n",
    "Create a variable my_second_variable, which is my_first variable multiplied by 3.\n",
    "If my_second_variable is more than 5 or if my_second_variable - my_first_variable is equal to 6 print(\"first condition satisfied\")\n",
    "Else, if my_second_variable is less or equal than 5, print(\"second condition satisfied\").\n",
    "\n",
    "# Exercise bonus (2.7)\n"
   ]
  },
  {
   "cell_type": "code",
   "execution_count": null,
   "id": "749ab51a",
   "metadata": {},
   "outputs": [],
   "source": [
    "from random import randint # the random library can be used to generate random\n",
    "# values and more...\n",
    "\n",
    "a = randint(0,100) #the randint function will generate an integer between the first\n",
    "# number you specify and the second one\n",
    "print(a)"
   ]
  },
  {
   "cell_type": "code",
   "execution_count": null,
   "id": "92dbedd3",
   "metadata": {},
   "outputs": [],
   "source": []
  },
  {
   "cell_type": "markdown",
   "id": "73b6b52d",
   "metadata": {},
   "source": [
    "Create two variables, start and end, and assign them the values of 0 and 30. Create another two variables, number_1 and number_2, assign them random integers using the randint function and the start and end variables as the parameters.\n",
    "If the first value is greater than the second, multiply it by 2. Then, change the start and end values by doubling them. The new value of number_2 will be the sum between the previous number and another random integer generated using the new start and end variables.\n",
    "If now the first value is less than the second, create a new variable: score_difference which is the subtraction between number_2 and number_1, then print(\"I finally beat you, my score was greater than yours by X points\") where x is the score_difference value.\n",
    "If the first value is still greater than the second, assign a new value to number_1 which is equal to the current value divided (integer division) by 2.\n",
    "Check again, if number_1 is still greater than number_2 print(\"I cannot beat you\"), if number_1 is now less than number_2 create a new variable: score_difference which is the subtraction between number_2 and number_1, then print(\"I finally beat you, my score was greater than yours by X points\") where x is the score_difference value.\n",
    "\n",
    "If the second value is greater than the first, do the opposite."
   ]
  },
  {
   "cell_type": "markdown",
   "id": "36124bf0",
   "metadata": {},
   "source": []
  },
  {
   "cell_type": "code",
   "execution_count": null,
   "id": "79f59a84",
   "metadata": {},
   "outputs": [],
   "source": []
  }
 ],
 "metadata": {
  "kernelspec": {
   "display_name": "Python 3 (ipykernel)",
   "language": "python",
   "name": "python3"
  },
  "language_info": {
   "codemirror_mode": {
    "name": "ipython",
    "version": 3
   },
   "file_extension": ".py",
   "mimetype": "text/x-python",
   "name": "python",
   "nbconvert_exporter": "python",
   "pygments_lexer": "ipython3",
   "version": "3.10.1"
  }
 },
 "nbformat": 4,
 "nbformat_minor": 5
}
