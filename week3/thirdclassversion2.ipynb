{
 "cells": [
  {
   "cell_type": "markdown",
   "metadata": {
    "id": "pbHfobo3pjd2"
   },
   "source": [
    "# Lists and Loops"
   ]
  },
  {
   "cell_type": "markdown",
   "metadata": {
    "id": "_gF2aiFMplbz"
   },
   "source": [
    "## Learning Objectives\n",
    "\n",
    "\n",
    "\n",
    "*   Understanding what lists are and how to create and manipulate them in Python\n",
    "*   Understanding what loops are and how to use them to iterate over lists\n",
    "    *  Understanding the difference between \"for\" and \"while\" loops\n",
    "*   Practice loops and lists together in Python\n",
    "\n"
   ]
  },
  {
   "cell_type": "markdown",
   "metadata": {
    "id": "ViSz5l-cp8cd"
   },
   "source": [
    "## Lists"
   ]
  },
  {
   "cell_type": "markdown",
   "metadata": {
    "id": "JPgTHEk7qCyI"
   },
   "source": [
    "### Creating Lists\n",
    "\n",
    "A list is an ordered, mutable collection of items enclosed in square brackets \"[]\". Commas are used to separate one element from the other."
   ]
  },
  {
   "cell_type": "code",
   "execution_count": null,
   "metadata": {
    "id": "-br9q3YLqSYJ"
   },
   "outputs": [],
   "source": [
    "example_list = [1,2,3,4,5] #how to create a list in python\n",
    "\n",
    "# you can create an empty list by writing either\n",
    "\n",
    "empty_list = []\n",
    "\n",
    "#or\n",
    "\n",
    "empty_list = list()"
   ]
  },
  {
   "cell_type": "markdown",
   "metadata": {
    "id": "5O6Qf8UPqh9e"
   },
   "source": [
    "Lists can be printed, and they can contain multiple datatypes"
   ]
  },
  {
   "cell_type": "code",
   "execution_count": 1,
   "metadata": {
    "id": "L3ZgNzSvql8t"
   },
   "outputs": [
    {
     "name": "stdout",
     "output_type": "stream",
     "text": [
      "[1, 2, 3]\n"
     ]
    }
   ],
   "source": [
    "print_me = [1,2,3]\n",
    "\n",
    "print(print_me)"
   ]
  },
  {
   "cell_type": "code",
   "execution_count": 2,
   "metadata": {
    "id": "epsWgrFhp_uh"
   },
   "outputs": [],
   "source": [
    "mix_list = [1, \"a\", 2.04, False, [1, \"a\"]] # this list contains an integer, \n",
    "# a string, a float, a boolean and another list inside of it."
   ]
  },
  {
   "cell_type": "markdown",
   "metadata": {
    "id": "cFMQ6Em4q61o"
   },
   "source": [
    "## Accessing List Items\n",
    "\n",
    "Being ordered collections, you can retrieve an element from a list using its index. In Python, the starting index is 0 (meaning the first element of a list has 0 as index)."
   ]
  },
  {
   "cell_type": "code",
   "execution_count": 2,
   "metadata": {
    "id": "1WqZ9HyHq4dC"
   },
   "outputs": [
    {
     "name": "stdout",
     "output_type": "stream",
     "text": [
      "hello,\n",
      "are\n"
     ]
    }
   ],
   "source": [
    "example_list = [\"hello,\", \"how\", \"are\", \"you?\"]\n",
    "\n",
    "print(example_list[0])\n",
    "\n",
    "# you can save an element of a list in another variable\n",
    "\n",
    "third_element = example_list[2]\n",
    "\n",
    "print(third_element)"
   ]
  },
  {
   "cell_type": "markdown",
   "metadata": {
    "id": "mjWTUDyDrpXf"
   },
   "source": [
    "A negative index can be used to access elements of a list from the last one."
   ]
  },
  {
   "cell_type": "code",
   "execution_count": 5,
   "metadata": {
    "id": "yFcszTMjr6Fo"
   },
   "outputs": [
    {
     "name": "stdout",
     "output_type": "stream",
     "text": [
      "is\n",
      "name\n"
     ]
    }
   ],
   "source": [
    "example_list = [\"Hi,\" \"my\", \"name\", \"is\"]\n",
    "\n",
    "print(example_list[-1]) #last element\n",
    "print(example_list[-2]) #second to last element"
   ]
  },
  {
   "cell_type": "markdown",
   "metadata": {
    "id": "NGL0Y9FNsaUQ"
   },
   "source": [
    "### Modifying a list from index\n",
    "\n",
    "Being a mutable object, you can modify a list by assinging a new value to an element in a certain index position"
   ]
  },
  {
   "cell_type": "code",
   "execution_count": 6,
   "metadata": {
    "id": "BPupH_VjsmLg"
   },
   "outputs": [
    {
     "name": "stdout",
     "output_type": "stream",
     "text": [
      "[1, 2, 3]\n",
      "['a', 2, 3]\n"
     ]
    }
   ],
   "source": [
    "to_be_changed_list = [1,2,3]\n",
    "print(to_be_changed_list)\n",
    "to_be_changed_list[0] = \"a\" #changes the first item of the list with \"a\"\n",
    "\n",
    "print(to_be_changed_list)"
   ]
  },
  {
   "cell_type": "markdown",
   "metadata": {
    "id": "2Bu_ZnrNtDwF"
   },
   "source": [
    "## List Slicing\n",
    "\n",
    "You can create a sublist of a list by slicing it. You slice a list by specifying two indices separated by a colon \":\". The first index is the starting one (inclusive), the second index is the ending one (exclusive)."
   ]
  },
  {
   "cell_type": "code",
   "execution_count": 7,
   "metadata": {
    "id": "-CSx_g8StVW4"
   },
   "outputs": [
    {
     "name": "stdout",
     "output_type": "stream",
     "text": [
      "[2, 3]\n"
     ]
    }
   ],
   "source": [
    "normal_list = [1,2,3,4,5]\n",
    "\n",
    "sliced_list = normal_list[1:3]\n",
    "\n",
    "print(sliced_list)"
   ]
  },
  {
   "cell_type": "code",
   "execution_count": 8,
   "metadata": {
    "id": "uklZ9os_tecM"
   },
   "outputs": [
    {
     "name": "stdout",
     "output_type": "stream",
     "text": [
      "[1, 2, 3]\n"
     ]
    }
   ],
   "source": [
    "normal_list = [1,2,3,4,5]\n",
    "\n",
    "sliced_list = normal_list[0:-2]\n",
    "\n",
    "print(sliced_list)"
   ]
  },
  {
   "cell_type": "markdown",
   "metadata": {
    "id": "tDeiTq5Ht92s"
   },
   "source": [
    "If you write nothing before the \":\" when slicing, it will start from the beginning and end at the index you write after it (exclusive), if you write nothing after \":\" it will start from the index you write before the \":\" (inclusive) and end at the end of the list"
   ]
  },
  {
   "cell_type": "code",
   "execution_count": 11,
   "metadata": {
    "id": "4hGCZL1BuPog"
   },
   "outputs": [
    {
     "name": "stdout",
     "output_type": "stream",
     "text": [
      "[1, 2, 3]\n",
      "[4, 5]\n",
      "[2, 3, 4, 5]\n"
     ]
    }
   ],
   "source": [
    "normal_list = [1,2,3,4,5]\n",
    "\n",
    "sliced_list = normal_list[:3]\n",
    "print(sliced_list)\n",
    "sliced_list = normal_list[3:]\n",
    "print(sliced_list)\n",
    "sliced_list = normal_list[1:500]\n",
    "print(sliced_list)"
   ]
  },
  {
   "cell_type": "markdown",
   "metadata": {
    "id": "Vm8nm-zpuwvn"
   },
   "source": [
    "## List Methods and length\n",
    "\n",
    "Lists can be manipulated using different methods in Python:\n",
    "\n",
    "\n",
    "\n",
    "*   \"append()\": adds an item to the end of the list\n",
    "*   \"insert(i, x)\": adds an item (x) at a specific position of the list (i)\n",
    "*   \"remove(x)\": removes the first occurrence of the \"x\" element from a list\n",
    "*   \"pop(i)\": removes and returns the item in a specific position (i) of the list, if no position is specified, the last element is removed and returned\n",
    "*   \"sort()\": sorts the items in the list in ascending order\n",
    "*   \"reverse()\": reverses the order of the items in the list\n",
    "*   \"len(list)\": returns the length (number of elements) of the list\n",
    "*   \"count(x)\": returns the number of times \"x\" appears in the list\n",
    "*   \"extend(another_list)\": adds all the elements of an iterable to the end of the list\n",
    "*   \"clear()\": removes all the elements from a list\n",
    "*   \"index(x)\": returns the index of the first occurrence of \"x\" in the list\n",
    "\n"
   ]
  },
  {
   "cell_type": "code",
   "execution_count": 12,
   "metadata": {
    "id": "XQ9R2KfGxTGD"
   },
   "outputs": [
    {
     "name": "stdout",
     "output_type": "stream",
     "text": [
      "['pasta', 'guanciale', 'cream', 'salt', 'pepper', 'eggs', 'onion']\n",
      "['pasta', 'guanciale', 'cream', 'pecorino cheese', 'salt', 'pepper', 'eggs', 'onion']\n",
      "['pasta', 'guanciale', 'pecorino cheese', 'salt', 'pepper', 'eggs', 'onion']\n",
      "onion\n",
      "['pasta', 'guanciale', 'pecorino cheese', 'salt', 'pepper', 'eggs']\n"
     ]
    }
   ],
   "source": [
    "carbonara_list = [\"pasta\", \"guanciale\", \"cream\", \"salt\", \"pepper\",\"eggs\"]\n",
    "\n",
    "carbonara_list.append(\"onion\")\n",
    "\n",
    "print(carbonara_list)\n",
    "\n",
    "carbonara_list.insert(3, \"pecorino cheese\")\n",
    "\n",
    "print(carbonara_list)\n",
    "\n",
    "carbonara_list.remove(\"cream\")\n",
    "\n",
    "print(carbonara_list)\n",
    "\n",
    "not_in_carbonara = carbonara_list.pop(-1)\n",
    "\n",
    "print(not_in_carbonara)\n",
    "print(carbonara_list)"
   ]
  },
  {
   "cell_type": "code",
   "execution_count": 14,
   "metadata": {
    "id": "hsj3pCQgyQLY"
   },
   "outputs": [
    {
     "name": "stdout",
     "output_type": "stream",
     "text": [
      "['eggs', 'guanciale', 'pasta', 'pecorino cheese', 'pepper', 'salt']\n",
      "['salt', 'pepper', 'pecorino cheese', 'pasta', 'guanciale', 'eggs']\n",
      "6\n",
      "['apples', 'kiwi', 'eggs', 'pasta', 'salt', 'pepper', 'pecorino cheese', 'pasta', 'guanciale', 'eggs']\n",
      "8\n",
      "2\n",
      "[]\n"
     ]
    }
   ],
   "source": [
    "carbonara_list = ['pasta', 'guanciale', 'pecorino cheese', 'salt', 'pepper', 'eggs']\n",
    "\n",
    "carbonara_list.sort()\n",
    "\n",
    "print(carbonara_list)\n",
    "\n",
    "carbonara_list.reverse()\n",
    "\n",
    "print(carbonara_list)\n",
    "\n",
    "c_list_len = len(carbonara_list)\n",
    "\n",
    "print(len(carbonara_list))\n",
    "\n",
    "groceries = [\"apples\", \"kiwi\", \"eggs\", \"pasta\"]\n",
    "\n",
    "groceries.extend(carbonara_list)\n",
    "\n",
    "print(groceries)\n",
    "\n",
    "print(groceries.index(\"guanciale\"))\n",
    "\n",
    "print(groceries.count(\"eggs\"))\n",
    "groceries.clear()\n",
    "\n",
    "print(groceries)"
   ]
  },
  {
   "cell_type": "code",
   "execution_count": 15,
   "metadata": {},
   "outputs": [
    {
     "data": {
      "text/plain": [
       "6"
      ]
     },
     "execution_count": 15,
     "metadata": {},
     "output_type": "execute_result"
    }
   ],
   "source": [
    "c_list_len"
   ]
  },
  {
   "cell_type": "markdown",
   "metadata": {
    "id": "gOKD6-Fx7IEg"
   },
   "source": [
    "### Checking whether an item is in a list\n",
    "\n",
    "You can check if an item is in a list with the \"in\" method, it is used in conditional statements."
   ]
  },
  {
   "cell_type": "code",
   "execution_count": 17,
   "metadata": {
    "id": "hio3GQwQzGj6"
   },
   "outputs": [
    {
     "name": "stdout",
     "output_type": "stream",
     "text": [
      "Good job\n",
      "No, no, no!\n",
      "['pasta', 'guanciale', 'pecorino cheese', 'salt', 'pepper', 'eggs', 'water']\n"
     ]
    }
   ],
   "source": [
    "carbonara_list = ['pasta', 'guanciale', 'pecorino cheese', 'salt', 'pepper', 'eggs', \"cream\"]\n",
    "\n",
    "if \"eggs\" in carbonara_list:\n",
    "    print(\"Good job\")\n",
    "\n",
    "if \"cream\" in carbonara_list:\n",
    "    print(\"No, no, no!\")\n",
    "    carbonara_list.remove(\"cream\")\n",
    "\n",
    "if \"water\" in carbonara_list:\n",
    "    carbonara_list.append(\"water\")\n",
    "else:\n",
    "    carbonara_list.append(\"water\")\n",
    "\n",
    "print(carbonara_list)"
   ]
  },
  {
   "cell_type": "markdown",
   "metadata": {
    "id": "oXdRf08rzgxN"
   },
   "source": [
    "## Loops"
   ]
  },
  {
   "cell_type": "markdown",
   "metadata": {
    "id": "jZQ05QZVzjVa"
   },
   "source": [
    "Loops are used in Python to repeat a block of code many times. There are two main loops: \"for\" and \"while\""
   ]
  },
  {
   "cell_type": "markdown",
   "metadata": {
    "id": "evTyp7VBz6-A"
   },
   "source": [
    "### For loops\n",
    "\n",
    "\"for\" loops are used in python to iterate over a sequence of elements (for instance a list (its elements), or a string (its characters)), to perform certain actions for each element in the sequence"
   ]
  },
  {
   "cell_type": "code",
   "execution_count": 18,
   "metadata": {
    "id": "nhSKurex0LIt"
   },
   "outputs": [
    {
     "name": "stdout",
     "output_type": "stream",
     "text": [
      "pasta\n",
      "pecorino\n",
      "salt\n",
      "pepper\n",
      "water\n"
     ]
    }
   ],
   "source": [
    "cacio_e_pepe = [\"pasta\", \"pecorino\", \"salt\", \"pepper\", \"water\"]\n",
    "\n",
    "for pasta_ingredient in cacio_e_pepe:\n",
    "    print(pasta_ingredient)"
   ]
  },
  {
   "cell_type": "markdown",
   "metadata": {
    "id": "5u2PP3gY0gf5"
   },
   "source": [
    "Element is the name of the variable that takes on each value of the \"cacio_e_pepe\" list, you can choose whatever name you want"
   ]
  },
  {
   "cell_type": "code",
   "execution_count": 20,
   "metadata": {
    "id": "Ahmxgycr0kd6"
   },
   "outputs": [
    {
     "name": "stdout",
     "output_type": "stream",
     "text": [
      "['a', 'a', 'a']\n"
     ]
    }
   ],
   "source": [
    "a_in_carbonara = []\n",
    "for character in \"carbonara\":\n",
    "    if character == \"a\":\n",
    "        a_in_carbonara.append(character)\n",
    "\n",
    "print(a_in_carbonara)"
   ]
  },
  {
   "cell_type": "markdown",
   "metadata": {
    "id": "JO7ZNAwP0lj8"
   },
   "source": [
    "#### Range"
   ]
  },
  {
   "cell_type": "markdown",
   "metadata": {
    "id": "RVcr-dQX0nzT"
   },
   "source": [
    "range(integer) is a function that takes an integer as an input and generate a sequence of numbers to iterate over (from 0 to the specified integer-1)"
   ]
  },
  {
   "cell_type": "code",
   "execution_count": 21,
   "metadata": {
    "id": "NiP2O-pv06qR"
   },
   "outputs": [
    {
     "name": "stdout",
     "output_type": "stream",
     "text": [
      "[0, 1, 2, 3, 4, 5, 6, 7, 8, 9]\n"
     ]
    }
   ],
   "source": [
    "empty_list = list()\n",
    "for i in range(10):\n",
    "    empty_list.append(i)\n",
    "print(empty_list)\n"
   ]
  },
  {
   "cell_type": "code",
   "execution_count": 22,
   "metadata": {},
   "outputs": [
    {
     "name": "stdout",
     "output_type": "stream",
     "text": [
      "0\n",
      "1\n",
      "2\n"
     ]
    }
   ],
   "source": [
    "ex_list = [\"a\", \"b\", \"c\"]\n",
    "\n",
    "for i in range(len(ex_list)):\n",
    "    print(i)\n",
    "    "
   ]
  },
  {
   "cell_type": "markdown",
   "metadata": {
    "id": "rE7F5iqD1RZ6"
   },
   "source": [
    "### While Loops"
   ]
  },
  {
   "cell_type": "markdown",
   "metadata": {
    "id": "LdbPNFiP1V6d"
   },
   "source": [
    "A \"while\" loop is used to repeat a certain block of code as long as a certain condition is true (be careful of infinite loops!)"
   ]
  },
  {
   "cell_type": "code",
   "execution_count": 23,
   "metadata": {
    "id": "uUkHx9wj1dhs"
   },
   "outputs": [
    {
     "name": "stdout",
     "output_type": "stream",
     "text": [
      "0\n",
      "1\n",
      "2\n"
     ]
    }
   ],
   "source": [
    "i = 0\n",
    "\n",
    "while i < 3:\n",
    "    print(i)\n",
    "    i += 1 # this is a shortcut for saying i = i + 1"
   ]
  },
  {
   "cell_type": "code",
   "execution_count": 27,
   "metadata": {},
   "outputs": [
    {
     "name": "stdout",
     "output_type": "stream",
     "text": [
      "pasta\n",
      "salt\n",
      "pepper\n",
      "water\n"
     ]
    }
   ],
   "source": [
    "check_wrong = [\"pasta\", True, \"salt\", \"pepper\", \"water\"]\n",
    "\n",
    "for element in check_wrong:\n",
    "    if element is True:\n",
    "        continue\n",
    "    print(element)"
   ]
  },
  {
   "cell_type": "markdown",
   "metadata": {
    "id": "apsr-J2X1y6V"
   },
   "source": [
    "# Exercises"
   ]
  },
  {
   "cell_type": "markdown",
   "metadata": {
    "id": "v_QsOkaJ161g"
   },
   "source": [
    "## Exercise 3.1\n",
    "\n",
    "Write a program in pycharm.\n",
    "Prompt the user asking for a number.\n",
    "Create an empty list called \"carbonara_eggs\".\n",
    "While the length of \"carbonara_eggs\" is less than the number prompted by the user, keep appending \"eggs\" to carbonara.\n",
    "When the number of eggs is finally correct, print the list. Run and test the program\n",
    "\n",
    "## Exercise 3.2\n",
    "\n",
    "Write  a program  in PyCharm. Write a list with the following elements [1,3,4,53,2,6,78,100]. Print the sum of the even numbers by iterating on it and finding whether a number is even or odd. Run and test the program\n",
    "\n",
    "## Exercise 3.3\n",
    "\n",
    "Write a program that prompts the user to enter a list of numbers and then prints out the average of the numbers. The program should keep asking the user to enter numbers until they enter a negative number to signal the end of the list. Run and test the program\n",
    "\n",
    "## Exercise 3.4\n",
    "\n",
    "Create a list in Python called \"pizza_base\" with \"mozzarella\", \"tomato\", \"flour\", \"yeast\" and \"salt\" in it. Then create another list called \"vesuvio\" with \"salame\", \"ricotta\", \"spicy oil\" in it. Then create a third one called \"Popeye\" with \"ricotta\", \"spinach\" in it. Finally, create \"spicy\" list with \"salame\", \"spicy oil\" in it.\n",
    "\n",
    "Extend the popeye list with the pizza_base. Then extend the popeye one with the pizza base again. Extend the vesuvio list with the pizza base. Append \"mushrooms\" to the popeye list. Remove \"mozzarella\" from the vesuvio list. Create an empty list called \"not_wasted\". If the popeye list has more elements the vesuvio list, while it has more elements, pop an element from the popeye and add it to the not_wasted list. Now iterate over the elements of the spicy list: if an element is not present in the vesuvio list, add it to the not_wasted list.\n",
    "\n",
    "Make a list called \"everything\" and extend it with the elements of all the list you have created.\n",
    "\n",
    "For each element of this list, print the number of times it appears in the list. If the element is in other lists (excluding \"everything\"), print the index number of that element in those lists and then remove it from them.\n",
    "\n",
    "Print the length of the everything list.\n",
    "\n",
    "Clear the everything list.\n",
    "\n",
    "Run and test the program on PyCharm\n",
    "\n",
    "## Exercise 3.5\n",
    "\n",
    "Create a jupyter notebook in PyCharm. Call it \"week3exercises\". Structure it with markdown, presenting the description of every exercises and what you have done to complete it. After each description, paste the code that you created. Run all the blocks and save the jupyter file.\n",
    "\n"
   ]
  },
  {
   "cell_type": "code",
   "execution_count": null,
   "metadata": {},
   "outputs": [],
   "source": []
  }
 ],
 "metadata": {
  "colab": {
   "provenance": []
  },
  "kernelspec": {
   "display_name": "Python 3 (ipykernel)",
   "language": "python",
   "name": "python3"
  },
  "language_info": {
   "codemirror_mode": {
    "name": "ipython",
    "version": 3
   },
   "file_extension": ".py",
   "mimetype": "text/x-python",
   "name": "python",
   "nbconvert_exporter": "python",
   "pygments_lexer": "ipython3",
   "version": "3.10.1"
  }
 },
 "nbformat": 4,
 "nbformat_minor": 1
}
