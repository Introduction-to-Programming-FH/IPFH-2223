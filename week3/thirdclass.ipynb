{
  "nbformat": 4,
  "nbformat_minor": 0,
  "metadata": {
    "colab": {
      "provenance": []
    },
    "kernelspec": {
      "name": "python3",
      "display_name": "Python 3"
    },
    "language_info": {
      "name": "python"
    }
  },
  "cells": [
    {
      "cell_type": "markdown",
      "source": [
        "# Lists and Loops"
      ],
      "metadata": {
        "id": "pbHfobo3pjd2"
      }
    },
    {
      "cell_type": "markdown",
      "source": [
        "## Learning Objectives\n",
        "\n",
        "\n",
        "\n",
        "*   Understanding what lists are and how to create and manipulate them in Python\n",
        "*   Understanding what loops are and how to use them to iterate over lists\n",
        "    *  Understanding the difference between \"for\" and \"while\" loops\n",
        "*   Practice loops and lists together in Python\n",
        "\n"
      ],
      "metadata": {
        "id": "_gF2aiFMplbz"
      }
    },
    {
      "cell_type": "markdown",
      "source": [
        "## Lists"
      ],
      "metadata": {
        "id": "ViSz5l-cp8cd"
      }
    },
    {
      "cell_type": "markdown",
      "source": [
        "### Creating Lists\n",
        "\n",
        "A list is an ordered, mutable collection of items enclosed in square brackets \"[]\". Commas are used to separate one element from the other."
      ],
      "metadata": {
        "id": "JPgTHEk7qCyI"
      }
    },
    {
      "cell_type": "code",
      "source": [
        "example_list = [1,2,3,4,5] #how to create a list in python\n",
        "\n",
        "# you can create an empty list by writing either\n",
        "\n",
        "empty_list = []\n",
        "\n",
        "#or\n",
        "\n",
        "empty_list = list()"
      ],
      "metadata": {
        "id": "-br9q3YLqSYJ"
      },
      "execution_count": null,
      "outputs": []
    },
    {
      "cell_type": "markdown",
      "source": [
        "Lists can be printed, and they can contain multiple datatypes"
      ],
      "metadata": {
        "id": "5O6Qf8UPqh9e"
      }
    },
    {
      "cell_type": "code",
      "source": [
        "print_me = [1,2,3]\n",
        "\n",
        "print(print_me)"
      ],
      "metadata": {
        "id": "L3ZgNzSvql8t"
      },
      "execution_count": null,
      "outputs": []
    },
    {
      "cell_type": "code",
      "source": [
        "mix_list = [1, \"a\", 2.04, False, [1, \"a\"]] # this list contains an integer, \n",
        "# a string, a float, a boolean and another list inside of it."
      ],
      "metadata": {
        "id": "epsWgrFhp_uh"
      },
      "execution_count": 2,
      "outputs": []
    },
    {
      "cell_type": "markdown",
      "source": [
        "## Accessing List Items\n",
        "\n",
        "Being ordered collections, you can retrieve an element from a list using its index. In Python, the starting index is 0 (meaning the first element of a list has 0 as index)."
      ],
      "metadata": {
        "id": "cFMQ6Em4q61o"
      }
    },
    {
      "cell_type": "code",
      "source": [
        "example_list = [\"hello,\", \"how\", \"are\", \"you?\"]\n",
        "\n",
        "print(example_list[0])\n",
        "\n",
        "# you can save an element of a list in another variable\n",
        "\n",
        "third_element = example_list[2]\n",
        "\n",
        "print(third_element)"
      ],
      "metadata": {
        "id": "1WqZ9HyHq4dC"
      },
      "execution_count": null,
      "outputs": []
    },
    {
      "cell_type": "markdown",
      "source": [
        "A negative index can be used to access elements of a list from the last one."
      ],
      "metadata": {
        "id": "mjWTUDyDrpXf"
      }
    },
    {
      "cell_type": "code",
      "source": [
        "example_list = [\"Hi,\" \"my\", \"name\", \"is\"]\n",
        "\n",
        "print(example_list[-1]) #last element\n",
        "print(example_list[-2]) #second to last element"
      ],
      "metadata": {
        "id": "yFcszTMjr6Fo"
      },
      "execution_count": null,
      "outputs": []
    },
    {
      "cell_type": "markdown",
      "source": [
        "### Modifying a list from index\n",
        "\n",
        "Being a mutable object, you can modify a list by assinging a new value to an element in a certain index position"
      ],
      "metadata": {
        "id": "NGL0Y9FNsaUQ"
      }
    },
    {
      "cell_type": "code",
      "source": [
        "to_be_changed_list = [1,2,3]\n",
        "print(to_be_changed_list)\n",
        "to_be_changed_list[0] = \"a\" #changes the first item of the list with \"a\"\n",
        "\n",
        "print(to_be_changed_list)"
      ],
      "metadata": {
        "id": "BPupH_VjsmLg"
      },
      "execution_count": null,
      "outputs": []
    },
    {
      "cell_type": "markdown",
      "source": [
        "## List Slicing\n",
        "\n",
        "You can create a sublist of a list by slicing it. You slice a list by specifying two indices separated by a colon \":\". The first index is the starting one (inclusive), the second index is the ending one (exclusive)."
      ],
      "metadata": {
        "id": "2Bu_ZnrNtDwF"
      }
    },
    {
      "cell_type": "code",
      "source": [
        "normal_list = [1,2,3,4,5]\n",
        "\n",
        "sliced_list = normal_list[1:3]\n",
        "\n",
        "print(sliced_list)"
      ],
      "metadata": {
        "id": "-CSx_g8StVW4"
      },
      "execution_count": null,
      "outputs": []
    },
    {
      "cell_type": "code",
      "source": [
        "normal_list = [1,2,3,4,5]\n",
        "\n",
        "sliced_list = normal_list[0:-2]\n",
        "\n",
        "print(sliced_list)"
      ],
      "metadata": {
        "id": "uklZ9os_tecM"
      },
      "execution_count": null,
      "outputs": []
    },
    {
      "cell_type": "markdown",
      "source": [
        "If you write nothing before the \":\" when slicing, it will start from the beginning and end at the index you write after it (exclusive), if you write nothing after \":\" it will start from the index you write before the \":\" (inclusive) and end at the end of the list"
      ],
      "metadata": {
        "id": "tDeiTq5Ht92s"
      }
    },
    {
      "cell_type": "code",
      "source": [
        "normal_list = [1,2,3,4,5]\n",
        "\n",
        "sliced_list = normal_list[:3]\n",
        "print(sliced_list)\n",
        "sliced_list = normal_list[3:]\n",
        "print(sliced_list)"
      ],
      "metadata": {
        "id": "4hGCZL1BuPog"
      },
      "execution_count": null,
      "outputs": []
    },
    {
      "cell_type": "markdown",
      "source": [
        "## List Methods and length\n",
        "\n",
        "Lists can be manipulated using different methods in Python:\n",
        "\n",
        "\n",
        "\n",
        "*   \"append()\": adds an item to the end of the list\n",
        "*   \"insert(i, x)\": adds an item (x) at a specific position of the list (i)\n",
        "*   \"remove(x)\": removes the first occurrence of the \"x\" element from a list\n",
        "*   \"pop(i)\": removes and returns the item in a specific position (i) of the list, if no position is specified, the last element is removed and returned\n",
        "*   \"sort()\": sorts the items in the list in ascending order\n",
        "*   \"reverse()\": reverses the order of the items in the list\n",
        "*   \"len(list)\": returns the length (number of elements) of the list\n",
        "*   \"count(x)\": returns the number of times \"x\" appears in the list\n",
        "*   \"extend(another_list)\": adds all the elements of an iterable to the end of the list\n",
        "*   \"clear()\": removes all the elements from a list\n",
        "*   \"index(x)\": returns the index of the first occurrence of \"x\" in the list\n",
        "\n"
      ],
      "metadata": {
        "id": "Vm8nm-zpuwvn"
      }
    },
    {
      "cell_type": "code",
      "source": [
        "carbonara_list = [\"pasta\", \"guanciale\", \"cream\", \"salt\", \"pepper\",\"eggs\"]\n",
        "\n",
        "carbonara_list.append(\"onion\")\n",
        "\n",
        "print(carbonara_list)\n",
        "\n",
        "carbonara_list.insert(3, \"pecorino cheese\")\n",
        "\n",
        "print(carbonara_list)\n",
        "\n",
        "carbonara_list.remove(\"cream\")\n",
        "\n",
        "print(carbonara_list)\n",
        "\n",
        "not_in_carbonara = carbonara_list.pop(-1)\n",
        "\n",
        "print(not_in_carbonara)\n",
        "print(carbonara_list)"
      ],
      "metadata": {
        "id": "XQ9R2KfGxTGD"
      },
      "execution_count": null,
      "outputs": []
    },
    {
      "cell_type": "code",
      "source": [
        "carbonara_list = ['pasta', 'guanciale', 'pecorino cheese', 'salt', 'pepper', 'eggs']\n",
        "\n",
        "carbonara_list.sort()\n",
        "\n",
        "print(carbonara_list)\n",
        "\n",
        "carbonara_list.reverse()\n",
        "\n",
        "print(carbonara_list)\n",
        "print(len(carbonara_list))\n",
        "\n",
        "groceries = [\"apples\", \"kiwi\", \"eggs\", \"pasta\"]\n",
        "\n",
        "groceries.extend(carbonara_list)\n",
        "\n",
        "print(groceries)\n",
        "\n",
        "print(groceries.index(\"guanciale\"))\n",
        "\n",
        "print(groceries.count(\"eggs\"))\n",
        "groceries.clear()\n",
        "\n",
        "print(groceries)"
      ],
      "metadata": {
        "id": "hsj3pCQgyQLY"
      },
      "execution_count": null,
      "outputs": []
    },
    {
      "cell_type": "markdown",
      "source": [
        "### Checking whether an item is in a list\n",
        "\n",
        "You can check if an item is in a list with the \"in\" method, it is used in conditional statements."
      ],
      "metadata": {
        "id": "gOKD6-Fx7IEg"
      }
    },
    {
      "cell_type": "code",
      "source": [
        "carbonara_list = ['pasta', 'guanciale', 'pecorino cheese', 'salt', 'pepper', 'eggs', \"cream\"]\n",
        "\n",
        "if \"eggs\" in carbonara_list:\n",
        "    print(\"Good job\")\n",
        "\n",
        "if \"cream\" in carbonara_list:\n",
        "    print(\"No, no, no!\")\n",
        "    carbonara_list.remove(\"cream\")\n",
        "\n",
        "if \"water\" not in carbonara_list:\n",
        "    carbonara_list.append(\"water\")\n",
        "\n",
        "print(carbonara_list)"
      ],
      "metadata": {
        "id": "hio3GQwQzGj6"
      },
      "execution_count": null,
      "outputs": []
    },
    {
      "cell_type": "markdown",
      "source": [
        "## Loops"
      ],
      "metadata": {
        "id": "oXdRf08rzgxN"
      }
    },
    {
      "cell_type": "markdown",
      "source": [
        "Loops are used in Python to repeat a block of code many times. There are two main loops: \"for\" and \"while\""
      ],
      "metadata": {
        "id": "jZQ05QZVzjVa"
      }
    },
    {
      "cell_type": "markdown",
      "source": [
        "### For loops\n",
        "\n",
        "\"for\" loops are used in python to iterate over a sequence of elements (for instance a list (its elements), or a string (its characters)), to perform certain actions for each element in the sequence"
      ],
      "metadata": {
        "id": "evTyp7VBz6-A"
      }
    },
    {
      "cell_type": "code",
      "source": [
        "cacio_e_pepe = [\"pasta\", \"pecorino\", \"salt\", \"pepper\", \"water\"]\n",
        "\n",
        "for element in cacio_e_pepe:\n",
        "    print(element)"
      ],
      "metadata": {
        "id": "nhSKurex0LIt"
      },
      "execution_count": null,
      "outputs": []
    },
    {
      "cell_type": "markdown",
      "source": [
        "Element is the name of the variable that takes on each value of the \"cacio_e_pepe\" list, you can choose whatever name you want"
      ],
      "metadata": {
        "id": "5u2PP3gY0gf5"
      }
    },
    {
      "cell_type": "code",
      "source": [
        "for character in \"carbonara\":\n",
        "    print(character)"
      ],
      "metadata": {
        "id": "Ahmxgycr0kd6"
      },
      "execution_count": null,
      "outputs": []
    },
    {
      "cell_type": "markdown",
      "source": [
        "#### Range"
      ],
      "metadata": {
        "id": "JO7ZNAwP0lj8"
      }
    },
    {
      "cell_type": "markdown",
      "source": [
        "range(integer) is a function that takes an integer as an input and generate a sequence of numbers to iterate over (from 0 to the specified integer-1)"
      ],
      "metadata": {
        "id": "RVcr-dQX0nzT"
      }
    },
    {
      "cell_type": "code",
      "source": [
        "empty_list = list()\n",
        "for i in range(10):\n",
        "    empty_list.append(i)\n",
        "print(empty_list)"
      ],
      "metadata": {
        "id": "NiP2O-pv06qR"
      },
      "execution_count": null,
      "outputs": []
    },
    {
      "cell_type": "markdown",
      "source": [
        "### While Loops"
      ],
      "metadata": {
        "id": "rE7F5iqD1RZ6"
      }
    },
    {
      "cell_type": "markdown",
      "source": [
        "A \"while\" loop is used to repeat a certain block of code as long as a certain condition is true (be careful of infinite loops!)"
      ],
      "metadata": {
        "id": "LdbPNFiP1V6d"
      }
    },
    {
      "cell_type": "code",
      "source": [
        "i = 0\n",
        "\n",
        "while i < 3:\n",
        "    print(i)\n",
        "    i += 1 # this is a shortcut for saying i = i + 1"
      ],
      "metadata": {
        "id": "uUkHx9wj1dhs"
      },
      "execution_count": null,
      "outputs": []
    },
    {
      "cell_type": "markdown",
      "source": [
        "# Exercises"
      ],
      "metadata": {
        "id": "apsr-J2X1y6V"
      }
    },
    {
      "cell_type": "markdown",
      "source": [
        "## Exercise 3.1\n",
        "\n",
        "Write a program in pycharm.\n",
        "Prompt the user asking for a number.\n",
        "Create an empty list called \"carbonara_eggs\".\n",
        "While the length of \"carbonara_eggs\" is less than the number prompted by the user, keep appending \"eggs\" to carbonara.\n",
        "When the number of eggs is finally correct, print the list. Run and test the program\n",
        "\n",
        "## Exercise 3.2\n",
        "\n",
        "Write  a program  in PyCharm. Write a list with the follwing elements [1,3,4,53,2,6,78,100]. Print the sum of the even numbers by iterating on it and finding whether a number is even or odd. Run and test the program\n",
        "\n",
        "## Exercise 3.3\n",
        "\n",
        "Write a program that prompts the user to enter a list of numbers and then prints out the average of the numbers. The program should keep asking the user to enter numbers until they enter a negative number to signal the end of the list. Run and test the program\n",
        "\n",
        "## Exercise 3.4\n",
        "\n",
        "Create a list in Python called \"pizza_base\" with \"mozzarella\", \"tomato\", \"flour\", \"yiest\" and \"salt\" in it. Then create another list called \"vesuvio\" with \"salame\", \"ricotta\", \"spicy oil\" in it. Then create a third one called \"Popeye\" with \"ricotta\", \"spinach\" in it. Finally, create \"spicy\" list with \"salame\", \"spicy oil\" in it.\n",
        "\n",
        "Extend the popeye list with the pizza_base. Then extend the popeye one with the pizza base again. Extend the vesuvio list with the pizza base. Append \"mushrooms\" to the popeye list. Remove \"mozzarella\" from the vesuvio list. Create an empty list called \"not_wasted\". If the popeye list has more elements the vesuvio list, while it has more elements, pop an element from the popeye and add it to the not_wasted list. Now iterate over the elements of the spicy list: if an element is not present in the vesuvio list, add it to the not_wasted list.\n",
        "\n",
        "Make a list called \"everything\" and extend it with the elements of all the list you have created.\n",
        "\n",
        "For each element of this list, print the number of times it appears in the list. If the element is in other lists (excluding \"everything\"), print the index number of that element in those lists and then remove it from them.\n",
        "\n",
        "Print the length of the everything list.\n",
        "\n",
        "Clear the everything list.\n",
        "\n",
        "Run and test the program on PyCharm\n",
        "\n",
        "## Exercise 3.5\n",
        "\n",
        "Create a jupyter notebook in PyCharm. Call it \"week3exercises\". Structure it with markdown, presenting the description of every exercises and what you have done to complete it. After each description, paste the code that you created. Run all the blocks and save the jupyter file.\n",
        "\n"
      ],
      "metadata": {
        "id": "v_QsOkaJ161g"
      }
    }
  ]
}