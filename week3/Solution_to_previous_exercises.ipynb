{
  "nbformat": 4,
  "nbformat_minor": 0,
  "metadata": {
    "colab": {
      "provenance": []
    },
    "kernelspec": {
      "name": "python3",
      "display_name": "Python 3"
    },
    "language_info": {
      "name": "python"
    }
  },
  "cells": [
    {
      "cell_type": "markdown",
      "source": [
        "# Exercise 2.1\n",
        "Write a program in PyCharm that prompts the User for their age and if they are not 18 yet it prints them a message saying \"you will turn 18 in X years\", if they are 18 it prints them a message saying \"You are 18!\", if they are older than 18 it prints them a message saying \"you turned 18 X years ago\". Run it and test it."
      ],
      "metadata": {
        "id": "OxiHdhB73_zI"
      }
    },
    {
      "cell_type": "code",
      "execution_count": 1,
      "metadata": {
        "colab": {
          "base_uri": "https://localhost:8080/"
        },
        "id": "qtBIdEGm34wO",
        "outputId": "d643f8ac-37bd-4122-dc77-65c14aa9e670"
      },
      "outputs": [
        {
          "output_type": "stream",
          "name": "stdout",
          "text": [
            "Write your age20\n",
            "You turned 18 2 years ago\n"
          ]
        }
      ],
      "source": [
        "age = int(input(\"Write your age \"))\n",
        "\n",
        "if age < 18:\n",
        "    difference = 18-age\n",
        "    print(\"You will turn 18 in {} years\".format(difference))\n",
        "elif age == 18:\n",
        "    print(\"You are 18!\")\n",
        "elif age > 18:\n",
        "    difference_2 = age - 18\n",
        "    print(\"You turned 18 {} years ago\".format(difference_2))"
      ]
    },
    {
      "cell_type": "markdown",
      "source": [
        "# Exercise 2.2\n",
        "Write a program in PyCharm that prompts the User for two numbers. It will print the sum of the two numbers if they are both even, the subtraction if they are both odd, and the multiplication if one of them is even and one is odd\n",
        "\n",
        "**Hint**: remainder operation might be useful at a certain point of this exercise\n",
        "\n",
        "Run it and test it."
      ],
      "metadata": {
        "id": "wbQv-sav4u7y"
      }
    },
    {
      "cell_type": "code",
      "source": [
        "first_n = int(input(\"Write the first number \"))\n",
        "second_n = int(input(\"Write the second number \"))\n",
        "\n",
        "if first_n % 2 != 0.0 and second_n % 2 != 0.0:\n",
        "    print(first_n - second_n)\n",
        "elif first_n % 2 == 0.0 and second_n % 2 == 0.0:\n",
        "    print(first_n + second_n)\n",
        "else:\n",
        "    print(first_n * second_n)"
      ],
      "metadata": {
        "colab": {
          "base_uri": "https://localhost:8080/"
        },
        "id": "PWME8xQ041rp",
        "outputId": "320d8d6f-ea5f-44c9-9450-0a7ff5bcb0d9"
      },
      "execution_count": 7,
      "outputs": [
        {
          "output_type": "stream",
          "name": "stdout",
          "text": [
            "Write the first number 5\n",
            "Write the second number 4\n",
            "20\n"
          ]
        }
      ]
    },
    {
      "cell_type": "markdown",
      "source": [
        "# Exercise 2.3\n",
        "\n",
        "Write a program in PyCharm that prompts the User for the radius of a circle and it prints the area of a circle (the area of a circle is radius raised to the power of two, multiplied with the pi) you can use this to get the correct value of pi. Run it and test it"
      ],
      "metadata": {
        "id": "8hwCEaDS5tAb"
      }
    },
    {
      "cell_type": "code",
      "source": [
        "import math\n",
        "\n",
        "pi = math.pi\n",
        "\n",
        "radius = float(input(\"Write the radius of the circle you want to know the area of \"))\n",
        "\n",
        "area = radius**2*pi\n",
        "print(area)"
      ],
      "metadata": {
        "colab": {
          "base_uri": "https://localhost:8080/"
        },
        "id": "MvNp8ceT4lUt",
        "outputId": "6b23eb0d-b161-4351-963d-59782b1f0dcb"
      },
      "execution_count": 9,
      "outputs": [
        {
          "output_type": "stream",
          "name": "stdout",
          "text": [
            "Write the radius of the circle you want to know the area of 2\n",
            "12.566370614359172\n"
          ]
        }
      ]
    },
    {
      "cell_type": "markdown",
      "source": [
        "# Exercise 2.4\n",
        "Write a program in PyCharm that prompts the User for a grade from 1 to 4 and it prints the corresponding italian score according to the following criteria:\n",
        "*   If the grade is 1, print 30,\n",
        "*   If the grade is more than 1 and less than 2, print 27,\n",
        "*   If the grade is more or equal than 2 and less than 3, print 24,\n",
        "*   If the grade is more or equal than 3 and less than 4, print 21,\n",
        "*   If the grade is 4, print 18,\n",
        "*   If the grade is more than 4, print \"fail\",\n",
        "*   If the grade is less than 1, print \"invalid grade\","
      ],
      "metadata": {
        "id": "JYHgfYMo-R1M"
      }
    },
    {
      "cell_type": "code",
      "source": [
        "grade = float(input(\"Give me a German mark \"))\n",
        "\n",
        "if grade == 1:\n",
        "    print(30)\n",
        "elif grade > 1 and grade < 2:\n",
        "    print(27)\n",
        "elif grade >= 2 and grade < 3:\n",
        "    print(24)\n",
        "elif grade >= 3 and grade < 4:\n",
        "    print(21)\n",
        "elif grade == 18:\n",
        "    print(\"fail\")\n",
        "elif grade < 1:\n",
        "    print(\"invalid grade\")"
      ],
      "metadata": {
        "colab": {
          "base_uri": "https://localhost:8080/"
        },
        "id": "NEFaycKe6EVr",
        "outputId": "76a4d8ad-c371-40d5-b250-e1b62ca509e3"
      },
      "execution_count": 12,
      "outputs": [
        {
          "output_type": "stream",
          "name": "stdout",
          "text": [
            "Give me a German mark 1\n",
            "30\n"
          ]
        }
      ]
    },
    {
      "cell_type": "markdown",
      "source": [
        "# Exercise bonus (2.6)\n",
        "\n",
        "Prompt the user to insert a value for the variable my_first_variable (number) Create a variable my_second_variable, which is my_first variable multiplied by 3. If my_second_variable is more than 5 or if my_second_variable - my_first_variable is equal to 6 print(\"first condition satisfied\") Else, if my_second_variable is less or equal than 5, print(\"second condition satisfied\")."
      ],
      "metadata": {
        "id": "SqUrsziv_fig"
      }
    },
    {
      "cell_type": "code",
      "source": [
        "my_first_variable = int(input(\"Give me a number \"))\n",
        "my_second_variable = my_first_variable * 3\n",
        "\n",
        "if my_second_variable > 5 or (my_second_variable - my_first_variable) == 6:\n",
        "    print(\"first condition satisfied\")\n",
        "elif my_second_variable <= 5:\n",
        "    print(\"second condition satisfied\")"
      ],
      "metadata": {
        "colab": {
          "base_uri": "https://localhost:8080/"
        },
        "id": "syDRlzWz_O_7",
        "outputId": "377efc75-1239-489e-c9dd-d87c76ef6afa"
      },
      "execution_count": 14,
      "outputs": [
        {
          "output_type": "stream",
          "name": "stdout",
          "text": [
            "Give me a number 1\n",
            "second condition satisfied\n"
          ]
        }
      ]
    },
    {
      "cell_type": "markdown",
      "source": [
        "# Exercise bonus (2.7)\n",
        "\n",
        "Create two variables, start and end, and assign them the values of 0 and 30. Create another two variables, number_1 and number_2, assign them random integers using the randint function and the start and end variables as the parameters. If the first value is greater than the second, multiply it by 2. Then, change the start and end values by doubling them. The new value of number_2 will be the sum between the previous number and another random integer generated using the new start and end variables. If now the first value is less than the second, create a new variable: score_difference which is the subtraction between number_2 and number_1, then print(\"I finally beat you, my score was greater than yours by X points\") where x is the score_difference value. If the first value is still greater than the second, assign a new value to number_1 which is equal to the current value divided (integer division) by 2. Check again, if number_1 is still greater than number_2 print(\"I cannot beat you\"), if number_1 is now less than number_2 create a new variable: score_difference which is the subtraction between number_2 and number_1, then print(\"I finally beat you, my score was greater than yours by X points\") where x is the score_difference value.\n",
        "\n",
        "If the second value is greater than the first, do the opposite."
      ],
      "metadata": {
        "id": "XjDmgkLS__I5"
      }
    },
    {
      "cell_type": "code",
      "source": [
        "from random import randint\n",
        "\n",
        "start = 0\n",
        "end = 30\n",
        "\n",
        "number_1 = randint(start,end)\n",
        "number_2 = randint(start,end)\n",
        "\n",
        "print(\"Number 1 is {}, Number 2 is {}\".format(number_1, number_2))\n",
        "\n",
        "if number_1 > number_2:\n",
        "    number_1 = number_1 * 2\n",
        "    start = start*2\n",
        "    end = end*2\n",
        "    number_2 = number_2 + randint(start,end)\n",
        "    if number_1 < number_2:\n",
        "        score_difference = number_2 - number_1\n",
        "        print(\"I finally beat you, my score was greater than yours by {} points\".format(score_difference))\n",
        "    else:\n",
        "        number_1 = number_1 // 2\n",
        "        if number_1 > number_2:\n",
        "            print(\"I cannot beat you\")\n",
        "        if number_1 < number_2:\n",
        "            score_difference = number_2 - number_1\n",
        "            print(\"I finally beat you, my score was greater than yours by {} points\".format(score_difference))\n",
        "elif number_2 > number_1:\n",
        "    number_2 = number_2 * 2\n",
        "    start = start*2\n",
        "    end = end*2\n",
        "    number_1 = number_1 + randint(start,end)\n",
        "    if number_2 < number_1:\n",
        "        score_difference = number_1 - number_2\n",
        "        print(\"I finally beat you, my score was greater than yours by {} points\".format(score_difference))\n",
        "    else:\n",
        "        number_2 = number_2 // 2\n",
        "        if number_2 > number_1:\n",
        "            print(\"I cannot beat you\")\n",
        "        if number_2 < number_1:\n",
        "            score_difference = number_1 - number_2\n",
        "            print(\"I finally beat you, my score was greater than yours by {} points\".format(score_difference))\n"
      ],
      "metadata": {
        "colab": {
          "base_uri": "https://localhost:8080/"
        },
        "id": "OmiaXSuS_6xf",
        "outputId": "5357bcbd-a8fc-4c2c-c70b-5650ef27149d"
      },
      "execution_count": 17,
      "outputs": [
        {
          "output_type": "stream",
          "name": "stdout",
          "text": [
            "Number 1 is 27, Number 2 is 26\n",
            "I finally beat you, my score was greater than yours by 19 points\n"
          ]
        }
      ]
    },
    {
      "cell_type": "markdown",
      "source": [
        "# Exercise 3.2 (you can find 3.1, 3.3, 3.4 as separate py files)\n",
        "\n",
        "Write a program in PyCharm. Write a list with the following elements [1,3,4,53,2,6,78,100]. Print the sum of the even numbers by iterating on it and finding whether a number is even or odd. Run and test the program"
      ],
      "metadata": {
        "id": "PEpSDOcuB-uO"
      }
    },
    {
      "cell_type": "code",
      "source": [
        "my_list = [1,3,4,53,2,6,78,100]\n",
        "\n",
        "total_of_even = 0\n",
        "\n",
        "for el in my_list:\n",
        "    if el % 2 == 0:\n",
        "        total_of_even = total_of_even + el\n",
        "\n",
        "print(total_of_even)"
      ],
      "metadata": {
        "colab": {
          "base_uri": "https://localhost:8080/"
        },
        "id": "g4-ePBuCBSAG",
        "outputId": "ea490e3e-2373-494d-d9d1-1fe1e906ebad"
      },
      "execution_count": 18,
      "outputs": [
        {
          "output_type": "stream",
          "name": "stdout",
          "text": [
            "190\n"
          ]
        }
      ]
    },
    {
      "cell_type": "markdown",
      "source": [
        "# Exercise 3.6\n",
        "\n",
        "Create a list in python that contains the following vowels (a,e,i,o,u). Write a program in python that prompts the user to enter a string. Create an empty list called non_vowels. Iterate over the string prompted by the user, and add all the characters that are not in the vowel list to the non_vowel list. Sort the list and print it. Run and test the program on PyCharm"
      ],
      "metadata": {
        "id": "HOX_tGWBCk2C"
      }
    },
    {
      "cell_type": "code",
      "source": [
        "vowels = [\"a\",\"e\",\"i\",\"o\",\"u\"]\n",
        "\n",
        "user_string = input(\"Give me a string \")\n",
        "\n",
        "non_vowels = []\n",
        "\n",
        "for character in user_string:\n",
        "    if character not in vowels:\n",
        "        non_vowels.append(character)\n",
        "non_vowels.sort()\n",
        "print(non_vowels)"
      ],
      "metadata": {
        "colab": {
          "base_uri": "https://localhost:8080/"
        },
        "id": "oOPJlDPcCbVj",
        "outputId": "4495032c-00a9-4d9d-b632-26d654861888"
      },
      "execution_count": 19,
      "outputs": [
        {
          "output_type": "stream",
          "name": "stdout",
          "text": [
            "Give me a string bruno\n",
            "['b', 'n', 'r']\n"
          ]
        }
      ]
    },
    {
      "cell_type": "markdown",
      "source": [
        "# Exercise 3.7\n",
        "\n",
        "Create a program that grants the user 3 wishes, while wish_number is less than 3. You can grant a wish. The wish consists in checking whether an element prompted by the user is found inside of a list. If it is found, print \"Wish number of the wish granted, item_name is in the list, if it is not found print \"Wish number of the wish was wasted, item_name is not on the list\". Then, regardless if the wish was successful or not print \"You have number of remaining wishes more wishes\". Remember to increase wish_number after every iteration! Run and test the program on PyCharm"
      ],
      "metadata": {
        "id": "iaBoUCbIDH4G"
      }
    },
    {
      "cell_type": "code",
      "source": [
        "wish_number = 0\n",
        "random_list = [ \"abc\", \"hello\", \"hi\", \"computer science\"]\n",
        "\n",
        "while wish_number < 3:\n",
        "    wish_number = wish_number + 1\n",
        "    wish_element = input(\"Write something you want to check \")\n",
        "    if wish_element in random_list:\n",
        "        print(\"Wish {} granted, {} is in the list\".format(wish_number, wish_element))\n",
        "    else:\n",
        "        print(\"Wish {} wasted, {} is not in the list\".format(wish_number, wish_element))\n",
        "    print(\"You have {} more wishes\".format(3-wish_number))"
      ],
      "metadata": {
        "colab": {
          "base_uri": "https://localhost:8080/"
        },
        "id": "g2QDNlNoDLs1",
        "outputId": "8a76ab06-03ae-4228-e953-0ab2da04a1dd"
      },
      "execution_count": 20,
      "outputs": [
        {
          "output_type": "stream",
          "name": "stdout",
          "text": [
            "Write something you want to check abc\n",
            "Wish 1 granted, abc is in the list\n",
            "You have 2 more wishes\n",
            "Write something you want to check hello\n",
            "Wish 2 granted, hello is in the list\n",
            "You have 1 more wishes\n",
            "Write something you want to check bruno\n",
            "Wish 3 wasted, bruno is not in the list\n",
            "You have 0 more wishes\n"
          ]
        }
      ]
    },
    {
      "cell_type": "code",
      "source": [],
      "metadata": {
        "id": "Fbt9RjM2DBlN"
      },
      "execution_count": null,
      "outputs": []
    }
  ]
}