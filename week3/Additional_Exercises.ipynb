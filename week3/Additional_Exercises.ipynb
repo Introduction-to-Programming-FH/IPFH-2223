{
 "cells": [
  {
   "cell_type": "markdown",
   "id": "5eab1add",
   "metadata": {},
   "source": [
    "# Exercise 6\n",
    "\n",
    "Create a list in python that contains the following vowels (a,e,i,o,u).\n",
    "Write a program in python that prompts the user to enter a string. Create an empty list called **non_vowels**. Iterate over the string prompted by the user, and add all the characters that are not in the vowel list to the **non_vowel** list. Sort the list and print it. Run and test the program on PyCharm\n",
    "\n",
    "# Exercise 7\n",
    "\n",
    "Create a program that grants the user 3 wishes, while wish_number is less than 3. You can grant a wish. The wish consists in checking whether an element prompted by the user is found inside of a list. If it is found, print \"Wish **number of the wish** granted, **item_name** is in the list, if it is not found print \"Wish **number of the wish** was wasted, **item_name** is not on the list\". Then, regardless if the wish was successful or not print \"You have **number of remaining wishes** more wishes\". Remember to increase wish_number after every iteration! Run and test the program on PyCharm"
   ]
  },
  {
   "cell_type": "code",
   "execution_count": null,
   "id": "be57f7fa",
   "metadata": {},
   "outputs": [],
   "source": []
  },
  {
   "cell_type": "code",
   "execution_count": null,
   "id": "c2da92f4",
   "metadata": {},
   "outputs": [],
   "source": []
  }
 ],
 "metadata": {
  "kernelspec": {
   "display_name": "Python 3 (ipykernel)",
   "language": "python",
   "name": "python3"
  },
  "language_info": {
   "codemirror_mode": {
    "name": "ipython",
    "version": 3
   },
   "file_extension": ".py",
   "mimetype": "text/x-python",
   "name": "python",
   "nbconvert_exporter": "python",
   "pygments_lexer": "ipython3",
   "version": "3.10.1"
  }
 },
 "nbformat": 4,
 "nbformat_minor": 5
}
