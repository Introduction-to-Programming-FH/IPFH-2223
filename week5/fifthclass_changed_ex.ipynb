{
 "cells": [
  {
   "cell_type": "markdown",
   "metadata": {
    "id": "HieuxmkNv06f"
   },
   "source": [
    "# Dictionaries, sets and tuples\n",
    "\n",
    "## Dictionaries\n",
    "\n",
    "A dictionary is a collection of **unique** key-value pairs, where each key maps to a value. Dictionaries are unordered, so the order of the elements is not guaranteed. Dictionaries are very useful when you want to access values based on a specific key. Finally, dictionaries are mutable."
   ]
  },
  {
   "cell_type": "markdown",
   "metadata": {
    "id": "IMBrz3MszF0C"
   },
   "source": [
    "### Creating a Dictionary\n",
    "\n",
    "A dictionary can be created using the curly braces **{}** or the built-in **dict()** function. Keys and values are separated by a colon **:** and each key-value pair is separated by a comma **,**."
   ]
  },
  {
   "cell_type": "code",
   "execution_count": 1,
   "metadata": {
    "id": "eR2znG0X04wn"
   },
   "outputs": [
    {
     "name": "stdout",
     "output_type": "stream",
     "text": [
      "{'Name': 'Carl', 'Age': 31, 'Interests': ['Tennis', 'Bouldering', 'Reading']}\n"
     ]
    }
   ],
   "source": [
    "# Creating a dictionary using curly braces\n",
    "my_dict = {\"Name\": \"Carl\", \"Age\": 31, \"Interests\": [\"Tennis\", \"Bouldering\", \"Reading\"]}\n",
    "# Creating a dictionary using dict()\n",
    "my_dict = dict(Name=\"Carl\", Age=31, Interests=[\"Tennis\", \"Bouldering\", \"Reading\"])\n",
    "\n",
    "print(my_dict)\n"
   ]
  },
  {
   "cell_type": "markdown",
   "metadata": {
    "id": "MOuvwkFazB0R"
   },
   "source": [
    "### Accessing Dictionary Values\n",
    "\n",
    "Values in a dictionary can be accessed by their corresponding keys. To access a value, you can use square brackets **[]** with the key or the **get()** method.\n",
    "\n"
   ]
  },
  {
   "cell_type": "code",
   "execution_count": 2,
   "metadata": {
    "id": "Dt-AQ2dX3gmn"
   },
   "outputs": [
    {
     "name": "stdout",
     "output_type": "stream",
     "text": [
      "3\n",
      "6\n"
     ]
    }
   ],
   "source": [
    "my_dict = {\"apple\": 3, \"banana\": 6, \"orange\": 9}\n",
    "\n",
    "# Accessing a value using the key\n",
    "print(my_dict[\"apple\"])\n",
    "\n",
    "# Accessing a value using the get() method\n",
    "print(my_dict.get(\"banana\"))\n"
   ]
  },
  {
   "cell_type": "markdown",
   "metadata": {
    "id": "xfp11z7-3wH1"
   },
   "source": [
    "### Adding and Modifying values\n",
    "\n",
    "You can add a new key-value pair to a dictionary by using the square brackets **[]** and assigning a value to it. If the key already exists, it will update its value.\n"
   ]
  },
  {
   "cell_type": "code",
   "execution_count": 3,
   "metadata": {
    "id": "MO8ctRUdzA8Z"
   },
   "outputs": [
    {
     "name": "stdout",
     "output_type": "stream",
     "text": [
      "{'apple': 5, 'banana': 6, 'orange': 9, 'pear': 4}\n"
     ]
    }
   ],
   "source": [
    "my_dict = {\"apple\": 3, \"banana\": 6, \"orange\": 9}\n",
    "\n",
    "# Adding a new key-value pair\n",
    "my_dict[\"pear\"] = 4\n",
    "\n",
    "# Updating a value\n",
    "my_dict[\"apple\"] = 5\n",
    "\n",
    "print(my_dict)"
   ]
  },
  {
   "cell_type": "markdown",
   "metadata": {
    "id": "u37uRRrn4WqX"
   },
   "source": [
    "### Removing key-values\n",
    "\n",
    "You can remove a key-value pair from a dictionary by using the **del** keyword followed by the key. You can also remove a key-value using the **pop()** method, saving the value in a variable"
   ]
  },
  {
   "cell_type": "code",
   "execution_count": 4,
   "metadata": {
    "id": "_F0gdGvO4R9P"
   },
   "outputs": [
    {
     "name": "stdout",
     "output_type": "stream",
     "text": [
      "{'apple': 3, 'orange': 9}\n",
      "3\n",
      "{'orange': 9}\n"
     ]
    }
   ],
   "source": [
    "my_dict = {\"apple\": 3, \"banana\": 6, \"orange\": 9}\n",
    "\n",
    "# Removing a key-value pair\n",
    "del my_dict[\"banana\"]\n",
    "\n",
    "print(my_dict)\n",
    "\n",
    "deleted = my_dict.pop(\"apple\")\n",
    "\n",
    "print(deleted)\n",
    "print(my_dict)"
   ]
  },
  {
   "cell_type": "markdown",
   "metadata": {
    "id": "dcett6j25Gmo"
   },
   "source": [
    "### Checking Membership\n",
    "\n",
    "You can check whether a key is in a dictionary or not using the **in** keyword"
   ]
  },
  {
   "cell_type": "code",
   "execution_count": 6,
   "metadata": {
    "id": "RsAw426N5Pj-"
   },
   "outputs": [
    {
     "name": "stdout",
     "output_type": "stream",
     "text": [
      "True\n",
      "False\n",
      "{'name': 'Bruno', 'age': 27, 'city': 'Munich', 'country': 'Germany'}\n"
     ]
    }
   ],
   "source": [
    "my_dict = {'name': 'Bruno', 'age': 27, 'city': 'Munich'}\n",
    "print('name' in my_dict)  \n",
    "print('country' in my_dict)   \n",
    "\n",
    "if \"country\" in my_dict:\n",
    "    print(my_dict[\"country\"])\n",
    "else:\n",
    "    my_dict[\"country\"] = \"Germany\"\n",
    "\n",
    "print(my_dict)"
   ]
  },
  {
   "cell_type": "markdown",
   "metadata": {
    "id": "qX5JW5aT5y5N"
   },
   "source": [
    "### Copying Dictionaries\n",
    "\n",
    "Copying dictionaries: You can copy a dictionary using the **copy()** method or the **dictionary constructor**."
   ]
  },
  {
   "cell_type": "code",
   "execution_count": 11,
   "metadata": {
    "id": "CgPdnhyu55nk"
   },
   "outputs": [],
   "source": [
    "my_dict = {'name': 'Bruno', 'age': 27, 'city': 'Munich'}\n",
    "new_dict = my_dict.copy()   # Copies the dictionary using the copy() method\n",
    "another_dict = dict(my_dict)   # Copies the dictionary using the dictionary constructor\n"
   ]
  },
  {
   "cell_type": "markdown",
   "metadata": {
    "id": "ms--wIEx6B3y"
   },
   "source": [
    "### Looping through dictionaries\n",
    "\n",
    "You can loop through a dictionary using a **for** loop. The loop iterates over the keys by default, but you can access the values by using the keys."
   ]
  },
  {
   "cell_type": "code",
   "execution_count": 9,
   "metadata": {
    "id": "tH5JVVfa6UFO"
   },
   "outputs": [
    {
     "name": "stdout",
     "output_type": "stream",
     "text": [
      "3\n",
      "6\n",
      "9\n"
     ]
    }
   ],
   "source": [
    "my_dict = {\"apple\": 3, \"banana\": 6, \"orange\": 9}\n",
    "for key in my_dict:\n",
    "    print(key, my_dict[key])\n"
   ]
  },
  {
   "cell_type": "markdown",
   "metadata": {
    "id": "eG_oj-w96uST"
   },
   "source": [
    "### Dictionary Methods\n",
    "\n",
    "* **keys()**: Returns a dict_keys() object  (acts like a list) of all the keys in the dictionary.\n",
    "* **values()**: Returns a dict_values() object (acts like a list) of all the values in the dictionary.\n",
    "* **items()**: Returns a  dict_items() object (acts like a list of tuples, more on tuples later) of all the key-value pairs in the dictionary.\n"
   ]
  },
  {
   "cell_type": "code",
   "execution_count": 11,
   "metadata": {
    "id": "CSNjfmO366yt"
   },
   "outputs": [
    {
     "name": "stdout",
     "output_type": "stream",
     "text": [
      "['apple', 'banana', 'orange']\n",
      "dict_values([3, 6, 9])\n",
      "dict_items([('apple', 3), ('banana', 6), ('orange', 9)])\n"
     ]
    }
   ],
   "source": [
    "my_dict = {\"apple\": 3, \"banana\": 6, \"orange\": 9}\n",
    "\n",
    "# Getting all the keys\n",
    "print(list(my_dict.keys())) \n",
    "\n",
    "# Getting all the values\n",
    "print(my_dict.values())\n",
    "# Getting all the key-value pairs\n",
    "print(my_dict.items())"
   ]
  },
  {
   "cell_type": "markdown",
   "metadata": {
    "id": "-ZZwLJUK7d_d"
   },
   "source": [
    "## Sets"
   ]
  },
  {
   "cell_type": "markdown",
   "metadata": {
    "id": "nOchiteF7fmU"
   },
   "source": [
    "A set is a **mutable** **unordered** collection of **unique** elements. Sets are useful when you want to eliminate duplicate elements from a list or perform mathematical operations such as union, intersection, and difference."
   ]
  },
  {
   "cell_type": "markdown",
   "metadata": {
    "id": "HiPD_DFE-Z6R"
   },
   "source": [
    "### Creating a Set\n",
    "\n",
    "A set can be created using the built-in **set()** function (also known as constructor method) or using curly braces {}."
   ]
  },
  {
   "cell_type": "code",
   "execution_count": 16,
   "metadata": {
    "id": "Meu5mWBC68yu"
   },
   "outputs": [
    {
     "name": "stdout",
     "output_type": "stream",
     "text": [
      "{1, 2, 3, 4, 8}\n"
     ]
    }
   ],
   "source": [
    "# Creating a set using set()\n",
    "my_set = set([1, 2, 3, 4, 5])\n",
    "\n",
    "# Creating a set using curly braces\n",
    "my_set = {1, 2, 3, 4, 5}\n",
    "\n",
    "# we can also create a set from a list\n",
    "my_list = [1, 2, 2, 3, 3, 4,8,8,8,8,8]\n",
    "my_set = set(my_list)\n",
    "print(my_set)\n"
   ]
  },
  {
   "cell_type": "markdown",
   "metadata": {
    "id": "HK0NYaVN_F7y"
   },
   "source": [
    "### Adding and removing elements from a set\n",
    "\n",
    "You can add elements to a set using the **add()** method.\n",
    "You can remove elements from a set using the **remove()** method."
   ]
  },
  {
   "cell_type": "code",
   "execution_count": 17,
   "metadata": {
    "id": "o_yFHsGu-7wF"
   },
   "outputs": [
    {
     "name": "stdout",
     "output_type": "stream",
     "text": [
      "{1, 2, 3, 4}\n",
      "{1, 3, 4}\n"
     ]
    }
   ],
   "source": [
    "# add elements to a set using add() method\n",
    "my_set = {1, 2, 3}\n",
    "my_set.add(4)\n",
    "print(my_set)\n",
    "\n",
    "# remove an element from a set using remove() method\n",
    "my_set = {1, 2, 3, 4}\n",
    "my_set.remove(2)\n",
    "print(my_set) "
   ]
  },
  {
   "cell_type": "markdown",
   "metadata": {
    "id": "71kkgYNTBgfF"
   },
   "source": [
    "### Checking Memberships in a set\n",
    "\n",
    "You can check whether a set contains a certain element using the **in** keyword."
   ]
  },
  {
   "cell_type": "code",
   "execution_count": 18,
   "metadata": {
    "id": "IE4tQ6AyBfpe"
   },
   "outputs": [
    {
     "name": "stdout",
     "output_type": "stream",
     "text": [
      "True\n",
      "False\n",
      "{1, 3, 4}\n"
     ]
    }
   ],
   "source": [
    "# check if an element is in a set using in keyword\n",
    "my_set = {1, 2, 3}\n",
    "print(2 in my_set)\n",
    "print(4 in my_set)\n",
    "\n",
    "if 2 in my_set:\n",
    "    my_set.remove(2)\n",
    "\n",
    "if 4 not in my_set:\n",
    "    my_set.add(4)\n",
    "\n",
    "print(my_set)"
   ]
  },
  {
   "cell_type": "markdown",
   "metadata": {
    "id": "YHxjaTBcB80P"
   },
   "source": [
    "### Set Operations\n",
    "\n",
    "Union: The union of two sets A and B is a set that contains all the elements from A and all the elements from B. In Python, you use **set1.union(set2)** to perform union."
   ]
  },
  {
   "cell_type": "code",
   "execution_count": 19,
   "metadata": {
    "id": "3TbJG5zZ7fHV"
   },
   "outputs": [
    {
     "name": "stdout",
     "output_type": "stream",
     "text": [
      "{1, 2, 3, 4}\n"
     ]
    }
   ],
   "source": [
    "A = {1, 2, 3}\n",
    "B = {2, 3, 4}\n",
    "C = A.union(B)\n",
    "print(C)\n"
   ]
  },
  {
   "cell_type": "markdown",
   "metadata": {
    "id": "roV9xZnICWYb"
   },
   "source": [
    "Intersection: The intersection of two sets A and B is a set that contains all the elements that are in both sets. In Python, you use **set1.intersection(set2)** to perform intersection."
   ]
  },
  {
   "cell_type": "code",
   "execution_count": 20,
   "metadata": {
    "id": "OPhKNMBPCWA9"
   },
   "outputs": [
    {
     "name": "stdout",
     "output_type": "stream",
     "text": [
      "{2, 3}\n"
     ]
    }
   ],
   "source": [
    "A = {1, 2, 3}\n",
    "B = {2, 3, 4}\n",
    "C = A.intersection(B)\n",
    "print(C)"
   ]
  },
  {
   "cell_type": "markdown",
   "metadata": {
    "id": "tb1ERqqpClIi"
   },
   "source": [
    "Difference: The difference of two sets A and B is a set that contains all the elements that are in set A but not in set B. In Python, you use **set1.difference(set2)** to perform difference. Remember that difference is ordered, so you will get all elements that are in the first set you write, but are not in the second one."
   ]
  },
  {
   "cell_type": "code",
   "execution_count": 21,
   "metadata": {
    "id": "zaPdIdiZC0LG"
   },
   "outputs": [
    {
     "name": "stdout",
     "output_type": "stream",
     "text": [
      "{1}\n",
      "{4}\n"
     ]
    }
   ],
   "source": [
    "A = {1, 2, 3}\n",
    "B = {2, 3}\n",
    "C = A.difference(B)\n",
    "D = B.difference(A)\n",
    "print(C)\n",
    "print(D)\n"
   ]
  },
  {
   "cell_type": "markdown",
   "metadata": {
    "id": "yIx7rWNBC74E"
   },
   "source": [
    "Symmetric Difference: The symmetric difference of two sets A and B is a set that contains all the elements that are in A or B but not in both. In Python, you use **set1.symmetric_difference(set2)** to perform symmetric difference. In this case, the order of sets is irrelevant."
   ]
  },
  {
   "cell_type": "code",
   "execution_count": 22,
   "metadata": {
    "id": "P6XmTHP5C29a"
   },
   "outputs": [
    {
     "name": "stdout",
     "output_type": "stream",
     "text": [
      "{1, 4}\n"
     ]
    }
   ],
   "source": [
    "A = {1, 2, 3}\n",
    "B = {2, 3, 4}\n",
    "C = A.symmetric_difference(B)\n",
    "print(C)\n"
   ]
  },
  {
   "cell_type": "markdown",
   "metadata": {
    "id": "cPiUHogZDL2w"
   },
   "source": [
    "Subset: set A is a subset of set B if all the elements of set A are also in set B. In Python, you use **set1.issubset(set2)** to perform subset checking. The result will be a boolean value."
   ]
  },
  {
   "cell_type": "code",
   "execution_count": 25,
   "metadata": {
    "id": "xkRkUNIiDJ9S"
   },
   "outputs": [
    {
     "name": "stdout",
     "output_type": "stream",
     "text": [
      "True\n"
     ]
    }
   ],
   "source": [
    "A = {1, 2}\n",
    "B = {1, 2, 3}\n",
    "print(A.issubset(B))\n"
   ]
  },
  {
   "cell_type": "markdown",
   "metadata": {
    "id": "mL3gDX5aDiUP"
   },
   "source": [
    "Superset: set A is a superset of set B if all the elements of set B are also in set A. In Python, you use **set1.issuperset(set2)** to perform superset checking. The result will be a boolean value"
   ]
  },
  {
   "cell_type": "code",
   "execution_count": 27,
   "metadata": {
    "id": "NZU4Dsv2DZ6R"
   },
   "outputs": [
    {
     "name": "stdout",
     "output_type": "stream",
     "text": [
      "True\n"
     ]
    }
   ],
   "source": [
    "A = {1, 2,3,5,6}\n",
    "B = {1, 2, 3}\n",
    "print(A.issuperset(B))\n"
   ]
  },
  {
   "cell_type": "markdown",
   "metadata": {
    "id": "ZOm_AyyFD1yu"
   },
   "source": [
    "## Update, a method for both sets and dictionaries\n",
    "\n",
    "### Sets\n",
    "\n",
    "For sets, the **update()** method adds elements to the set from another set or **an iterable**. It modifies the original set and returns None. If the set is updated with another set that has some common elements, those common elements will be removed from the original set (because remember that sets contain unique values, they cannot be repeated). The difference between the **union()** and the **update()** method is that **union()** creates a new set, update changes the original one."
   ]
  },
  {
   "cell_type": "code",
   "execution_count": 30,
   "metadata": {
    "id": "ZcXx8p3fEXyL"
   },
   "outputs": [
    {
     "name": "stdout",
     "output_type": "stream",
     "text": [
      "{1, 2, 3, 4, 5}\n",
      "{1, 2, 3, 4, 5, 6, 7, 8}\n"
     ]
    }
   ],
   "source": [
    "set1 = {1, 2, 3}\n",
    "set2 = {3, 4, 5}\n",
    "set3 = set1.update(set2)\n",
    "print(set1)\n",
    "\n",
    "list1 = [6,7,8]\n",
    "set1.update(list1)\n",
    "print(set1)"
   ]
  },
  {
   "cell_type": "markdown",
   "metadata": {
    "id": "qQG6AC9tFEnL"
   },
   "source": [
    "### Dictionaries\n",
    "\n",
    "For dictionaries, the **update()** method updates a dictionary with key-value pairs from another dictionary or an iterable of key-value pairs. It modifies the original dictionary and returns **None** *(In Python, None is a special value that represents the absence of a value. It is often used to indicate that a function or method did not return a value, or to indicate the absence of a valid value in a variable. It is commonly used as a default value for function arguments or class attributes. When a function or method is called without passing a value for a parameter with a default value of None, the parameter is assigned the value None.)* If a key in the second dictionary already exists in the original dictionary, its corresponding value will be updated with the new value."
   ]
  },
  {
   "cell_type": "code",
   "execution_count": 31,
   "metadata": {
    "id": "ggskHeJrDynD"
   },
   "outputs": [
    {
     "name": "stdout",
     "output_type": "stream",
     "text": [
      "{'a': 1, 'b': 3, 'c': 4}\n"
     ]
    }
   ],
   "source": [
    "dict1 = {'a': 1, 'b': 2}\n",
    "dict2 = {'b': 3, 'c': 4}\n",
    "dict1.update(dict2)\n",
    "print(dict1)\n",
    "\n",
    "# Note that the value for key 'b' in the original dict1 was updated to 3,\n",
    "# which is the value for key 'b' in dict2."
   ]
  },
  {
   "cell_type": "markdown",
   "metadata": {
    "id": "gcFaVvZ7O5O3"
   },
   "source": [
    "## Tuples"
   ]
  },
  {
   "cell_type": "markdown",
   "metadata": {
    "id": "W845J6_wO7ha"
   },
   "source": [
    "In Python, a tuple is an **ordered, immutable** sequence of values. Tuples are similar to lists, but once a tuple is created, its elements cannot be modified."
   ]
  },
  {
   "cell_type": "code",
   "execution_count": 32,
   "metadata": {
    "id": "YY83Og0bD5HZ"
   },
   "outputs": [],
   "source": [
    "my_tuple = (1, 2, 3)"
   ]
  },
  {
   "cell_type": "markdown",
   "metadata": {
    "id": "0_aDUn1rPSmA"
   },
   "source": [
    "Tuples can also be created using the **tuple()** function/constructor method."
   ]
  },
  {
   "cell_type": "code",
   "execution_count": 33,
   "metadata": {
    "id": "xlInWPW1PYTl"
   },
   "outputs": [],
   "source": [
    "my_tuple = tuple([1, 2, 3])"
   ]
  },
  {
   "cell_type": "markdown",
   "metadata": {
    "id": "PjW2HR6jPdPS"
   },
   "source": [
    "### Accessing tuple elements\n",
    "\n",
    "Tuples can be accessed using indexing, just like lists."
   ]
  },
  {
   "cell_type": "code",
   "execution_count": 34,
   "metadata": {
    "id": "6NB6sjHjPZ6S"
   },
   "outputs": [
    {
     "name": "stdout",
     "output_type": "stream",
     "text": [
      "1\n"
     ]
    }
   ],
   "source": [
    "my_tuple = (1, 2, 3)\n",
    "print(my_tuple[0])"
   ]
  },
  {
   "cell_type": "markdown",
   "metadata": {
    "id": "jD8G691XUYHv"
   },
   "source": [
    "Lists and tuples support concatenation and repetition"
   ]
  },
  {
   "cell_type": "code",
   "execution_count": 35,
   "metadata": {
    "id": "40g5_VqfPiW4"
   },
   "outputs": [
    {
     "name": "stdout",
     "output_type": "stream",
     "text": [
      "(1, 2, 3, 3, 4, 5, 6)\n",
      "(1, 2, 3, 1, 2, 3, 1, 2, 3)\n"
     ]
    }
   ],
   "source": [
    "my_tuple1 = (1, 2, 3)\n",
    "my_tuple2 = (3, 4, 5, 6)\n",
    "my_tuple3 = my_tuple1 + my_tuple2\n",
    "print(my_tuple3)\n",
    "\n",
    "my_tuple4 = (1, 2, 3) * 3\n",
    "print(my_tuple4) # you can do the same for lists\n"
   ]
  },
  {
   "cell_type": "markdown",
   "metadata": {
    "id": "cjjPpN95Uq5u"
   },
   "source": [
    "Tuples are often used to group related values together. For example, you might use a tuple to represent a point on a 2D plane, or to represent a date."
   ]
  },
  {
   "cell_type": "code",
   "execution_count": 38,
   "metadata": {
    "id": "0udnK6DyUg7b"
   },
   "outputs": [
    {
     "name": "stdout",
     "output_type": "stream",
     "text": [
      "3\n"
     ]
    }
   ],
   "source": [
    "my_date = (2023, 4, 25)\n",
    "my_point = (3, 4)\n",
    "my_point = (3, 5)\n",
    "a = my_point[0]\n",
    "a = a + 3\n",
    "print(a)"
   ]
  },
  {
   "cell_type": "markdown",
   "metadata": {
    "id": "WQOnGjWPU0BX"
   },
   "source": [
    "Tuples can also be used to return multiple values from a function."
   ]
  },
  {
   "cell_type": "code",
   "execution_count": 39,
   "metadata": {
    "id": "Q2A7wPFcU6Zw"
   },
   "outputs": [
    {
     "name": "stdout",
     "output_type": "stream",
     "text": [
      "('John', 30)\n",
      "John\n",
      "30\n",
      "30\n"
     ]
    }
   ],
   "source": [
    "def get_name_and_age():\n",
    "    name = \"John\"\n",
    "    age = 30\n",
    "    return name, age\n",
    "\n",
    "nameandage = get_name_and_age()\n",
    "a, b = nameandage\n",
    "print(nameandage)\n",
    "print(nameandage[0])\n",
    "print(nameandage[1]) \n",
    "print(b)"
   ]
  },
  {
   "cell_type": "markdown",
   "metadata": {
    "id": "5jnLbkGEVKjk"
   },
   "source": [
    "# Exercises"
   ]
  },
  {
   "cell_type": "markdown",
   "metadata": {
    "id": "pnDZJN7bVNBp"
   },
   "source": [
    "For exercise 5.1 to 5.4, you need to create separate python files named after the function you are asked to create (i.e., function: word_frequencies, filename: word_frequencies.py )\n",
    "\n",
    "## Exercise 5.1\n",
    "\n",
    "Write a function word_frequencies(input_list) that takes a list input_list as input and returns a dictionary that maps each word in the list to the number of times it appears. For example, word_frequencies([\"the\",\"cat\",\"in\",\"the\",\"hat\"]) should return {'the': 2, 'cat': 1, 'in': 1, 'hat': 1}.\n",
    "\n",
    "## Exercise 5.2\n",
    "\n",
    "Write a function vector_addition(v1, v2) that takes two tuples representing vectors formed by pairs of floats and returns their sum as a tuple. For example, vector_addition((1.0, 2.0), (3.0, 4.0)) should return (4.0, 6.0).\n",
    "\n",
    "## Exercise 5.3\n",
    "\n",
    "Write a function named reverse_dict(dict) that takes a dictionary as an argument and returns a new dictionary with the keys and values reversed. For example, if the input dictionary is {'a': 1, 'b': 2, 'c': 3}, the function should return {1: 'a', 2: 'b', 3: 'c'}.\n",
    "\n",
    "## Exercise 5.4\n",
    "\n",
    "Write a function set_operations(set_a,set_b,set_c) that takes in three sets that contain only integers, set_a, set_b, and set_c, and performs the following operations:\n",
    "\n",
    "Finds the union of set_a and set_b, and stores it in a variable called union_ab.\n",
    "Finds the intersection of set_b and set_c, and stores it in a variable called intersect_bc.\n",
    "Finds the difference of union_ab and intersect_bc, and stores it in a variable called diff.\n",
    "Removes any element in diff that is less than or equal to 10, and stores the resulting set in a variable called filtered_diff.\n",
    "Returns filtered_diff.\n",
    "\n",
    "given \n",
    "set_a = {1, 2, 3, 4, 5}\n",
    "set_b = {4, 5, 6, 7, 8}\n",
    "set_c = {5, 6, 7, 8, 9}, the function returns the set {1, 2, 3, 4}\n",
    "\n",
    "\n",
    "## Exercise 5.5\n",
    "\n",
    "Create a file called \"testingclass5exercises.py\" that imports all the functions from the previous exercises and tests them.\n",
    "\n",
    "## Exercise 5.6\n",
    "\n",
    "Create a jupyter notebook called \"week5exercises\", document the functions you have created.\n"
   ]
  },
  {
   "cell_type": "markdown",
   "metadata": {},
   "source": []
  }
 ],
 "metadata": {
  "colab": {
   "provenance": []
  },
  "kernelspec": {
   "display_name": "Python 3 (ipykernel)",
   "language": "python",
   "name": "python3"
  },
  "language_info": {
   "codemirror_mode": {
    "name": "ipython",
    "version": 3
   },
   "file_extension": ".py",
   "mimetype": "text/x-python",
   "name": "python",
   "nbconvert_exporter": "python",
   "pygments_lexer": "ipython3",
   "version": "3.10.1"
  }
 },
 "nbformat": 4,
 "nbformat_minor": 1
}
