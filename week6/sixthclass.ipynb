{
  "cells": [
    {
      "attachments": {},
      "cell_type": "markdown",
      "metadata": {
        "id": "V9zUjVAJiXUi"
      },
      "source": [
        "# Strings Methods, String Manipulation and Regular Expressions"
      ]
    },
    {
      "attachments": {},
      "cell_type": "markdown",
      "metadata": {
        "id": "vjLvjzcnifYV"
      },
      "source": [
        "## Introduction\n",
        "In this class, we will explore some of the most important string methods, string manipulation and regular expressions in Python. These tools will help you manipulate and extract information from text data in a variety of contexts, including data cleaning, natural language processing, and regular expression matching."
      ]
    },
    {
      "cell_type": "code",
      "execution_count": null,
      "metadata": {
        "id": "0CDwaY4jjtwv"
      },
      "outputs": [],
      "source": [
        "string = \"As we know, this is a string. It can contain numbers (1), symbols (@), characters (a)\"\n",
        "# strings are immutable!"
      ]
    },
    {
      "attachments": {},
      "cell_type": "markdown",
      "metadata": {
        "id": "SBvUN9Dgitct"
      },
      "source": [
        "# String Methods\n",
        "\n",
        "String methods allow you to perform common operations on strings, such as finding the length of a string, converting between uppercase and lowercase letters, and splitting strings into substrings.\n",
        "\n",
        "These are some of the existing string methods:\n",
        "\n",
        "\n",
        "\n",
        "1.   len(string)\n",
        "2.   string.upper()\n",
        "3. string.lower()\n",
        "4. string.title()\n",
        "4. string.split()\n",
        "5. string.replace()\n",
        "6. string.format()\n",
        "7. \"separator\".join(string)\n",
        "8. string.find(string2)\n",
        "9. string.index(string2)\n",
        "\n"
      ]
    },
    {
      "attachments": {},
      "cell_type": "markdown",
      "metadata": {
        "id": "ca68zjfRjsgI"
      },
      "source": [
        "The **len()** method returns the length (number of characters, including whitespaces) of the given string."
      ]
    },
    {
      "cell_type": "code",
      "execution_count": null,
      "metadata": {
        "id": "Upoxq8e6iedS"
      },
      "outputs": [],
      "source": [
        "string = \"Hello, world!\"\n",
        "length = len(string)\n",
        "print(length)"
      ]
    },
    {
      "attachments": {},
      "cell_type": "markdown",
      "metadata": {
        "id": "QuLvOFzdkCnY"
      },
      "source": [
        "The **.upper()** method returns a new string in which all the characters are in uppercase. "
      ]
    },
    {
      "cell_type": "code",
      "execution_count": null,
      "metadata": {
        "id": "9boswOJukBGj"
      },
      "outputs": [],
      "source": [
        "string = \"I like screaming\"\n",
        "uppercase = string.upper()\n",
        "print(uppercase) \n"
      ]
    },
    {
      "attachments": {},
      "cell_type": "markdown",
      "metadata": {
        "id": "gGr7COr4ke_E"
      },
      "source": [
        "The **.lower()** method returns a new string in which all the characters are in lowercase."
      ]
    },
    {
      "cell_type": "code",
      "execution_count": null,
      "metadata": {
        "id": "xDJ4_kLgkhlp"
      },
      "outputs": [],
      "source": [
        "string = \"I am QUIET\"\n",
        "lowercase = string.lower()\n",
        "print(lowercase)\n"
      ]
    },
    {
      "attachments": {},
      "cell_type": "markdown",
      "metadata": {
        "id": "ZmMm1cCqks92"
      },
      "source": [
        "The **title()** method returns a new string with the first letter of each word capitalized and the rest of the letters in lowercase."
      ]
    },
    {
      "cell_type": "code",
      "execution_count": null,
      "metadata": {
        "id": "-781g6YlkyZZ"
      },
      "outputs": [],
      "source": [
        "text = \"Hello there\"\n",
        "new_text = text.title()\n",
        "print(new_text)\n",
        "\n",
        "text2 = \"hello there\"\n",
        "new_text2 = text2.title()\n",
        "print(new_text2)\n",
        "\n",
        "text3 = \"HELLO THERE\"\n",
        "new_text3 = text3.title()\n",
        "print(new_text3)\n"
      ]
    },
    {
      "attachments": {},
      "cell_type": "markdown",
      "metadata": {
        "id": "CdErATEtlKBy"
      },
      "source": [
        "The **.replace()** method returns a new string in which all occurrences of a substring in the original string are replaced with another substring."
      ]
    },
    {
      "cell_type": "code",
      "execution_count": null,
      "metadata": {
        "id": "R_kxrxi0la3f"
      },
      "outputs": [],
      "source": [
        "string = \"I do not know how to program in python\"\n",
        "new_string = string.replace(\"do not\", \"do\") # you can also replace the \"not\"\n",
        "# with \"\" <- nothing like new_string = string.replace(\"not\" , \"\")\n",
        "print(new_string)"
      ]
    },
    {
      "attachments": {},
      "cell_type": "markdown",
      "metadata": {
        "id": "Vgv3V8fNlvIz"
      },
      "source": [
        "If you only want to replace the first occurrence of the substring with the other substring you can specify it in the method like this"
      ]
    },
    {
      "cell_type": "code",
      "execution_count": null,
      "metadata": {
        "id": "qssFCCn_l0qU"
      },
      "outputs": [],
      "source": [
        "string = \"I do not know how to program and I do not know how to cook\"\n",
        "\n",
        "new_string = string.replace(\"do not\", \"do\", 1) # or any number of maximum\n",
        "#replacements\n",
        "\n",
        "print(new_string)"
      ]
    },
    {
      "attachments": {},
      "cell_type": "markdown",
      "metadata": {
        "id": "iE4Qt1Q2mHFY"
      },
      "source": [
        "We know the **.format()** method already, it is used to format a string with specified values."
      ]
    },
    {
      "cell_type": "code",
      "execution_count": null,
      "metadata": {
        "id": "GFrjtEKhmM6c"
      },
      "outputs": [],
      "source": [
        "name = \"Bruno\"\n",
        "age = 27\n",
        "subject = \"Introduction to Programming\"\n",
        "uni = \"LMU\"\n",
        "message = \"My name is {} and I am {} years old, I teach {} at {}\".format(name, age, subject, uni)\n",
        "print(message)\n"
      ]
    },
    {
      "attachments": {},
      "cell_type": "markdown",
      "metadata": {
        "id": "rIJuUHTmmjh1"
      },
      "source": [
        "The **.join()** method joins a list of strings into a single string, with the specified separator between each string."
      ]
    },
    {
      "cell_type": "code",
      "execution_count": null,
      "metadata": {
        "id": "MLYyrrqtmr1v"
      },
      "outputs": [],
      "source": [
        "words = [\"Make\", \"me\", \"a\", \"single\", \"string\"]\n",
        "sentence = \" \".join(words)\n",
        "sentencewithhyphen = \"-\".join(words)\n",
        "print(sentence)\n",
        "print(sentencewithhyphen)"
      ]
    },
    {
      "attachments": {},
      "cell_type": "markdown",
      "metadata": {
        "id": "ZOq3wRrznqe1"
      },
      "source": [
        "The **.find()** method finds the first occurrence of a substring in a string and returns the index (original string) of the first character of the substring."
      ]
    },
    {
      "cell_type": "code",
      "execution_count": null,
      "metadata": {
        "id": "EFmV91oCn9Gl"
      },
      "outputs": [],
      "source": [
        "string = \"Hello there\"\n",
        "index = string.find(\"there\")\n",
        "index2 = string.find(\"no\") # returns -1 if it cannot find it\n",
        "print(index)\n",
        "print(index2)"
      ]
    },
    {
      "attachments": {},
      "cell_type": "markdown",
      "metadata": {
        "id": "KL9BqOwtoIft"
      },
      "source": [
        "The **.index()**method is similar to **.find()**, but raises a ValueError if the substring is not found."
      ]
    },
    {
      "cell_type": "code",
      "execution_count": null,
      "metadata": {
        "id": "Ftgwoes8oQN3"
      },
      "outputs": [],
      "source": [
        "string = \"Hello there\"\n",
        "index = string.index(\"there\")\n",
        "print(index)"
      ]
    },
    {
      "attachments": {},
      "cell_type": "markdown",
      "metadata": {
        "id": "zNyc5Reqoo8H"
      },
      "source": [
        "# Other String manipulation things you can do\n",
        "\n",
        "## String Slicing\n",
        "\n",
        "This refers to the ability to extract a portion of a string by specifying a range of indices. Slicing can be done using the square brackets notation, where the start index is included and the end index is excluded."
      ]
    },
    {
      "cell_type": "code",
      "execution_count": null,
      "metadata": {
        "id": "DZX41ELXod19"
      },
      "outputs": [],
      "source": [
        "text = \"Hello there\"\n",
        "print(text[0:5])\n",
        "print(text[6:])   \n",
        "print(text[:5])    \n",
        "print(text[-5:])   \n"
      ]
    },
    {
      "attachments": {},
      "cell_type": "markdown",
      "metadata": {
        "id": "virzLlA0pL8-"
      },
      "source": [
        "## String Addition\n",
        "\n",
        "We know this method already (concatenation). This involves joining two or more strings together using the **+** operator. The result is a new string that is the concatenation of the original strings."
      ]
    },
    {
      "cell_type": "code",
      "execution_count": null,
      "metadata": {
        "id": "9-XETyNHpS9R"
      },
      "outputs": [],
      "source": [
        "string1 = \"Hello\"\n",
        "string2 = \" there\"\n",
        "concatenated_string = string1+string2\n",
        "print(concatenated_string) \n"
      ]
    },
    {
      "attachments": {},
      "cell_type": "markdown",
      "metadata": {
        "id": "NWQLVgAppjfu"
      },
      "source": [
        "## String Multiplication/Repetition\n",
        "\n",
        "This involves repeating a string a given number of times using the **\\*** operator. The result is a new string that consists of the original string repeated the specified number of times."
      ]
    },
    {
      "cell_type": "code",
      "execution_count": null,
      "metadata": {
        "id": "lM3izZoJpzHT"
      },
      "outputs": [],
      "source": [
        "string = \"ha\"\n",
        "print(string * 5)"
      ]
    },
    {
      "attachments": {},
      "cell_type": "markdown",
      "metadata": {
        "id": "O8c5iotTp82J"
      },
      "source": [
        "## String Indexing\n",
        "\n",
        "This refers to the ability to access individual characters in a string by specifying their position (index) within the string. Indexing starts at 0 for the first character, and negative indices can be used to access characters from the end of the string."
      ]
    },
    {
      "cell_type": "code",
      "execution_count": null,
      "metadata": {
        "id": "jkrTJG8Ho689"
      },
      "outputs": [],
      "source": [
        "text = \"Carbonara\"\n",
        "print(text[0])   # prints \"C\"\n",
        "print(text[7])   # prints \"r\"\n",
        "print(text[-1])  # prints \"a\"\n"
      ]
    },
    {
      "cell_type": "code",
      "execution_count": null,
      "metadata": {
        "id": "xgBCzv8zqIpp"
      },
      "outputs": [],
      "source": []
    },
    {
      "attachments": {},
      "cell_type": "markdown",
      "metadata": {
        "id": "H9H6lLHcqYtI"
      },
      "source": [
        "# Regular Expressions\n",
        "\n",
        "Regular expressions (regex) are a powerful tool for searching for patterns in text data. They allow you to match specific characters, words, or patterns within a string.\n",
        "\n",
        "Examples of regular expressions:\n",
        "* \\[ \\] to match any character within a set of characters\n",
        "\n",
        "\n",
        "* . to match any character except a newline character\n",
        "* \\* to match zero or more occurrences of the preceding character or group\n",
        "\n",
        "You can try regex here:\n",
        "\n",
        "https://regex101.com/"
      ]
    },
    {
      "attachments": {},
      "cell_type": "markdown",
      "metadata": {
        "id": "k2q_ZG76t6p-"
      },
      "source": [
        "## Applying Regex to Python\n",
        "\n",
        "**re** is a built-in Python package through which you can use regular expressions.\n",
        "\n",
        "These are some of its methods:\n",
        "\n",
        "\n",
        "* **re.compile()** to compile a regular expression\n",
        "* **re.search()** and re.match() to search for patterns in strings\n",
        "* **re.findall()** to extract all matches from a string\n",
        "* **re.sub()** to replace the find pattern in the string with another substring\n",
        "\n"
      ]
    },
    {
      "attachments": {},
      "cell_type": "markdown",
      "metadata": {
        "id": "6J3LL-d4u4a_"
      },
      "source": [
        "**re.search()** is used to search for a pattern within a string. It returns the first occurrence of the pattern if found, or None if the pattern is not found. "
      ]
    },
    {
      "cell_type": "code",
      "execution_count": null,
      "metadata": {
        "id": "9TCv-bVmu-UY"
      },
      "outputs": [],
      "source": [
        "import re\n",
        "\n",
        "# Search for the pattern 'fox' in the string\n",
        "result = re.search(r'fox', 'The quick brown fox jumps over the lazy dog')\n",
        "\n",
        "# Check if the pattern was found\n",
        "if result:\n",
        "    print('Pattern found')\n",
        "    print(result.group()) #if we do not specify group, it will print\n",
        "    #the entire regex result operator\n",
        "else:\n",
        "    print('Pattern not found')\n"
      ]
    },
    {
      "attachments": {},
      "cell_type": "markdown",
      "metadata": {
        "id": "1UgUHtpavSrN"
      },
      "source": [
        "**re.match()** is used to match a pattern at the beginning of a string. It returns the match object if the pattern is found at the beginning of the string, or None if the pattern is not found."
      ]
    },
    {
      "cell_type": "code",
      "execution_count": null,
      "metadata": {
        "id": "2ajmbqe2vaRZ"
      },
      "outputs": [],
      "source": [
        "import re\n",
        "\n",
        "# Match the pattern 'The' at the beginning of the string\n",
        "result = re.match(r'The', 'The quick brown fox jumps over the lazy dog')\n",
        "\n",
        "# Check if the pattern was found\n",
        "if result:\n",
        "    print('Pattern found')\n",
        "else:\n",
        "    print('Pattern not found')"
      ]
    },
    {
      "attachments": {},
      "cell_type": "markdown",
      "metadata": {
        "id": "xvV_tPNWvv_V"
      },
      "source": [
        "**re.findall()** is used to find all occurrences of a pattern within a string and return them as a list."
      ]
    },
    {
      "cell_type": "code",
      "execution_count": null,
      "metadata": {
        "id": "_VBJ7BG6v0ON"
      },
      "outputs": [],
      "source": [
        "import re\n",
        "\n",
        "# Find all occurrences of the pattern 'cat' in the string\n",
        "result = re.findall(r'cat', 'I have a cat and a kitten, but my neighbor has two cats')\n",
        "\n",
        "# Print the list of occurrences\n",
        "print(result)\n"
      ]
    },
    {
      "attachments": {},
      "cell_type": "markdown",
      "metadata": {
        "id": "VwSMqgBa2dSr"
      },
      "source": [
        "**re.sub()** is used to search for a regular expression pattern in a given string and replace all occurrences of the pattern with a specified string. It takes three arguments:\n",
        "\n",
        "* The regular expression pattern to search for.\n",
        "* The replacement string to replace any matches found.\n",
        "* The string to search and replace in."
      ]
    },
    {
      "cell_type": "code",
      "execution_count": null,
      "metadata": {
        "id": "NqS02QLN2k8n"
      },
      "outputs": [],
      "source": [
        "import re\n",
        "\n",
        "text = \"The quick brown fox jumps over the lazy dog\"\n",
        "regex = r\"\\b\\w{4}\\b\"  # matches 4-letter words\n",
        "\n",
        "new_text = re.sub(regex, \"****\", text)\n",
        "\n",
        "print(new_text)\n"
      ]
    },
    {
      "attachments": {},
      "cell_type": "markdown",
      "metadata": {
        "id": "wwiSL1BVuzxe"
      },
      "source": [
        "**re.compile()** is used to pre-compile a regular expression pattern into a pattern object, which can then be used for various operations."
      ]
    },
    {
      "cell_type": "code",
      "execution_count": null,
      "metadata": {
        "id": "koBxb3mvvofX"
      },
      "outputs": [],
      "source": [
        "import re\n",
        "\n",
        "# Define the regular expression pattern\n",
        "pattern = re.compile(r'\\d+')\n",
        "\n",
        "# Use the pattern object to perform operations\n",
        "result = pattern.findall('I have 2 cats and 3 dogs')\n",
        "print(result)\n",
        "\n",
        "# The re.sub() method returns a new string with all matches replaced.\n",
        "#  Note that the original string text is not modified."
      ]
    },
    {
      "attachments": {},
      "cell_type": "markdown",
      "metadata": {
        "id": "dTW-ax76wDQI"
      },
      "source": [
        "## Other Regular expression examples:\n",
        "\n",
        "1. `^[A-Za-z]+$`\n",
        "- This regular expression matches any string that contains only alphabetic characters. The `^` and `$` anchors ensure that the entire string is made up of letters, without any extra characters at the beginning or end. The character class `[A-Za-z]` matches any uppercase or lowercase letter in the English alphabet, and the `+` quantifier means that the character class must appear at least one or more times in the string. \n",
        "- Limits: This regular expression will not match strings that contain spaces, punctuation marks, or any characters outside of the English alphabet.\n",
        "\n",
        "2. `\\d{3}-\\d{2}-\\d{4}`\n",
        "- This regular expression matches strings that match the format of a standard US social security number. The `\\d` shorthand character class matches any digit character, and the `{3}`, `{2}`, and `{4}` quantifiers specify the exact number of digits that must appear in each section of the social security number. The `-` character matches the literal hyphens that separate the three sections of the social security number.\n",
        "- Limits: This regular expression will not match any social security numbers that deviate from the standard format, such as those with spaces or without hyphens, or those with numbers outside of the allowed ranges for each section.\n",
        "\n",
        "3. `[a-z]+[A-Z]+[0-9]+`\n",
        "- This regular expression matches any string that contains at least one lowercase letter, one uppercase letter, and one numeric digit. The three character classes `[a-z]`, `[A-Z]`, and `[0-9]` match the corresponding characters, and the `+` quantifier means that each character class must appear at least one or more times in the string. The order of the character classes specifies that the lowercase letter must appear before the uppercase letter, which must appear before the numeric digit.\n",
        "- Limits: This regular expression will not match strings that contain spaces, punctuation marks, or any characters outside of the English alphabet and numeric digits.\n",
        "\n",
        "4. `\\b\\w{4,}\\b`\n",
        "- This regular expression matches any word in a string that is at least four characters long. The `\\b` word boundary matches the beginning or end of a word, and the `\\w` shorthand character class matches any word character, including letters, digits, and underscores. The `{4,}` quantifier specifies that the word must be at least four characters long.\n",
        "- Limits: This regular expression will not match any words that contain non-word characters, such as punctuation marks or spaces."
      ]
    },
    {
      "attachments": {},
      "cell_type": "markdown",
      "metadata": {
        "id": "UrltxdBBwPy3"
      },
      "source": [
        "## Even more with code\n",
        "\n",
        "Matching email address: ^[a-zA-Z0-9._%+-]+@[a-zA-Z0-9.-]+\\.[a-zA-Z]{2,}$\n",
        "\n",
        "\n",
        "- `^` - start of the string\n",
        "- `[a-zA-Z0-9._%+-]+` - matches one or more occurrences of any character in the set a-z, A-Z, 0-9, period (.), underscore (_), percent (%), plus (+), or hyphen (-)\n",
        "- `@` - matches the at symbol (@) that separates the username from the domain name\n",
        "- `[a-zA-Z0-9.-]+` - matches one or more occurrences of any character in the set a-z, A-Z, 0-9, period (.), hyphen (-), or underscore (_), which make up the domain name\n",
        "- `\\.` - escapes the period character to match the dot (.) that separates the domain name from the top-level domain (TLD)\n",
        "- `[a-zA-Z]{2,}` - matches two or more occurrences of any character in the set a-z or A-Z, which make up the TLD\n",
        "- `$` - end of the string\n",
        "\n",
        "So, this regular expression will match any email address that consists of one or more occurrences of alphanumeric characters, period, underscore, percent, plus, or hyphen, followed by the at symbol (@), followed by one or more occurrences of alphanumeric characters, period, hyphen, or underscore, followed by a dot (.) and then two or more occurrences of letters from a-z or A-Z. \n",
        "\n",
        "However, it's important to note that this regular expression has some limitations. For example, it doesn't account for all the possible valid characters in an email address, such as some non-ASCII characters. Additionally, it doesn't check if the email address actually exists or is deliverable, just that it follows a general format."
      ]
    },
    {
      "cell_type": "code",
      "execution_count": null,
      "metadata": {
        "id": "fIlav-5Kqmo1"
      },
      "outputs": [],
      "source": [
        "import re\n",
        "\n",
        "email_regex = r'^[a-zA-Z0-9._%+-]+@[a-zA-Z0-9.-]+\\.[a-zA-Z]{2,}$'\n",
        "\n",
        "email1 = 'john.doe@example.com'\n",
        "email2 = 'jane@example'\n",
        "\n",
        "if re.match(email_regex, email1):\n",
        "    print(f\"{email1} is a valid email address\")\n",
        "else:\n",
        "    print(f\"{email1} is not a valid email address\")\n",
        "\n",
        "if re.match(email_regex, email2):\n",
        "    print(f\"{email2} is a valid email address\")\n",
        "else:\n",
        "    print(f\"{email2} is not a valid email address\")\n"
      ]
    },
    {
      "attachments": {},
      "cell_type": "markdown",
      "metadata": {
        "id": "B_Ngibfbwoxk"
      },
      "source": [
        "Match a phone number in a specific format: \\b\\d{3}[-.]?\\d{3}[-.]?\\d{4}\\b\n",
        "\n",
        "- `\\b` is a word boundary anchor that matches the empty string at the beginning or end of a word. In this case, it is used to make sure the phone number is not part of a larger word.\n",
        "- `\\d` is a shorthand character class that matches any digit (equivalent to `[0-9]`).\n",
        "- `{3}` is a quantifier that matches exactly three occurrences of the preceding pattern. In this case, it matches three digits.\n",
        "- `[-.]?` is an optional character class that matches either a hyphen or a dot. The `?` makes the preceding character or character class optional, so the phone number can have either hyphens or dots, or neither.\n",
        "- The pattern `[-.]?` is repeated twice after the three digits, and once after the next three digits, to allow for the optional hyphens or dots between each group of three digits.\n",
        "- `\\b` is used again to match the end of the phone number.\n",
        "\n",
        "So, this regular expression will match phone numbers that have either no separator between the groups of three digits, or have hyphens or dots as separators. The phone number must also be surrounded by word boundaries to ensure it is not part of a larger word. \n",
        "\n",
        "Here are some examples of phone numbers that would match this regular expression:\n",
        "- 555-555-5555\n",
        "- 555.555.5555\n",
        "- 5555555555\n",
        "- 555-5555555\n",
        "- 555.5555555\n",
        "\n",
        "And here are some examples of strings that would not match:\n",
        "- 555555-5555 (missing separator after first group of digits)\n",
        "- 555.555.555 (missing last group of digits)\n",
        "- 555-5555-5555 (too many digits in last group)\n",
        "- (555) 555-5555 (contains non-digit characters)"
      ]
    },
    {
      "cell_type": "code",
      "execution_count": null,
      "metadata": {
        "id": "qbX7pEUIwxwG"
      },
      "outputs": [],
      "source": [
        "import re\n",
        "\n",
        "phone_regex = r'\\b\\d{3}[-.]?\\d{3}[-.]?\\d{4}\\b'\n",
        "\n",
        "\n",
        "text = 'Call me at 555-123-0000 or 555.567.8901 or 044-0000000'\n",
        "\n",
        "phone_numbers = re.findall(phone_regex, text)\n",
        "\n",
        "print(f\"Phone numbers found: {phone_numbers}\")\n"
      ]
    },
    {
      "attachments": {},
      "cell_type": "markdown",
      "metadata": {
        "id": "Edfzzo2WzUfk"
      },
      "source": [
        "Split a string in a list of words through regex: r'\\W+'\n",
        "\n",
        "The regular expression `\\W+` matches one or more non-word characters. In regex, a \"word\" character is usually defined as any alphanumeric character and underscores (`a-z`, `A-Z`, `0-9`, and `_`), while a non-word character is anything that is not a word character. \n",
        "\n",
        "So, the expression `\\W+` will match any sequence of one or more consecutive non-word characters. Examples of non-word characters are spaces, punctuation marks, special characters, etc.\n",
        "\n",
        "For example, if we apply this regular expression to the string \"Hello! How are you?\", it will match the exclamation mark and the space before the word \"How\", resulting in two matches: `['!', ' ']`."
      ]
    },
    {
      "cell_type": "code",
      "execution_count": null,
      "metadata": {
        "id": "PUROUGspzi6J"
      },
      "outputs": [],
      "source": [
        "import re\n",
        "\n",
        "text = 'The quick brown fox jumps over the lazy dog'\n",
        "\n",
        "words = re.split(r'\\W+', text)\n",
        "\n",
        "print(words)\n"
      ]
    },
    {
      "attachments": {},
      "cell_type": "markdown",
      "metadata": {
        "id": "JpHVUfStzv3m"
      },
      "source": [
        "Extracting all the URLS from a string r'https?://\\S+'\n",
        "\n",
        "This regular expression matches URLs starting with either \"http://\" or \"https://\", followed by one or more non-space characters (denoted by \\S+) until the end of the URL is reached. The ? after s makes the s optional, so the regular expression will match both \"http://\" and \"https://\".\n",
        "\n",
        "For example, it would match \"https://www.google.com\", \"http://example.com/page.html\", but would not match \"ftp://example.com\" because it does not start with \"http://\" or \"https://\".\n",
        "\n",
        "Overall, this regular expression is useful for extracting URLs from text data, such as web pages or social media posts."
      ]
    },
    {
      "cell_type": "code",
      "execution_count": null,
      "metadata": {
        "id": "t5xKekklwixy"
      },
      "outputs": [],
      "source": [
        "import re\n",
        "\n",
        "text = 'Visit my website at https://www.example.com or http://example.com'\n",
        "\n",
        "url_regex = r'https?://\\S+'\n",
        "\n",
        "urls = re.findall(url_regex, text)\n",
        "\n",
        "print(urls)\n"
      ]
    },
    {
      "attachments": {},
      "cell_type": "markdown",
      "metadata": {
        "id": "naQzVxQP0LST"
      },
      "source": [
        "# Exercises\n",
        "\n",
        "\n",
        "For each of the exercise you need to create a different \".py\" file. You can choose the name for each function!\n",
        "\n",
        "1. Write a function that takes a string as input and returns the number of words in the string. A word is defined as a sequence of characters separated by whitespace.\n",
        "\n",
        "2. Write a function that takes a string as input and returns the number of sentences in the string. A sentence is defined as a sequence of words ending with a punctuation mark (. or ! or ?).\n",
        "\n",
        "3. Write a function that takes a string as input and returns the string with all the vowels removed.\n",
        "\n",
        "4. Write a function that takes a list of phone numbers and returns a dictionary where the keys are the area codes and the values are lists of phone numbers that belong to each area code. Assume all phone numbers have the format \"XXX-XXX-XXXX\" or \"(XXX) XXX-XXXX\", where X is a digit. Use regular expressions to extract the area code from each phone number, and use a dictionary to store the results.\n",
        "\n",
        "\n",
        "5. Write a function that takes a string as input and returns a list of all the unique words in the string, sorted alphabetically. Use regular expressions to split the string into words, and use a set to store the unique words.\n",
        "\n",
        "6. Write a function that takes a dictionary structured like this as input:"
      ]
    },
    {
      "cell_type": "code",
      "execution_count": null,
      "metadata": {
        "id": "4YGa4_8mz6bq"
      },
      "outputs": [],
      "source": [
        "input_dict = {\"Bruno\":[\"hello@lmu.de\", \"hi@gmail.com\", \"yes@dkes.fak12.lmu.de\"], \"John\":[\"john@live.it\", \"johnlive.it\", \"john@lmu.de\"]}"
      ]
    },
    {
      "attachments": {},
      "cell_type": "markdown",
      "metadata": {
        "id": "eLSGip5I1B9i"
      },
      "source": [
        "And return a list of valid lmu emails (either ending with \"@lmu.de\" or \"@dkes.fak12.lmu.de\". The result for that dictionary would be: [\"hello@lmu.de\",\"yes@dkes.fak12.lmu.de\",\"john@lmu.de\"]\n",
        "\n",
        "7. Create a Jupyter notebook and document all the previous exercises"
      ]
    },
    {
      "cell_type": "code",
      "execution_count": null,
      "metadata": {
        "id": "QkjsRxhH1Zar"
      },
      "outputs": [],
      "source": []
    }
  ],
  "metadata": {
    "colab": {
      "provenance": []
    },
    "kernelspec": {
      "display_name": "Python 3",
      "name": "python3"
    },
    "language_info": {
      "name": "python"
    }
  },
  "nbformat": 4,
  "nbformat_minor": 0
}
