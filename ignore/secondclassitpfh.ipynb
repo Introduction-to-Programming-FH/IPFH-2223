{
  "nbformat": 4,
  "nbformat_minor": 0,
  "metadata": {
    "colab": {
      "provenance": []
    },
    "kernelspec": {
      "name": "python3",
      "display_name": "Python 3"
    },
    "language_info": {
      "name": "python"
    }
  },
  "cells": [
    {
      "cell_type": "markdown",
      "source": [
        "# Basic Arithmetics, Conditional statements and comparison operators"
      ],
      "metadata": {
        "id": "F2HZrLHl-BMu"
      }
    },
    {
      "cell_type": "markdown",
      "source": [
        "## Basic Arithmetics\n",
        "\n",
        "Python can perform the following basic arithmetics:\n",
        "\n",
        "| Operation          | Symbol |\n",
        "|--------------------|--------|\n",
        "| Addition           | +      |\n",
        "| Subtraction        | -      |\n",
        "| Multiplication     | *      |\n",
        "| Division           | /      |\n",
        "| Integer division   | //     |\n",
        "| Remainder | %      |\n",
        "| Exponentiation | ** |\n",
        "\n",
        "The operations can be used on numeric values, such as integers and floats which were introduced last week."
      ],
      "metadata": {
        "id": "21Yik0BI-dny"
      }
    },
    {
      "cell_type": "code",
      "source": [
        "# Addition\n",
        "\n",
        "total = 1 + 5\n",
        "print(total)\n",
        "\n",
        "a = 3\n",
        "b = 4\n",
        "\n",
        "totalab = a+b\n",
        "print(totalab)\n",
        "\n",
        "print(totalab+total)"
      ],
      "metadata": {
        "id": "zxZjfM5C_KeR"
      },
      "execution_count": null,
      "outputs": []
    },
    {
      "cell_type": "code",
      "source": [
        "# Subtraction\n",
        "\n",
        "total = 5-1\n",
        "print(total)\n",
        "\n",
        "a = 5\n",
        "b = 3\n",
        "totalab = a - b\n",
        "print(totalab)\n",
        "\n",
        "print(totalab-total)"
      ],
      "metadata": {
        "id": "76zC27Qk_oEb"
      },
      "execution_count": null,
      "outputs": []
    },
    {
      "cell_type": "code",
      "source": [
        "# Multiplication\n",
        "\n",
        "total = 3*3\n",
        "\n",
        "print(total)\n",
        "\n",
        "a = 2\n",
        "b = 10\n",
        "\n",
        "totalab = a * b\n",
        "print(totalab)\n",
        "\n",
        "print(totalab*total)"
      ],
      "metadata": {
        "id": "bGa0xQRK_bhj"
      },
      "execution_count": null,
      "outputs": []
    },
    {
      "cell_type": "code",
      "source": [
        "# Division\n",
        "\n",
        "total = 10/5 #the result will always be a float for a normal division, even if \n",
        "# there is no remainder\n",
        "\n",
        "print(total)\n",
        "\n",
        "a = 6\n",
        "b = 4\n",
        "totalab = a/b\n",
        "\n",
        "print(totalab)\n",
        "\n",
        "print(totalab/total)"
      ],
      "metadata": {
        "id": "f_q3cn-CAIJ6"
      },
      "execution_count": null,
      "outputs": []
    },
    {
      "cell_type": "code",
      "source": [
        "# Integer Division\n",
        "\n",
        "total = 10//5 # the result of will always be an integer for an integer division,\n",
        "# even if there is a remainder\n",
        "\n",
        "print(total)\n",
        "\n",
        "a = 10\n",
        "b = 3\n",
        "totalab = (a//b)\n",
        "\n",
        "print(totalab)\n",
        "\n",
        "print(totalab//total)"
      ],
      "metadata": {
        "id": "A4V5Izq4AcEG"
      },
      "execution_count": null,
      "outputs": []
    },
    {
      "cell_type": "code",
      "source": [
        "# Remainder\n",
        "\n",
        "total = 10 % 3\n",
        "\n",
        "print(total)\n",
        "\n",
        "a = 10\n",
        "b = 6\n",
        "\n",
        "totalab= (a%b)\n",
        "\n",
        "print(totalab)\n",
        "\n",
        "print(total%totalab)"
      ],
      "metadata": {
        "id": "NmUqg-PjAyAh"
      },
      "execution_count": null,
      "outputs": []
    },
    {
      "cell_type": "code",
      "source": [
        "# Exponentiation\n",
        "\n",
        "total = 2**3 # two raised to the power of three\n",
        "\n",
        "print(total)\n",
        "\n",
        "a = 5\n",
        "b = 2\n",
        "\n",
        "totalab = a**b \n",
        "\n",
        "print(totalab)\n",
        "\n",
        "print(total**totalab)\n",
        "\n"
      ],
      "metadata": {
        "id": "yUO_O1hyDPXh"
      },
      "execution_count": null,
      "outputs": []
    },
    {
      "cell_type": "markdown",
      "source": [
        "### Ordering\n",
        "\n",
        "Python follows this order of operations\n",
        "\n",
        "\n",
        "\n",
        "1.   Parenthesis\n",
        "2.   (Exponentiation)\n",
        "3.   Multiplication, division, remainder (left to right)\n",
        "4.   Addition and subtraction (left to right)\n",
        "\n"
      ],
      "metadata": {
        "id": "zbo8rYLFB7Zt"
      }
    },
    {
      "cell_type": "code",
      "source": [
        "total = 3 * 5 % 4 - (5 + 7) / 2**2\n",
        "print(total)\n"
      ],
      "metadata": {
        "id": "B21ixU9MBOtW"
      },
      "execution_count": null,
      "outputs": []
    },
    {
      "cell_type": "markdown",
      "source": [
        "## Conditional Statements and Comparison Operators\n",
        "\n",
        "We use conditional statements in Python to decide what to do based on the value of a boolean expression. ( Reminder that Boolean datatypes can only be ´´True´´ or ´´False´´"
      ],
      "metadata": {
        "id": "9oSdKFc7HE2j"
      }
    },
    {
      "cell_type": "code",
      "source": [
        "condition = True\n",
        "\n",
        "if condition is True: #conditions are nested, everything that is happens if  a\n",
        "                        # condition is satisfied must be indented\n",
        "    print(\"hello\")"
      ],
      "metadata": {
        "id": "gkxbfpOOD7fp"
      },
      "execution_count": null,
      "outputs": []
    },
    {
      "cell_type": "code",
      "source": [
        "condition = True\n",
        "\n",
        "if condition: # you do not need to specify \"is True\"\n",
        "    print(\"hello\")"
      ],
      "metadata": {
        "id": "ODPx9Za8HvCz"
      },
      "execution_count": null,
      "outputs": []
    },
    {
      "cell_type": "code",
      "source": [
        "a = False\n",
        "\n",
        "if a:\n",
        "    print(\"this is not getting printed\")\n",
        "else:\n",
        "    print(\"this is getting printed\")"
      ],
      "metadata": {
        "id": "xyKdIiyDHyMl"
      },
      "execution_count": null,
      "outputs": []
    },
    {
      "cell_type": "markdown",
      "source": [
        "### Comparison Operators"
      ],
      "metadata": {
        "id": "SithBfIiIyYR"
      }
    },
    {
      "cell_type": "markdown",
      "source": [
        "Comparison operators are used to compare values. The result of a comparison operation is a boolean value, so ´´True´´ or ´´False´´ depending on the result.\n",
        "\n",
        "Comparison operators include:\n",
        "\n",
        "\n",
        "\n",
        "*   ´´==´´ (equals): it will return ´´True´´ if the two compared values are equal\n",
        "*   ´´!=´´ (not equals): it will return ´´True´´ if the two values not not equal\n",
        "*   ´´<´´ (less than): it will return ´´True´´ if the first value is less than the second value\n",
        "*   ´´>´´ (greater than): it will return ´´True´´ if the first value is greater than the second value\n",
        "*   ´´<=´´ (less than or equal to): it will return ´´True´´ if the first value is less than or equal to the second value\n",
        "*   ´´>=´´ (greater than or equal to): it will return ´´´True´´ if the first value is greather than or equal to the second one.\n",
        "\n",
        "\n",
        "\n"
      ],
      "metadata": {
        "id": "gHCZk9tfI1N9"
      }
    },
    {
      "cell_type": "code",
      "source": [
        "a = 10\n",
        "b = 9\n",
        "\n",
        "print(a == b)\n",
        "print(a != b)\n",
        "print(a < b)\n",
        "print(a > b)\n",
        "print(a <= b)\n",
        "print(a >= b)"
      ],
      "metadata": {
        "id": "3fcbQ-nYJ6vV"
      },
      "execution_count": null,
      "outputs": []
    },
    {
      "cell_type": "markdown",
      "source": [
        "### Logical Operators\n",
        "\n",
        "Logical operators are used to combine boolean expressions. There exist the following logical operators (not all of them are built in in python)\n",
        "\n",
        "\n",
        "\n",
        "*   ´´not´´ it will return the opposite of the boolean expression (not(True) = False)\n",
        "*   ´´and´´ it will return True if both expressions are True, otherwise False\n",
        "*   ´´ór´´ it will return True if at least one of the expressions is True, otherwise False\n",
        "*    ´´nor´´ it will return True if both expressions are False, otherwise False\n",
        "*    ´´nand´´ it will return True if at least one expression is False, otherwise False\n",
        "*    ´´xor´´ it will return True if one expression is different from the other (one must be True and the other False), otherwise False\n",
        "\n",
        "This is a table to show you all the possibilities with logical operators\n",
        "\n",
        "| a     | b     | not a | not b | a and b | a or b | a nor b | a xor b | a nand b |\n",
        "|-------|-------|-------|-------|---------|--------|---------|---------|--------|\n",
        "| False | False | True  | True  | False   | False  | True    | False   | True |\n",
        "| False | True  | True  | False | False   | True   | False   | True    | True |\n",
        "| True  | False | False | True  | False   | True   | False   | True    | True |\n",
        "| True  | True  | False | False | True    | True   | False   | False   | False |\n",
        "\n"
      ],
      "metadata": {
        "id": "Y-t-jq4EKneb"
      }
    },
    {
      "cell_type": "code",
      "source": [
        "a = True\n",
        "b = False\n",
        "\n",
        "# Negating a boolean expression with 'not'\n",
        "print(not a)  # False\n",
        "print(not b)  # True\n",
        "\n",
        "# Combining boolean expressions with 'and' and 'or'\n",
        "print(a and b)  # False\n",
        "print(a or b)   # True\n",
        "\n",
        "# Simulating the 'nor' operator with 'not' and 'or'\n",
        "print(not (a or b))  # False\n",
        "\n",
        "# Simulating the 'xor' operator\n",
        "print((a and not b) or (not a and b))  # True\n",
        "\n",
        "# Simulating the 'nand' expression with 'not' and 'and'\n",
        "print(not( a and b))"
      ],
      "metadata": {
        "id": "QwntGu2XMMgP"
      },
      "execution_count": null,
      "outputs": []
    },
    {
      "cell_type": "markdown",
      "source": [
        "### Nested Conditional Statements\n",
        "\n",
        "You can nest multiple conditional statements in Python, or have a series of \"if-else\". You can also use the \"elif\" statement to combine if and else together."
      ],
      "metadata": {
        "id": "x3A8oJfSQjJ_"
      }
    },
    {
      "cell_type": "code",
      "source": [
        "a = 5\n",
        "b = 10\n",
        "\n",
        "if a == b:\n",
        "    print(\"no\")\n",
        "else:\n",
        "    if a < b:\n",
        "        print(\"yes\")"
      ],
      "metadata": {
        "id": "WfRqh0JtM91V"
      },
      "execution_count": null,
      "outputs": []
    },
    {
      "cell_type": "code",
      "source": [
        "a = 5\n",
        "b = 10\n",
        "\n",
        "if a == b:\n",
        "    print(\"no\")\n",
        "elif a < b:\n",
        "    print(\"yes\")"
      ],
      "metadata": {
        "id": "Q8oBJbTQQ_bf"
      },
      "execution_count": null,
      "outputs": []
    },
    {
      "cell_type": "code",
      "source": [
        "a = 5\n",
        "b = 10\n",
        "\n",
        "if a == b:\n",
        "    print(\"no\")\n",
        "elif a < b:\n",
        "    print(\"Yes and stop\")\n",
        "elif a <= b:\n",
        "    print(\"Yes and continue\")"
      ],
      "metadata": {
        "id": "qv4SVOGdRF2p"
      },
      "execution_count": null,
      "outputs": []
    },
    {
      "cell_type": "code",
      "source": [
        "a = 5\n",
        "b = 10\n",
        "\n",
        "if a == b:\n",
        "    print(\"no\")\n",
        "if a < b:\n",
        "    print(\"Yes and stop?\") #if you do not write an else statement, python will\n",
        "    # not stop checking for ifs even after one that is actually satisfied\n",
        "if a <= b:\n",
        "    print(\"Yes and continue!\")"
      ],
      "metadata": {
        "id": "dlWxN6n0RSr8"
      },
      "execution_count": null,
      "outputs": []
    },
    {
      "cell_type": "code",
      "source": [
        "a = 5\n",
        "b = 10\n",
        "\n",
        "if a + b > 5 and a - b < 0:\n",
        "    print(\"yes\")\n",
        "if a - b >= 5 and a * b < 1:\n",
        "    print(\"no\")\n",
        "else: #this else only refers to the second if, not the first one\n",
        "    print(\"yes\")"
      ],
      "metadata": {
        "id": "IRw-q73URuO1"
      },
      "execution_count": null,
      "outputs": []
    },
    {
      "cell_type": "code",
      "source": [
        "a = 5\n",
        "b = 10\n",
        "\n",
        "if a + b > 5 and a - b < -100: #in fact here this does not trigger the else\n",
        "    print(\"yes\")\n",
        "if a - b >= -5 and a * b < 100:\n",
        "    print(\"triggered the second if\")\n",
        "else: #this else only refers to the second if, not the first one\n",
        "    print(\"triggered the else\")"
      ],
      "metadata": {
        "id": "mmfT2eXGRc8o"
      },
      "execution_count": null,
      "outputs": []
    },
    {
      "cell_type": "code",
      "source": [
        "a = 5\n",
        "b = 10\n",
        "\n",
        "if a + b > 10:\n",
        "    print(\"we go to level 2\")\n",
        "    if a * b > 40:\n",
        "        print(\"we go to level 3\")\n",
        "        if a // b >= 0:\n",
        "            print(\"we go to level 4\")\n",
        "            if a % b < 4:\n",
        "                print(\"We finish\")\n",
        "            else:\n",
        "                print(\"level 4 trigger\")\n",
        "        else:\n",
        "            print(\"level 3 trigger\")\n",
        "    else:\n",
        "        print(\"level 2 trigger\")\n",
        "else:\n",
        "    (print(\"level 1 trigger\"))"
      ],
      "metadata": {
        "id": "2u15hwLHSHGq"
      },
      "execution_count": null,
      "outputs": []
    },
    {
      "cell_type": "markdown",
      "source": [
        "# Exercises"
      ],
      "metadata": {
        "id": "BwVF9biITtyr"
      }
    },
    {
      "cell_type": "markdown",
      "source": [
        "## Exercise 2.1\n",
        "\n",
        "Write a program in PyCharm that prompts the User for their age and if they are not 18 yet it prints them a message saying \"you will turn 18 in X years\", if they are 18 it prints them a message saying \"You are 18!\", if they are older than 18 it prints them a message saying \"you turned 18 X years ago\". Run it and test it.\n",
        "\n",
        "## Exercise 2.2\n",
        "\n",
        "Write a program in PyCharm that prompts the User for two numbers. It will print the sum of the two numbers if they are both even, the subtraction if they are both odd, and the multiplication if one of them is even and one is odd\n",
        "\n",
        "**Hint**: remainder operation might be useful at a certain point of this exercise\n",
        "\n",
        "Run it and test it.\n",
        "\n",
        "## Exercise 2.3\n",
        "\n",
        "Write a program in PyCharm that prompts the User for the radius of a circle and it prints the area of a circle (the area of a circle is radius raised to the power of two, multiplied with the pi) you can use this to get the correct value of pi. Run it and test it"
      ],
      "metadata": {
        "id": "xFBpdb3qTwc7"
      }
    },
    {
      "cell_type": "code",
      "source": [
        "import math\n",
        "\n",
        "pi = math.pi\n",
        "\n",
        "# print(pi)\n",
        "# uncomment the line above to print it just to test it"
      ],
      "metadata": {
        "id": "c7jdqtHUWIoL"
      },
      "execution_count": 41,
      "outputs": []
    },
    {
      "cell_type": "markdown",
      "source": [
        "## Exercise 2.4\n",
        "\n",
        "Write a program in PyCharm that prompts the User for a grade from 1 to 4 and it prints the corresponding italian score according to the following criteria:\n",
        "\n",
        "\n",
        "*   If the grade is 1, print 30\n",
        "*   If the grade is more than 1 and less than 2, print 27\n",
        "*   If the grade is more or equal than 2 and less than 3, print 24\n",
        "*   If the grade is more or equal than 3 and less than 4, print 21\n",
        "*   If the grade is 4, print 18\n",
        "*   If the grade is less than 4, print \"fail\"\n",
        "*   If the grade is less than 1, print \"invalid grade\"\n",
        "\n",
        "Test it and run it\n",
        "\n"
      ],
      "metadata": {
        "id": "0vaSKpezW3e_"
      }
    },
    {
      "cell_type": "markdown",
      "source": [
        "## Exercise 2.5\n",
        "\n",
        "Open a jupyter notebook called \"week2exercises\". Paste all the previously created exercises, styling the notebook with markdown description of each exercise."
      ],
      "metadata": {
        "id": "ltCxe-lQX1to"
      }
    }
  ]
}