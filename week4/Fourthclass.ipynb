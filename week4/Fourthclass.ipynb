{
  "nbformat": 4,
  "nbformat_minor": 0,
  "metadata": {
    "colab": {
      "provenance": []
    },
    "kernelspec": {
      "name": "python3",
      "display_name": "Python 3"
    },
    "language_info": {
      "name": "python"
    }
  },
  "cells": [
    {
      "cell_type": "markdown",
      "source": [
        "# Functions and Modules"
      ],
      "metadata": {
        "id": "KXuv0mN9UTyC"
      }
    },
    {
      "cell_type": "markdown",
      "source": [
        "Functions are essential concepts in programming that allow you to write reusable blocks of code. Functions are named blocks of code that take in inputs (called arguments or parameters) and return some output. You can think of functions as a way to \"package\" a piece of code and (re)-use it multiple times."
      ],
      "metadata": {
        "id": "lZsUurC0UZO4"
      }
    },
    {
      "cell_type": "markdown",
      "source": [
        "## Defining Functions\n",
        "\n",
        "To define a function in Python, you use the \"**def**\" keyword followed by the **name of the function** and a **set of parentheses**. If the function takes in any arguments, you can specify them in the parentheses. The code block for the function is **indented** below the definition.\n",
        "\n",
        "Here is an example of a function:"
      ],
      "metadata": {
        "id": "DX4UnrBHVlX_"
      }
    },
    {
      "cell_type": "code",
      "source": [
        "def greetings(name):\n",
        "    greeting_string = \"Hello \" + name\n",
        "    return greeting_string"
      ],
      "metadata": {
        "id": "BAVrxjGBV5NT"
      },
      "execution_count": null,
      "outputs": []
    },
    {
      "cell_type": "markdown",
      "source": [
        "The arguments are optional and can be used to pass data into the function.\n",
        "The return statement is also optional and is used to return a value from the function."
      ],
      "metadata": {
        "id": "irqXY6YTqD-N"
      }
    },
    {
      "cell_type": "markdown",
      "source": [
        "## Calling functions"
      ],
      "metadata": {
        "id": "ZM7wbYk-V5tr"
      }
    },
    {
      "cell_type": "markdown",
      "source": [
        "Once you've defined a function, you can call it anywhere in your code by using the **function name followed by parentheses**. If the function takes in any arguments, you include them in the parentheses."
      ],
      "metadata": {
        "id": "mdkpjzvvWLae"
      }
    },
    {
      "cell_type": "code",
      "source": [
        "greet_me = greetings(\"Bruno\")\n",
        "print(greet_me)"
      ],
      "metadata": {
        "id": "YSMCTBNlWQ1Q"
      },
      "execution_count": null,
      "outputs": []
    },
    {
      "cell_type": "markdown",
      "source": [
        "## Default Arguments"
      ],
      "metadata": {
        "id": "-MpIBeJKWaBx"
      }
    },
    {
      "cell_type": "markdown",
      "source": [
        "You can also give your function arguments **default values**. This means that if the argument isn't passed in when the function is called, it will use the default value instead. When you define a function, non-default arguments must be put before default arguments."
      ],
      "metadata": {
        "id": "MnWt0R2yWicv"
      }
    },
    {
      "cell_type": "code",
      "source": [
        "def personalized_greetings(name, greetings=\"Hello\"):\n",
        "    greetings_string = greetings + \" \" + name\n",
        "    return greetings_string # you can also write directly \n",
        "    # return greetings + \" \" + name"
      ],
      "metadata": {
        "id": "mJ3eB1loWlxm"
      },
      "execution_count": null,
      "outputs": []
    },
    {
      "cell_type": "code",
      "source": [
        "print(personalized_greetings(\"Bruno\"))\n",
        "\n",
        "print(personalized_greetings(\"Bruno\", \"Good evening\"))"
      ],
      "metadata": {
        "id": "Yx3mVwnFX_88"
      },
      "execution_count": null,
      "outputs": []
    },
    {
      "cell_type": "markdown",
      "source": [
        "### A note about variables inside functions\n",
        "\n",
        "Variables defined inside a function are considered **local variables**, meaning they only exist within the function. Variables defined outside of a function are considered **global variables,** meaning they can be accessed from anywhere in the code."
      ],
      "metadata": {
        "id": "JjjIUVNkhQgS"
      }
    },
    {
      "cell_type": "code",
      "source": [
        "x = 10 # Global variable\n",
        "\n",
        "def my_function():\n",
        "    x = 5 # Local variable\n",
        "    print(x) # Output: 5\n",
        "\n",
        "my_function()\n",
        "print(x) # Output: 10\n"
      ],
      "metadata": {
        "id": "KAgVZBovhcwk"
      },
      "execution_count": null,
      "outputs": []
    },
    {
      "cell_type": "markdown",
      "source": [
        "## Modules"
      ],
      "metadata": {
        "id": "Hh7K1NYziUki"
      }
    },
    {
      "cell_type": "markdown",
      "source": [
        "Modules are a way to organize your code by putting related functions, classes, and variables into separate files. By doing this, you can keep your code organized and make it easier to maintain.\n",
        "\n",
        "* To create a module, we simply write the code in a separate .py file and import it in our main program using the import statement.\n",
        "\n",
        "Python has a number of built-in modules that can be used directly, such as math, random, and datetime.\n",
        "T\n",
        "* to install external modules, we can use a package manager such as pip or conda."
      ],
      "metadata": {
        "id": "A9SvgkUSicwj"
      }
    },
    {
      "cell_type": "markdown",
      "source": [
        "### Import a module"
      ],
      "metadata": {
        "id": "7JHLcqXRi-U-"
      }
    },
    {
      "cell_type": "markdown",
      "source": [
        "To import a module, we use the **import keyword** followed by the **name of the module**.\n",
        "We can access the definitions and statements in the module using the \"**.**\" notation.\n",
        "For example, to use the \"sqrt()\" function from the math module, we would write: \"math.sqrt(4)\""
      ],
      "metadata": {
        "id": "6qG7WfWnjCt_"
      }
    },
    {
      "cell_type": "code",
      "source": [
        "import math\n",
        "\n",
        "print(math.sqrt(9))"
      ],
      "metadata": {
        "id": "n-Np5eH6jOyi"
      },
      "execution_count": null,
      "outputs": []
    },
    {
      "cell_type": "markdown",
      "source": [
        "We can also give a module a different name using the as keyword. This is useful if the name of the module is long or if we want to avoid naming conflicts."
      ],
      "metadata": {
        "id": "43OKTz2JjWw8"
      }
    },
    {
      "cell_type": "code",
      "source": [
        "import math as m\n",
        "\n",
        "print(m.sqrt(9))\n"
      ],
      "metadata": {
        "id": "a2t0J68Bi_1l"
      },
      "execution_count": null,
      "outputs": []
    },
    {
      "cell_type": "markdown",
      "source": [
        "We can also import specific definitions from a module using the \"**from**\" keyword.\n",
        "This allows us to use the definition without having to use the \".\" notation."
      ],
      "metadata": {
        "id": "2-33n5xPjfSa"
      }
    },
    {
      "cell_type": "code",
      "source": [
        "from math import sqrt\n",
        "\n",
        "print(sqrt(9))\n"
      ],
      "metadata": {
        "id": "omQ_hkkvjlD1"
      },
      "execution_count": null,
      "outputs": []
    },
    {
      "cell_type": "markdown",
      "source": [
        "We can also import multiple definition using the \"**,**\" separator"
      ],
      "metadata": {
        "id": "lLJ34wo8jsE-"
      }
    },
    {
      "cell_type": "code",
      "source": [
        "from math import sqrt, pi\n",
        "\n",
        "print(sqrt(4))\n",
        "print(pi)\n"
      ],
      "metadata": {
        "id": "E6a8W7rFja4n"
      },
      "execution_count": null,
      "outputs": []
    },
    {
      "cell_type": "markdown",
      "source": [
        "## Creating our own modules"
      ],
      "metadata": {
        "id": "0CNWux5qj-Nb"
      }
    },
    {
      "cell_type": "markdown",
      "source": [
        "We can create our own modules by writing the code in a separate **.py** file.\n",
        "Then we can import the module in our main program using the **import** statement.\n",
        "Finally, We can also import specific definitions from our module using the **from** keyword."
      ],
      "metadata": {
        "id": "Q8gGUInQkCLP"
      }
    },
    {
      "cell_type": "code",
      "source": [
        "def greeting(name):\n",
        "    print(\"Hello, \" + name)\n",
        "\n",
        "from mymodule import greeting\n",
        "\n",
        "greeting(\"John\") # Output: Hello, John"
      ],
      "metadata": {
        "id": "I7YiJjK1kNCd"
      },
      "execution_count": null,
      "outputs": []
    },
    {
      "cell_type": "markdown",
      "source": [
        "# Exercises"
      ],
      "metadata": {
        "id": "QG26wOlVqOgq"
      }
    },
    {
      "cell_type": "markdown",
      "source": [
        "## Exercise 4.1\n",
        "\n",
        "Write a function count_vowels(s) that takes a string as input and returns the number of vowels (a, e, i, o, u) in the string. Use a loop to iterate over each character in the string and a conditional statement to check if the character is a vowel. Save the file as \"count_vowels.py\"\n",
        "\n",
        "## Exercise 4.2\n",
        "\n",
        "Write a function is_palindrome(s) that takes a string as input and returns True if the string is a palindrome (i.e., reads the same backwards as forwards), and False otherwise. Use a loop to iterate over each character in the string and a conditional statement to check if the string is a palindrome. Save the file as \"is_palindrome.py\"\n",
        "\n",
        "## Exercise 4.3\n",
        "\n",
        "Write a function merge_sorted_lists(list1, list2) that takes two sorted lists as input and returns a single sorted list that contains all elements of the two input lists. Use a loop to iterate over each element in the two input lists and a conditional statement to compare the elements and add them to the output list in sorted order. Save the file as \"merge_sorged_lists.py\".\n",
        "\n",
        "## Exercise 4.4\n",
        "\n",
        "Write a function angle_calcs(angle) in Python importing the math module to use its sin, cos, and tan functions to calculate the sine, cosine, and tangent of a given angle in degrees. Return the results in a list. Save the file as \"angle_calcs.py\"\n",
        "\n",
        "## Exercise 4.5\n",
        "\n",
        "Create a new python file \"testing.py\". Import all the functions you created in previous exercises from the various files and test them\n",
        "\n",
        "## Exercise 4.6\n",
        "\n",
        "Create a Jupyter file \"week4exercises\". Describe each function you have created using markdown syntax, then paste the function in the notebook."
      ],
      "metadata": {
        "id": "01uKdGfVqQwa"
      }
    }
  ]
}