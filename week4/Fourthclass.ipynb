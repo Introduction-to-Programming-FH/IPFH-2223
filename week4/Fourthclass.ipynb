{
  "cells": [
    {
      "attachments": {},
      "cell_type": "markdown",
      "metadata": {
        "id": "KXuv0mN9UTyC"
      },
      "source": [
        "# Functions and Modules"
      ]
    },
    {
      "attachments": {},
      "cell_type": "markdown",
      "metadata": {
        "id": "lZsUurC0UZO4"
      },
      "source": [
        "Functions are essential concepts in programming that allow you to write reusable blocks of code. Functions are named blocks of code that take in inputs (called arguments or parameters) and return some output. You can think of functions as a way to \"package\" a piece of code and (re)-use it multiple times."
      ]
    },
    {
      "attachments": {},
      "cell_type": "markdown",
      "metadata": {
        "id": "DX4UnrBHVlX_"
      },
      "source": [
        "## Defining Functions\n",
        "\n",
        "To define a function in Python, you use the \"**def**\" keyword followed by the **name of the function** and a **set of parentheses**. If the function takes in any arguments, you can specify them in the parentheses. The code block for the function is **indented** below the definition.\n",
        "\n",
        "Here is an example of a function:"
      ]
    },
    {
      "cell_type": "code",
      "execution_count": null,
      "metadata": {
        "id": "BAVrxjGBV5NT"
      },
      "outputs": [],
      "source": [
        "def greetings(name):\n",
        "    greeting_string = \"Hello \" + name\n",
        "    return greeting_string"
      ]
    },
    {
      "attachments": {},
      "cell_type": "markdown",
      "metadata": {
        "id": "irqXY6YTqD-N"
      },
      "source": [
        "The arguments are optional and can be used to pass data into the function.\n",
        "The return statement is also optional and is used to return a value from the function."
      ]
    },
    {
      "attachments": {},
      "cell_type": "markdown",
      "metadata": {
        "id": "ZM7wbYk-V5tr"
      },
      "source": [
        "## Calling functions"
      ]
    },
    {
      "attachments": {},
      "cell_type": "markdown",
      "metadata": {
        "id": "mdkpjzvvWLae"
      },
      "source": [
        "Once you've defined a function, you can call it anywhere in your code by using the **function name followed by parentheses**. If the function takes in any arguments, you include them in the parentheses."
      ]
    },
    {
      "cell_type": "code",
      "execution_count": null,
      "metadata": {
        "id": "YSMCTBNlWQ1Q"
      },
      "outputs": [],
      "source": [
        "greet_me = greetings(\"Bruno\")\n",
        "print(greet_me)"
      ]
    },
    {
      "attachments": {},
      "cell_type": "markdown",
      "metadata": {
        "id": "-MpIBeJKWaBx"
      },
      "source": [
        "## Default Arguments"
      ]
    },
    {
      "attachments": {},
      "cell_type": "markdown",
      "metadata": {
        "id": "MnWt0R2yWicv"
      },
      "source": [
        "You can also give your function arguments **default values**. This means that if the argument isn't passed in when the function is called, it will use the default value instead. When you define a function, non-default arguments must be put before default arguments."
      ]
    },
    {
      "cell_type": "code",
      "execution_count": null,
      "metadata": {
        "id": "mJ3eB1loWlxm"
      },
      "outputs": [],
      "source": [
        "def personalized_greetings(name, greetings=\"Hello\"):\n",
        "    greetings_string = greetings + \" \" + name\n",
        "    return greetings_string # you can also write directly \n",
        "    # return greetings + \" \" + name"
      ]
    },
    {
      "cell_type": "code",
      "execution_count": null,
      "metadata": {
        "id": "Yx3mVwnFX_88"
      },
      "outputs": [],
      "source": [
        "print(personalized_greetings(\"Bruno\"))\n",
        "\n",
        "print(personalized_greetings(\"Bruno\", \"Good evening\"))"
      ]
    },
    {
      "attachments": {},
      "cell_type": "markdown",
      "metadata": {
        "id": "JjjIUVNkhQgS"
      },
      "source": [
        "### A note about variables inside functions\n",
        "\n",
        "Variables defined inside a function are considered **local variables**, meaning they only exist within the function. Variables defined outside of a function are considered **global variables,** meaning they can be accessed from anywhere in the code."
      ]
    },
    {
      "cell_type": "code",
      "execution_count": null,
      "metadata": {
        "id": "KAgVZBovhcwk"
      },
      "outputs": [],
      "source": [
        "x = 10 # Global variable\n",
        "\n",
        "def my_function():\n",
        "    x = 5 # Local variable\n",
        "    print(x) # Output: 5\n",
        "\n",
        "my_function()\n",
        "print(x) # Output: 10\n"
      ]
    },
    {
      "attachments": {},
      "cell_type": "markdown",
      "metadata": {
        "id": "Hh7K1NYziUki"
      },
      "source": [
        "## Modules"
      ]
    },
    {
      "attachments": {},
      "cell_type": "markdown",
      "metadata": {
        "id": "A9SvgkUSicwj"
      },
      "source": [
        "Modules are a way to organize your code by putting related functions, classes, and variables into separate files. By doing this, you can keep your code organized and make it easier to maintain.\n",
        "\n",
        "* To create a module, we simply write the code in a separate .py file and import it in our main program using the import statement.\n",
        "\n",
        "Python has a number of built-in modules that can be used directly, such as math, random, and datetime.\n",
        "T\n",
        "* to install external modules, we can use a package manager such as pip or conda."
      ]
    },
    {
      "attachments": {},
      "cell_type": "markdown",
      "metadata": {
        "id": "7JHLcqXRi-U-"
      },
      "source": [
        "### Import a module"
      ]
    },
    {
      "attachments": {},
      "cell_type": "markdown",
      "metadata": {
        "id": "6qG7WfWnjCt_"
      },
      "source": [
        "To import a module, we use the **import keyword** followed by the **name of the module**.\n",
        "We can access the definitions and statements in the module using the \"**.**\" notation.\n",
        "For example, to use the \"sqrt()\" function from the math module, we would write: \"math.sqrt(4)\""
      ]
    },
    {
      "cell_type": "code",
      "execution_count": null,
      "metadata": {
        "id": "n-Np5eH6jOyi"
      },
      "outputs": [],
      "source": [
        "import math\n",
        "\n",
        "print(math.sqrt(9))"
      ]
    },
    {
      "attachments": {},
      "cell_type": "markdown",
      "metadata": {
        "id": "43OKTz2JjWw8"
      },
      "source": [
        "We can also give a module a different name using the as keyword. This is useful if the name of the module is long or if we want to avoid naming conflicts."
      ]
    },
    {
      "cell_type": "code",
      "execution_count": null,
      "metadata": {
        "id": "a2t0J68Bi_1l"
      },
      "outputs": [],
      "source": [
        "import math as m\n",
        "\n",
        "print(m.sqrt(9))\n"
      ]
    },
    {
      "attachments": {},
      "cell_type": "markdown",
      "metadata": {
        "id": "2-33n5xPjfSa"
      },
      "source": [
        "We can also import specific definitions from a module using the \"**from**\" keyword.\n",
        "This allows us to use the definition without having to use the \".\" notation."
      ]
    },
    {
      "cell_type": "code",
      "execution_count": null,
      "metadata": {
        "id": "omQ_hkkvjlD1"
      },
      "outputs": [],
      "source": [
        "from math import sqrt\n",
        "\n",
        "print(sqrt(9))\n"
      ]
    },
    {
      "attachments": {},
      "cell_type": "markdown",
      "metadata": {
        "id": "lLJ34wo8jsE-"
      },
      "source": [
        "We can also import multiple definition using the \"**,**\" separator"
      ]
    },
    {
      "cell_type": "code",
      "execution_count": null,
      "metadata": {
        "id": "E6a8W7rFja4n"
      },
      "outputs": [],
      "source": [
        "from math import sqrt, pi\n",
        "\n",
        "print(sqrt(4))\n",
        "print(pi)\n"
      ]
    },
    {
      "attachments": {},
      "cell_type": "markdown",
      "metadata": {
        "id": "0CNWux5qj-Nb"
      },
      "source": [
        "## Creating our own modules"
      ]
    },
    {
      "attachments": {},
      "cell_type": "markdown",
      "metadata": {
        "id": "Q8gGUInQkCLP"
      },
      "source": [
        "We can create our own modules by writing the code in a separate **.py** file.\n",
        "Then we can import the module in our main program using the **import** statement.\n",
        "Finally, We can also import specific definitions from our module using the **from** keyword."
      ]
    },
    {
      "cell_type": "code",
      "execution_count": null,
      "metadata": {
        "id": "I7YiJjK1kNCd"
      },
      "outputs": [],
      "source": [
        "def greeting(name):\n",
        "    print(\"Hello, \" + name)\n",
        "\n",
        "from mymodule import greeting\n",
        "\n",
        "greeting(\"John\") # Output: Hello, John"
      ]
    },
    {
      "attachments": {},
      "cell_type": "markdown",
      "metadata": {},
      "source": [
        "# Documenting functions: a guideline\n",
        "\n",
        "Now that we know how to write functions, I can give you more details on what it is important to do in both writing the functions, and documenting them.\n",
        "\n",
        "For the writing of the functions:\n",
        "\n",
        "* Use descriptive variable names: use variable names that clearly describe what the variable represents. Avoid using single-letter names, unless they are commonly used (for example \"i\" for a loop index)\n",
        "* Use meaningful function names: use functions names that clearly describe what a function does. Avoid using abbreviations or acronyms that may not be immediately understandable to other developers.\n",
        "* Use comments to explain what the code does in each line (or the most relevant)\n",
        "\n",
        "For the documentation of functions:\n",
        "\n",
        "* Give a brief summary of what the function does. If you are creating the documentation for a series of related functions, give a brief summary of the goal of the series of functions.\n",
        "* Explain each parameter of the function, including whether the parameters or arguments have a default value or not. Specify the datatype expected in each parameter. If the parameter is a list, or any other sequence in Python, describe also the expected datatypes of its members.\n",
        "* Explain what a function returns, if it returns multiple elements, explain them all. If it returns different things according to certain condition, explain them.\n",
        "* Give an example of testing the function with expected parameters, explaining what the expected result would be. Provide both a description of this and blocks of code that test the function. If the function gives different results according to conditional statements, make sure that you give more than one testing example so that you can cover many different possibilities"
      ]
    },
    {
      "cell_type": "code",
      "execution_count": null,
      "metadata": {},
      "outputs": [],
      "source": [
        "\n",
        "def calculate_average(numbers):\n",
        "    if len(numbers) == 0:\n",
        "        return 0\n",
        "    else:\n",
        "        total = sum(numbers)\n",
        "        return total / len(numbers)"
      ]
    },
    {
      "attachments": {},
      "cell_type": "markdown",
      "metadata": {},
      "source": [
        "The function \"calculate_average\" calculates the average of a list of numbers.\n",
        "\n",
        "Parameters:\n",
        "numbers (list). A list of numbers (integers or floats) to be averaged\n",
        "returns: the function returns a float which is the average of the numbers in the list.\n",
        "Examples:\n",
        "If we run the function \"calculate_average\" using the list [1,2,3,4,5] it will return 3.0 as the result"
      ]
    },
    {
      "cell_type": "code",
      "execution_count": null,
      "metadata": {},
      "outputs": [],
      "source": [
        "def calculate_average(numbers):\n",
        "    if len(numbers) == 0: # If the list is empty, return 0 to avoid a division by zero error.\n",
        "        return 0\n",
        "    else:\n",
        "        total = sum(numbers) # Calculate the sum of the numbers in the list.\n",
        "        return total / len(numbers) # Calculate the average by dividing the sum by the length of the list.\n"
      ]
    },
    {
      "cell_type": "code",
      "execution_count": null,
      "metadata": {},
      "outputs": [],
      "source": [
        "calculate_average([1,2,3,4,5]) #it should return 3.0"
      ]
    },
    {
      "attachments": {},
      "cell_type": "markdown",
      "metadata": {
        "id": "QG26wOlVqOgq"
      },
      "source": [
        "# Exercises"
      ]
    },
    {
      "attachments": {},
      "cell_type": "markdown",
      "metadata": {
        "id": "01uKdGfVqQwa"
      },
      "source": [
        "## Exercise 4.1\n",
        "\n",
        "Write a function count_vowels(s) that takes a string as input and returns the number of vowels (a, e, i, o, u) in the string. Use a loop to iterate over each character in the string and a conditional statement to check if the character is a vowel. Save the file as \"count_vowels.py\"\n",
        "\n",
        "## Exercise 4.2\n",
        "\n",
        "Write a function is_palindrome(s) that takes a string as input and returns True if the string is a palindrome (i.e., reads the same backwards as forwards), and False otherwise. Use a loop to iterate over each character in the string and a conditional statement to check if the string is a palindrome. Save the file as \"is_palindrome.py\"\n",
        "\n",
        "## Exercise 4.3\n",
        "\n",
        "Write a function merge_sorted_lists(list1, list2) that takes two sorted lists as input and returns a single sorted list that contains all elements of the two input lists. Use a loop to iterate over each element in the two input lists and a conditional statement to compare the elements and add them to the output list in sorted order. Save the file as \"merge_sorged_lists.py\".\n",
        "\n",
        "## Exercise 4.4\n",
        "\n",
        "Write a function angle_calcs(angle) in Python importing the math module to use its sin, cos, and tan functions to calculate the sine, cosine, and tangent of a given angle in degrees. Return the results in a list. Save the file as \"angle_calcs.py\"\n",
        "\n",
        "## Exercise 4.5\n",
        "\n",
        "Create a new python file \"testing.py\". Import all the functions you created in previous exercises from the various files and test them\n",
        "\n",
        "## Exercise 4.6\n",
        "\n",
        "Create a Jupyter file \"week4exercises\". Document and test the functions you created.\n",
        "\n",
        "## Exercise 4.7\n",
        "\n",
        "Document this function:"
      ]
    },
    {
      "cell_type": "code",
      "execution_count": null,
      "metadata": {},
      "outputs": [],
      "source": [
        "def calculate_sales_tax(prices, tax_rate):\n",
        "    sales_tax = []\n",
        "    for price in prices:\n",
        "        if price > 0:\n",
        "            tax_amount = price * tax_rate\n",
        "            sales_tax.append(tax_amount)\n",
        "        else:\n",
        "            sales_tax.append(0)\n",
        "    return sales_tax\n"
      ]
    },
    {
      "attachments": {},
      "cell_type": "markdown",
      "metadata": {},
      "source": [
        "## Exercise 4.8\n",
        "\n",
        "Document this function:"
      ]
    },
    {
      "cell_type": "code",
      "execution_count": null,
      "metadata": {},
      "outputs": [],
      "source": [
        "def find_smallest_positive(numbers):\n",
        "    positive_numbers = []\n",
        "    for number in numbers:\n",
        "        if number > 0:\n",
        "            positive_numbers.append(number)\n",
        "    if len(positive_numbers) < 1:\n",
        "        return None\n",
        "    smallest_number = positive_numbers[0]\n",
        "    index = 1\n",
        "    while index < len(positive_numbers):\n",
        "        if positive_numbers[index] < smallest_number:\n",
        "            smallest_number = positive_numbers[index]\n",
        "        index += 1\n",
        "    return smallest_number\n"
      ]
    }
  ],
  "metadata": {
    "colab": {
      "provenance": []
    },
    "kernelspec": {
      "display_name": "Python 3",
      "name": "python3"
    },
    "language_info": {
      "name": "python"
    }
  },
  "nbformat": 4,
  "nbformat_minor": 0
}
